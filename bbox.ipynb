{
 "cells": [
  {
   "cell_type": "code",
   "execution_count": 7,
   "metadata": {},
   "outputs": [
    {
     "name": "stderr",
     "output_type": "stream",
     "text": [
      "2023-04-04 16:49:02.133533: I tensorflow/core/platform/cpu_feature_guard.cc:193] This TensorFlow binary is optimized with oneAPI Deep Neural Network Library (oneDNN) to use the following CPU instructions in performance-critical operations:  AVX2 FMA\n",
      "To enable them in other operations, rebuild TensorFlow with the appropriate compiler flags.\n"
     ]
    }
   ],
   "source": [
    "import xml.etree.ElementTree as ET\n",
    "import numpy as np\n",
    "import glob\n",
    "import os\n",
    "import tensorflow as tf\n",
    "import matplotlib\n",
    "import matplotlib.pyplot as plt\n",
    "from six import BytesIO"
   ]
  },
  {
   "cell_type": "code",
   "execution_count": 2,
   "metadata": {},
   "outputs": [
    {
     "name": "stdout",
     "output_type": "stream",
     "text": [
      "Image:/Users/ml/Desktop/E2E_project/object_detection/data/test.png -> Annotation:/Users/ml/Desktop/E2E_project/object_detection/data/test.xml\n"
     ]
    },
    {
     "data": {
      "text/plain": [
       "0"
      ]
     },
     "execution_count": 2,
     "metadata": {},
     "output_type": "execute_result"
    }
   ],
   "source": [
    "#start label img\n",
    "os.system(\"labelimg\")"
   ]
  },
  {
   "cell_type": "code",
   "execution_count": 2,
   "metadata": {},
   "outputs": [],
   "source": [
    "#xml stored in following directory\n",
    "data_dir = \".//data\""
   ]
  },
  {
   "cell_type": "code",
   "execution_count": 3,
   "metadata": {},
   "outputs": [],
   "source": [
    "#get all the xml file names generated after labelling from previous step\n",
    "file_names = []\n",
    "os.chdir(data_dir )\n",
    "for file in glob.glob(\"*.xml\"):\n",
    "    file_names.append(file)"
   ]
  },
  {
   "cell_type": "code",
   "execution_count": 4,
   "metadata": {},
   "outputs": [],
   "source": [
    "bbox_formatted_all = []\n",
    "name_obj_all = []\n",
    "for file_name in file_names:\n",
    "    \n",
    "    tree = ET.parse(file_name)\n",
    "    \n",
    "    root = tree.getroot()\n",
    "\n",
    "    bbox_formatted= []\n",
    "    name_obj_formatted= []\n",
    "    obj_bbox = root.findall('./object')\n",
    "    name_obj = []\n",
    "    for item in obj_bbox:\n",
    "        bbox = []\n",
    "        name_obj.append(item.find('name').text)\n",
    "        bbox_cord= item.find('./bndbox')\n",
    "        bbox.append(\n",
    "            [\n",
    "            bbox_cord.find(\"ymin\").text,\n",
    "            bbox_cord.find(\"xmin\").text,\n",
    "            bbox_cord.find(\"ymax\").text,\n",
    "            bbox_cord.find(\"xmax\").text\n",
    "            ]  \n",
    "        )\n",
    "        bbox_formatted.append((bbox[0]))\n",
    "    bbox_formatted_all.append(np.array(bbox_formatted, dtype = np.float32)/640.0) #640 is both and width dimention.\n",
    "    name_obj_all.append(np.array(name_obj))\n"
   ]
  },
  {
   "cell_type": "code",
   "execution_count": 5,
   "metadata": {},
   "outputs": [],
   "source": [
    "#bbox in npy format, this is saved in data file\n",
    "bbox_fn = 'bbox.npy'\n",
    "with open(bbox_fn, 'wb') as f:\n",
    "    np.save(f, bbox_formatted_all)"
   ]
  },
  {
   "cell_type": "code",
   "execution_count": 6,
   "metadata": {},
   "outputs": [],
   "source": [
    "#index of the class list\n",
    "indices_class_fn = 'indices_class_list.npy'\n",
    "name_obj_all = np.array(name_obj_all).astype(np.int0)\n",
    "with open(indices_class_fn, 'wb') as f:\n",
    "    np.save(f, name_obj_all)"
   ]
  },
  {
   "cell_type": "code",
   "execution_count": null,
   "metadata": {},
   "outputs": [],
   "source": [
    "#utility - visulaization\n",
    "\n",
    "def load_image_into_numpy_array(path):\n",
    "  \"\"\"Load an image from file into a numpy array.\n",
    "\n",
    "  Puts image into numpy array to feed into tensorflow graph.\n",
    "  Note that by convention we put it into a numpy array with shape\n",
    "  (height, width, channels), where channels=3 for RGB.\n",
    "\n",
    "  Args:\n",
    "    path: a file path.\n",
    "\n",
    "  Returns:\n",
    "    uint8 numpy array with shape (img_height, img_width, 3)\n",
    "  \"\"\"\n",
    "  img_data = tf.io.gfile.GFile(path, 'rb').read()\n",
    "  image = Image.open(BytesIO(img_data))\n",
    "  (im_width, im_height) = image.size\n",
    "  #print(\"width, height\",im_width,im_height)\n",
    "  #print(\"image data\",np.array(image.getdata()))\n",
    "  return np.array(image.getdata()).reshape(\n",
    "      (im_height, im_width, 3)).astype(np.uint8)\n",
    "\n"
   ]
  },
  {
   "cell_type": "code",
   "execution_count": null,
   "metadata": {},
   "outputs": [],
   "source": [
    "#visualizing bbox\n",
    "\n",
    "\n",
    "#get all the png file names generated after labelling from previous step\n",
    "image_file_names = []\n",
    "os.chdir(data_dir )\n",
    "for file in glob.glob(\"*.png\"):\n",
    "    image_file_names.append(file)\n",
    "\n",
    "train_images_np = []\n",
    "#for i in range(1):\n",
    "for image_path in image_file_names:\n",
    "  train_images_np.append(load_image_into_numpy_array(image_path))\n",
    "\n",
    "gt_boxes = np.load(bbox_fn)\n",
    "dummy_scores = np.array([1.0], dtype=np.float32)  # give boxes a score of 100%\n",
    "\n",
    "plt.figure(figsize=(30, 15))\n",
    "for idx in range(1):\n",
    "  plt.subplot(2, 3, idx+1)\n",
    "  dummy_scores = tf.convert_to_tensor(np.ones((1, gt_boxes[idx].shape[0]),dtype=np.float32))\n",
    "\n",
    "  \"\"\"CM start \"\"\"\n",
    "  class_id = tf.convert_to_tensor(np.ones((1,gt_boxes[idx].shape[0]), dtype=np.int32))\n",
    "  indices = [[0,1]]\n",
    "  updates = [2]\n",
    "  class_id = tf.tensor_scatter_nd_update(class_id, indices, updates)\n",
    "  \"\"\" CM end \"\"\"\n",
    "\n",
    "  tr_img_expdims = np.expand_dims(train_images_np[idx], axis=0)\n",
    "\n",
    "  plot_detections_tensor(\n",
    "      tf.convert_to_tensor(tr_img_expdims),\n",
    "      tf.convert_to_tensor(np.expand_dims(gt_boxes[idx], axis=0)),\n",
    "      #tf.convert_to_tensor(np.ones((1,gt_boxes[idx].shape[0]), dtype=np.int32)), #original\n",
    "      class_id, #cm\n",
    "      dummy_scores, category_index)\n",
    "plt.show()"
   ]
  }
 ],
 "metadata": {
  "kernelspec": {
   "display_name": "Python 3",
   "language": "python",
   "name": "python3"
  },
  "language_info": {
   "codemirror_mode": {
    "name": "ipython",
    "version": 3
   },
   "file_extension": ".py",
   "mimetype": "text/x-python",
   "name": "python",
   "nbconvert_exporter": "python",
   "pygments_lexer": "ipython3",
   "version": "3.8.0"
  },
  "orig_nbformat": 4
 },
 "nbformat": 4,
 "nbformat_minor": 2
}
