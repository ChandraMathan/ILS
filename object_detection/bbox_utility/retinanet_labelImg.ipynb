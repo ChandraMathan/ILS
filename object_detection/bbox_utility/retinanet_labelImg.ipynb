{
 "cells": [
  {
   "attachments": {},
   "cell_type": "markdown",
   "metadata": {},
   "source": [
    "This notebook contains script that instantiates 'labelImg' window for creating bbox and convert those for retinnanet algorithm to consume. Note that image size is assumed to be 640 x 640"
   ]
  },
  {
   "cell_type": "code",
   "execution_count": 1,
   "metadata": {},
   "outputs": [
    {
     "name": "stderr",
     "output_type": "stream",
     "text": [
      "2023-06-06 12:32:54.778329: I tensorflow/core/platform/cpu_feature_guard.cc:193] This TensorFlow binary is optimized with oneAPI Deep Neural Network Library (oneDNN) to use the following CPU instructions in performance-critical operations:  AVX2 FMA\n",
      "To enable them in other operations, rebuild TensorFlow with the appropriate compiler flags.\n"
     ]
    }
   ],
   "source": [
    "import xml.etree.ElementTree as ET\n",
    "import numpy as np\n",
    "import glob\n",
    "import os\n",
    "import tensorflow as tf\n",
    "import matplotlib\n",
    "import matplotlib.pyplot as plt\n",
    "from six import BytesIO\n",
    "import re"
   ]
  },
  {
   "cell_type": "code",
   "execution_count": 2,
   "metadata": {},
   "outputs": [],
   "source": [
    "#images and xml are to be stored in following directory\n",
    "#data_dir = \"..//data\"\n",
    "data_dir = \"../image_preprocessing/output_data/\""
   ]
  },
  {
   "cell_type": "code",
   "execution_count": 3,
   "metadata": {},
   "outputs": [],
   "source": [
    "#check naming convention of image data. it is expected to be 3 digit numeral. this will help in reducing error moving forward\n",
    "image_file_names = []\n",
    "os.chdir(data_dir)\n",
    "for file in glob.glob(\"*.jpg\"):\n",
    "    image_file_names.append(file)\n",
    "\n",
    "for image_name in image_file_names:\n",
    "    if image_name[3] !='.':\n",
    "        print (\"Error: Not as per required format: Check first 3 digits for this image name:\\n\", image_name)\n",
    "        if not bool(re.match('^[0-9]+$', image_name[0:3])):\n",
    "            print (\"Error: Not as per required format for this image:\\n\", image_name)\n"
   ]
  },
  {
   "cell_type": "code",
   "execution_count": 4,
   "metadata": {},
   "outputs": [
    {
     "name": "stdout",
     "output_type": "stream",
     "text": [
      "Image:/Users/ml/Desktop/ILS/object_detection/image_preprocessing/output_data/100.jpg -> Annotation:/Users/ml/Desktop/ILS/object_detection/image_preprocessing/output_data/100.xml\n",
      "Image:/Users/ml/Desktop/ILS/object_detection/image_preprocessing/output_data/101.jpg -> Annotation:/Users/ml/Desktop/ILS/object_detection/image_preprocessing/output_data/101.xml\n",
      "Image:/Users/ml/Desktop/ILS/object_detection/image_preprocessing/output_data/102.jpg -> Annotation:/Users/ml/Desktop/ILS/object_detection/image_preprocessing/output_data/102.xml\n",
      "Image:/Users/ml/Desktop/ILS/object_detection/image_preprocessing/output_data/103.jpg -> Annotation:/Users/ml/Desktop/ILS/object_detection/image_preprocessing/output_data/103.xml\n",
      "Image:/Users/ml/Desktop/ILS/object_detection/image_preprocessing/output_data/104.jpg -> Annotation:/Users/ml/Desktop/ILS/object_detection/image_preprocessing/output_data/104.xml\n",
      "Image:/Users/ml/Desktop/ILS/object_detection/image_preprocessing/output_data/105.jpg -> Annotation:/Users/ml/Desktop/ILS/object_detection/image_preprocessing/output_data/105.xml\n",
      "Image:/Users/ml/Desktop/ILS/object_detection/image_preprocessing/output_data/106.jpg -> Annotation:/Users/ml/Desktop/ILS/object_detection/image_preprocessing/output_data/106.xml\n",
      "Image:/Users/ml/Desktop/ILS/object_detection/image_preprocessing/output_data/107.jpg -> Annotation:/Users/ml/Desktop/ILS/object_detection/image_preprocessing/output_data/107.xml\n",
      "Image:/Users/ml/Desktop/ILS/object_detection/image_preprocessing/output_data/108.jpg -> Annotation:/Users/ml/Desktop/ILS/object_detection/image_preprocessing/output_data/108.xml\n",
      "Image:/Users/ml/Desktop/ILS/object_detection/image_preprocessing/output_data/109.jpg -> Annotation:/Users/ml/Desktop/ILS/object_detection/image_preprocessing/output_data/109.xml\n"
     ]
    },
    {
     "data": {
      "text/plain": [
       "0"
      ]
     },
     "execution_count": 4,
     "metadata": {},
     "output_type": "execute_result"
    }
   ],
   "source": [
    "#start label img\n",
    "# !important: while labelling ensure that labels are numerical, starting from 100. 100,101,102,103,..... etc.\n",
    "#as the code is designed to handle only the numerals.\n",
    "os.system(\"labelimg\")"
   ]
  },
  {
   "cell_type": "code",
   "execution_count": 7,
   "metadata": {},
   "outputs": [],
   "source": [
    "#get all the xml file names generated after labelling from previous step\n",
    "file_names_xml = []\n",
    "#data_dir = \"..//output_data/\"\n",
    "os.chdir(data_dir)\n",
    "for file in glob.glob(\"*.xml\"):\n",
    "    file_names_xml.append(file)"
   ]
  },
  {
   "cell_type": "code",
   "execution_count": 8,
   "metadata": {},
   "outputs": [],
   "source": [
    "#ensure number of images equals number of xml and then organize file name in ascending order\n",
    "\n",
    "if len(file_names_xml) != len(image_file_names):\n",
    "    print(\"Error: Inconsistent number of xml and image files\")\n",
    "\n",
    "file_names_sorted = []\n",
    "for file in file_names_xml:\n",
    "    file_names_sorted.append(int(file[0:3]))\n",
    "\n",
    "file_names_sorted.sort()\n",
    "file_names = [str(x)+'.xml' for x in file_names_sorted]"
   ]
  },
  {
   "cell_type": "code",
   "execution_count": 9,
   "metadata": {},
   "outputs": [],
   "source": [
    "#convert xml file to format to be consumed by retina net algorithm\n",
    "\n",
    "bbox_formatted_all = []\n",
    "name_obj_all = []\n",
    "for file_name in file_names:\n",
    "    \n",
    "    tree = ET.parse(file_name)\n",
    "    \n",
    "    root = tree.getroot()\n",
    "\n",
    "    bbox_formatted= []\n",
    "    name_obj_formatted= []\n",
    "    obj_bbox = root.findall('./object')\n",
    "    name_obj = []\n",
    "    for item in obj_bbox:\n",
    "        bbox = []\n",
    "        name_obj.append(item.find('name').text)\n",
    "        bbox_cord= item.find('./bndbox')\n",
    "        bbox.append(\n",
    "            [\n",
    "            bbox_cord.find(\"ymin\").text,\n",
    "            bbox_cord.find(\"xmin\").text,\n",
    "            bbox_cord.find(\"ymax\").text,\n",
    "            bbox_cord.find(\"xmax\").text\n",
    "            ]  \n",
    "        )\n",
    "        bbox_formatted.append((bbox[0]))\n",
    "    bbox_formatted_all.append(np.array(bbox_formatted, dtype = np.float32)/640.0) #640 is both and width dimention.\n",
    "    name_obj_all.append(np.array(name_obj).astype(int))\n"
   ]
  },
  {
   "cell_type": "code",
   "execution_count": 10,
   "metadata": {},
   "outputs": [
    {
     "name": "stderr",
     "output_type": "stream",
     "text": [
      "/Library/Frameworks/Python.framework/Versions/3.8/lib/python3.8/site-packages/numpy/lib/npyio.py:521: VisibleDeprecationWarning: Creating an ndarray from ragged nested sequences (which is a list-or-tuple of lists-or-tuples-or ndarrays with different lengths or shapes) is deprecated. If you meant to do this, you must specify 'dtype=object' when creating the ndarray.\n",
      "  arr = np.asanyarray(arr)\n"
     ]
    }
   ],
   "source": [
    "#save bbox as .npy file\n",
    "bbox_fn = 'bbox.npy'\n",
    "with open(bbox_fn, 'wb') as f:\n",
    "    np.save(f, bbox_formatted_all)"
   ]
  },
  {
   "cell_type": "code",
   "execution_count": 11,
   "metadata": {},
   "outputs": [
    {
     "name": "stderr",
     "output_type": "stream",
     "text": [
      "/var/folders/58/gd1m2zgn4hzgrrx4xcds_bg80000gp/T/ipykernel_3770/3861693921.py:4: VisibleDeprecationWarning: Creating an ndarray from ragged nested sequences (which is a list-or-tuple of lists-or-tuples-or ndarrays with different lengths or shapes) is deprecated. If you meant to do this, you must specify 'dtype=object' when creating the ndarray.\n",
      "  name_obj_all = np.array(name_obj_all).astype(object)\n"
     ]
    }
   ],
   "source": [
    "#save index of the class list\n",
    "indices_class_fn = 'indices_class_list.npy'\n",
    "\n",
    "name_obj_all = np.array(name_obj_all).astype(object)\n",
    "with open(indices_class_fn, 'wb') as f:\n",
    "    np.save(f, name_obj_all)"
   ]
  },
  {
   "cell_type": "code",
   "execution_count": 4,
   "metadata": {},
   "outputs": [],
   "source": [
    "#class index dictionary creation:\n",
    "import pickle\n",
    "#define category index\n",
    "num_classes = 3\n",
    "input_field_id = 1\n",
    "dropdown_id = 2\n",
    "text_id = 3\n",
    "\n",
    "category_index = {\n",
    "    input_field_id: {'id': input_field_id, 'name': 'Input Field'},\n",
    "    dropdown_id:{'id':dropdown_id, 'name':'Drop Down'},\n",
    "    text_id:{'id':text_id, 'name':'Text'}\n",
    "    }\n",
    "\n",
    "file_path = \"../data/category_index.pickle\"\n",
    "with open(file_path, 'wb') as file:\n",
    "    pickle.dump(category_index, file)\n"
   ]
  }
 ],
 "metadata": {
  "kernelspec": {
   "display_name": "Python 3",
   "language": "python",
   "name": "python3"
  },
  "language_info": {
   "codemirror_mode": {
    "name": "ipython",
    "version": 3
   },
   "file_extension": ".py",
   "mimetype": "text/x-python",
   "name": "python",
   "nbconvert_exporter": "python",
   "pygments_lexer": "ipython3",
   "version": "3.8.0"
  },
  "orig_nbformat": 4
 },
 "nbformat": 4,
 "nbformat_minor": 2
}
