{
 "cells": [
  {
   "attachments": {},
   "cell_type": "markdown",
   "metadata": {},
   "source": [
    "This notebook contains script that instantiates 'labelImg' window for creating bbox and convert those for retinnanet algorithm to consume. Note that image size is assumed to be 640 x 640"
   ]
  },
  {
   "cell_type": "code",
   "execution_count": 1,
   "metadata": {},
   "outputs": [
    {
     "name": "stderr",
     "output_type": "stream",
     "text": [
      "2023-04-07 22:21:07.648288: I tensorflow/core/platform/cpu_feature_guard.cc:193] This TensorFlow binary is optimized with oneAPI Deep Neural Network Library (oneDNN) to use the following CPU instructions in performance-critical operations:  AVX2 FMA\n",
      "To enable them in other operations, rebuild TensorFlow with the appropriate compiler flags.\n"
     ]
    }
   ],
   "source": [
    "import xml.etree.ElementTree as ET\n",
    "import numpy as np\n",
    "import glob\n",
    "import os\n",
    "import tensorflow as tf\n",
    "import matplotlib\n",
    "import matplotlib.pyplot as plt\n",
    "from six import BytesIO"
   ]
  },
  {
   "cell_type": "code",
   "execution_count": 2,
   "metadata": {},
   "outputs": [
    {
     "name": "stderr",
     "output_type": "stream",
     "text": [
      "2023-04-07 22:22:43.559 Python[3615:238276] Warning: Window move completed without beginning\n"
     ]
    },
    {
     "name": "stdout",
     "output_type": "stream",
     "text": [
      "Image:/Users/ml/Desktop/ILS/object_detection/data/test2.jpg -> Annotation:/Users/ml/Desktop/ILS/object_detection/data/test2.xml\n"
     ]
    },
    {
     "data": {
      "text/plain": [
       "0"
      ]
     },
     "execution_count": 2,
     "metadata": {},
     "output_type": "execute_result"
    }
   ],
   "source": [
    "#start label img\n",
    "# !important: while labelling ensure that labels are numerical, starting from 1. 1,2,3,..... etc.\n",
    "#as the code is designed to handle only the numerals.\n",
    "os.system(\"labelimg\")"
   ]
  },
  {
   "cell_type": "code",
   "execution_count": 3,
   "metadata": {},
   "outputs": [],
   "source": [
    "#xml stored in following directory\n",
    "data_dir = \"..//data\""
   ]
  },
  {
   "cell_type": "code",
   "execution_count": 4,
   "metadata": {},
   "outputs": [],
   "source": [
    "#get all the xml file names generated after labelling from previous step\n",
    "file_names = []\n",
    "os.chdir(data_dir)\n",
    "for file in glob.glob(\"*.xml\"):\n",
    "    file_names.append(file)"
   ]
  },
  {
   "cell_type": "code",
   "execution_count": 5,
   "metadata": {},
   "outputs": [],
   "source": [
    "#convert xml file to format to be consumed by retina net algorithm\n",
    "\n",
    "bbox_formatted_all = []\n",
    "name_obj_all = []\n",
    "for file_name in file_names:\n",
    "    \n",
    "    tree = ET.parse(file_name)\n",
    "    \n",
    "    root = tree.getroot()\n",
    "\n",
    "    bbox_formatted= []\n",
    "    name_obj_formatted= []\n",
    "    obj_bbox = root.findall('./object')\n",
    "    name_obj = []\n",
    "    for item in obj_bbox:\n",
    "        bbox = []\n",
    "        name_obj.append(item.find('name').text)\n",
    "        bbox_cord= item.find('./bndbox')\n",
    "        bbox.append(\n",
    "            [\n",
    "            bbox_cord.find(\"ymin\").text,\n",
    "            bbox_cord.find(\"xmin\").text,\n",
    "            bbox_cord.find(\"ymax\").text,\n",
    "            bbox_cord.find(\"xmax\").text\n",
    "            ]  \n",
    "        )\n",
    "        bbox_formatted.append((bbox[0]))\n",
    "    bbox_formatted_all.append(np.array(bbox_formatted, dtype = np.float32)/640.0) #640 is both and width dimention.\n",
    "    name_obj_all.append(np.array(name_obj).astype(int))\n"
   ]
  },
  {
   "cell_type": "code",
   "execution_count": 6,
   "metadata": {},
   "outputs": [
    {
     "name": "stderr",
     "output_type": "stream",
     "text": [
      "/Library/Frameworks/Python.framework/Versions/3.8/lib/python3.8/site-packages/numpy/lib/npyio.py:521: VisibleDeprecationWarning: Creating an ndarray from ragged nested sequences (which is a list-or-tuple of lists-or-tuples-or ndarrays with different lengths or shapes) is deprecated. If you meant to do this, you must specify 'dtype=object' when creating the ndarray.\n",
      "  arr = np.asanyarray(arr)\n"
     ]
    }
   ],
   "source": [
    "#save bbox as .npy file\n",
    "bbox_fn = 'bbox.npy'\n",
    "with open(bbox_fn, 'wb') as f:\n",
    "    np.save(f, bbox_formatted_all)"
   ]
  },
  {
   "cell_type": "code",
   "execution_count": 9,
   "metadata": {},
   "outputs": [],
   "source": [
    "#save index of the class list\n",
    "indices_class_fn = 'indices_class_list.npy'\n",
    "\n",
    "name_obj_all = np.array(name_obj_all).astype(object)\n",
    "with open(indices_class_fn, 'wb') as f:\n",
    "    np.save(f, name_obj_all)"
   ]
  },
  {
   "cell_type": "code",
   "execution_count": null,
   "metadata": {},
   "outputs": [],
   "source": []
  }
 ],
 "metadata": {
  "kernelspec": {
   "display_name": "Python 3",
   "language": "python",
   "name": "python3"
  },
  "language_info": {
   "codemirror_mode": {
    "name": "ipython",
    "version": 3
   },
   "file_extension": ".py",
   "mimetype": "text/x-python",
   "name": "python",
   "nbconvert_exporter": "python",
   "pygments_lexer": "ipython3",
   "version": "3.8.0"
  },
  "orig_nbformat": 4
 },
 "nbformat": 4,
 "nbformat_minor": 2
}
