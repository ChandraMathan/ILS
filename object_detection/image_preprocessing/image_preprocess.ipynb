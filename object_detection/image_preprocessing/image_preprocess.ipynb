{
 "cells": [
  {
   "cell_type": "code",
   "execution_count": 13,
   "metadata": {},
   "outputs": [],
   "source": [
    "import cv2\n",
    "\n",
    "from selenium import webdriver\n",
    "from selenium.webdriver.common.keys import Keys\n",
    "from selenium.webdriver.common.by import By\n",
    "from selenium.webdriver.chrome.options import Options\n",
    "import os\n",
    "import glob\n"
   ]
  },
  {
   "cell_type": "code",
   "execution_count": 11,
   "metadata": {},
   "outputs": [
    {
     "name": "stderr",
     "output_type": "stream",
     "text": [
      "/var/folders/58/gd1m2zgn4hzgrrx4xcds_bg80000gp/T/ipykernel_2913/1278175455.py:3: DeprecationWarning: headless property is deprecated, instead use add_argument('--headless') or add_argument('--headless=new')\n",
      "  chrome_options.headless = True\n",
      "/Library/Frameworks/Python.framework/Versions/3.8/lib/python3.8/site-packages/selenium/webdriver/remote/webdriver.py:889: UserWarning: name used for saved screenshot does not match file type. It should end with a `.png` extension\n",
      "  warnings.warn(\n"
     ]
    }
   ],
   "source": [
    "chrome_options = Options()\n",
    "chrome_options.add_experimental_option(\"detach\", True)\n",
    "chrome_options.headless = True\n",
    "driver = webdriver.Chrome(options=chrome_options)\n",
    "\n",
    "webpage_com = \"http://localhost:3000/webtrain\"\n",
    "\n",
    "for num in range(1,11):\n",
    "    webpage = webpage_com+str(num)\n",
    "    driver.get(webpage)\n",
    "    #element_html = driver.find_element(By.XPATH, '/html')\n",
    "    #element_html.screenshot(str(num)+\".jpg\")\n",
    "    driver.save_screenshot(str(num)+\".jpg\")\n",
    "\n",
    "driver.close()"
   ]
  },
  {
   "cell_type": "code",
   "execution_count": 25,
   "metadata": {},
   "outputs": [],
   "source": [
    "#read all the jpg files\n",
    "\n",
    "#image data file path\n",
    "data_dir = \"../input_data/\"\n",
    "#get all the jpeg file names \n",
    "#file_names_images = []\n",
    "os.chdir(data_dir)\n",
    "resize_dim = (640, 640)\n",
    "output_file_name = 100\n",
    "for file in glob.glob(\"*.jpg\"):\n",
    "    img = cv2.imread(file)\n",
    "    resized = cv2.resize(img, resize_dim, interpolation = cv2.INTER_AREA)\n",
    "    #grayscale = cv2.cvtColor(resized, cv2.COLOR_BGR2GRAY)\n",
    "    cv2.imwrite('../output_data/'+str(output_file_name)+\".jpg\",resized )\n",
    "    output_file_name += 1"
   ]
  }
 ],
 "metadata": {
  "kernelspec": {
   "display_name": "Python 3",
   "language": "python",
   "name": "python3"
  },
  "language_info": {
   "codemirror_mode": {
    "name": "ipython",
    "version": 3
   },
   "file_extension": ".py",
   "mimetype": "text/x-python",
   "name": "python",
   "nbconvert_exporter": "python",
   "pygments_lexer": "ipython3",
   "version": "3.8.0"
  },
  "orig_nbformat": 4
 },
 "nbformat": 4,
 "nbformat_minor": 2
}
