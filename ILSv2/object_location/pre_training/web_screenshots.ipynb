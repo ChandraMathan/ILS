{
 "cells": [
  {
   "cell_type": "markdown",
   "metadata": {},
   "source": [
    "Capture screen shots of listed webpages"
   ]
  },
  {
   "cell_type": "code",
   "execution_count": 1,
   "metadata": {},
   "outputs": [
    {
     "name": "stdout",
     "output_type": "stream",
     "text": [
      "/Users/ml/Desktop/ILS/ILSv2/object_location/pre_training\n"
     ]
    }
   ],
   "source": [
    "from selenium import webdriver\n",
    "from selenium.webdriver.common.keys import Keys\n",
    "from selenium.webdriver.common.by import By\n",
    "from selenium.webdriver.chrome.options import Options\n",
    "\n",
    "import os\n",
    "\n",
    "print(os.getcwd())"
   ]
  },
  {
   "cell_type": "code",
   "execution_count": 2,
   "metadata": {},
   "outputs": [],
   "source": [
    "#specifiy location to save test and train dataset. Also specify the url for test and train webpages\n",
    "\n",
    "train_location_screenshots_dir = '../data/training_data/'\n",
    "test_location_screenshots_dir = '../data/test_data/'\n",
    "\n",
    "train_webpages = ['http://localhost:3000/webtrain1','http://localhost:3000/webtrain2','http://localhost:3000/webtrain3','http://localhost:3000/webtrain4','http://localhost:3000/webtrain5','http://localhost:3000/webtrain6', 'http://localhost:3000/webtrain7','http://localhost:3000/webtrain8','http://localhost:3000/webtrain9','http://localhost:3000/webtrain10']\n",
    "\n",
    "test_webpages = ['http://localhost:3000/webtest1','http://localhost:3000/webtest2','http://localhost:3000/webtest3','http://localhost:3000/webtest4','http://localhost:3000/webtest5','http://localhost:3000/webtest6', 'http://localhost:3000/webtest7','http://localhost:3000/webtest8','http://localhost:3000/webtest9','http://localhost:3000/webtest10']"
   ]
  },
  {
   "cell_type": "code",
   "execution_count": 3,
   "metadata": {},
   "outputs": [],
   "source": [
    "#initiate selenium driver\n",
    "\n",
    "chrome_options = Options()\n",
    "chrome_options.add_experimental_option(\"detach\", True)\n",
    "driver = webdriver.Chrome(options=chrome_options)"
   ]
  },
  {
   "cell_type": "code",
   "execution_count": 4,
   "metadata": {},
   "outputs": [
    {
     "name": "stderr",
     "output_type": "stream",
     "text": [
      "/Library/Frameworks/Python.framework/Versions/3.8/lib/python3.8/site-packages/selenium/webdriver/remote/webelement.py:352: UserWarning: name used for saved screenshot does not match file type. It should end with a `.png` extension\n",
      "  warnings.warn(\n"
     ]
    }
   ],
   "source": [
    "#navigate to all the train webpages and take screenshots\n",
    "start_index = 100\n",
    "for webpage in train_webpages:\n",
    "    driver.get(webpage)\n",
    "    element_html = driver.find_element(By.XPATH, '/html')\n",
    "    element_html.screenshot(train_location_screenshots_dir+str(start_index)+\".jpg\")\n",
    "    start_index+=1"
   ]
  },
  {
   "cell_type": "code",
   "execution_count": 5,
   "metadata": {},
   "outputs": [],
   "source": [
    "#navigate to all the test webpages and take screenshots\n",
    "start_index = 100\n",
    "for webpage in test_webpages:\n",
    "    driver.get(webpage)\n",
    "    element_html = driver.find_element(By.XPATH, '/html')\n",
    "    element_html.screenshot(test_location_screenshots_dir+str(start_index)+\".jpg\")\n",
    "    start_index+=1"
   ]
  },
  {
   "cell_type": "code",
   "execution_count": 6,
   "metadata": {},
   "outputs": [],
   "source": [
    "#close driver\n",
    "driver.close()"
   ]
  }
 ],
 "metadata": {
  "kernelspec": {
   "display_name": "Python 3",
   "language": "python",
   "name": "python3"
  },
  "language_info": {
   "codemirror_mode": {
    "name": "ipython",
    "version": 3
   },
   "file_extension": ".py",
   "mimetype": "text/x-python",
   "name": "python",
   "nbconvert_exporter": "python",
   "pygments_lexer": "ipython3",
   "version": "3.8.0"
  },
  "orig_nbformat": 4
 },
 "nbformat": 4,
 "nbformat_minor": 2
}
