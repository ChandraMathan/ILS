{
 "cells": [
  {
   "cell_type": "code",
   "execution_count": 1,
   "metadata": {},
   "outputs": [],
   "source": [
    "import random\n",
    "import torch\n",
    "import numpy as np\n",
    "from collections import deque\n",
    "import matplotlib.pyplot as plt\n",
    "%matplotlib inline\n",
    "import random\n",
    "import torch\n",
    "import numpy as np\n",
    "import matplotlib.pyplot as plt\n",
    "import pandas as pd\n",
    "from collections import deque\n",
    "import pickle\n"
   ]
  },
  {
   "cell_type": "code",
   "execution_count": 2,
   "metadata": {},
   "outputs": [],
   "source": [
    "from dqn_agent_execution import Agent\n",
    "from env_setup import EnvGrid\n",
    "from env_setup import EnvWeb\n",
    "\n",
    "#when using grid environment use below lines to train\n",
    "\"\"\" \n",
    "env = EnvGrid (8 , 4)\n",
    "#agent = Agent(state_size=6, action_size=2, seed=0)\n",
    "agent = Agent(state_size=9, action_size=34, seed=2)\n",
    "\n",
    "\"\"\"\n",
    "\n",
    "#when traiing on webpage use this:\n",
    "state_size = 8 #this is approx number of input fields + label of interest\n",
    "\n",
    "\n",
    "num_vertical_grid = 10  #this should match speified in 'integration.ipynb'\n",
    "num_horizontal_grid = 10 #this should match speified in 'integration.ipynb'\n",
    "\n",
    "action_size = num_vertical_grid * num_horizontal_grid\n",
    "\n",
    "env = EnvWeb ()\n",
    "states = env.reset_test()\n",
    "agent = Agent(state_size=state_size, action_size=action_size, seed=2)\n",
    "\n"
   ]
  },
  {
   "cell_type": "code",
   "execution_count": 3,
   "metadata": {},
   "outputs": [
    {
     "name": "stdout",
     "output_type": "stream",
     "text": [
      "{31: {'state': array([31, 42, 44, 48, 55, 73, 77, 92]), 'action': 42}, 33: {'state': array([33, 42, 44, 48, 55, 73, 77, 92]), 'action': 44}, 37: {'state': array([37, 42, 44, 48, 55, 73, 77, 92]), 'action': 48}, 51: {'state': array([51, 42, 44, 48, 55, 73, 77, 92]), 'action': 55}, 62: {'state': array([62, 42, 44, 48, 55, 73, 77, 92]), 'action': 73}, 65: {'state': array([65, 42, 44, 48, 55, 73, 77, 92]), 'action': 77}, 81: {'state': array([81, 42, 44, 48, 55, 73, 77, 92]), 'action': 92}}\n"
     ]
    }
   ],
   "source": [
    "def dqn(states, eps = 0.0):\n",
    "#def dqn(n_episodes=10000000, max_t=10, eps_start=1.0, eps_end=0.3, eps_decay=0.999995):\n",
    "    \n",
    "    \"\"\"Deep Q-Learning.\n",
    "    \n",
    "    Params\n",
    "    ======\n",
    "        n_episodes (int): maximum number of training episodes\n",
    "        max_t (int): maximum number of timesteps per episode\n",
    "        eps_start (float): starting value of epsilon, for epsilon-greedy action selection\n",
    "        eps_end (float): minimum value of epsilon\n",
    "        eps_decay (float): multiplicative factor (per episode) for decreasing epsilon\n",
    "    \"\"\"\n",
    "    \n",
    "    \n",
    "    \n",
    "        \n",
    "    state_action = {}    \n",
    "        \n",
    "    for state in states:\n",
    "        action = agent.act(state, eps)\n",
    "        state_action[state[0]] = {}\n",
    "        state_action[state[0]]['state'] = state\n",
    "        state_action[state[0]]['action'] = action\n",
    "            \n",
    "                \n",
    "    return state_action\n",
    "\n",
    "state_action_dict = dqn(states)\n",
    "\n",
    "print(state_action_dict)"
   ]
  },
  {
   "cell_type": "code",
   "execution_count": 4,
   "metadata": {},
   "outputs": [],
   "source": [
    "#export as pickle\n",
    "\n",
    "with open('../integration/data/solution_dictionary.pkl', 'wb') as f:\n",
    "    pickle.dump(state_action_dict, f)"
   ]
  }
 ],
 "metadata": {
  "kernelspec": {
   "display_name": "Python 3",
   "language": "python",
   "name": "python3"
  },
  "language_info": {
   "codemirror_mode": {
    "name": "ipython",
    "version": 3
   },
   "file_extension": ".py",
   "mimetype": "text/x-python",
   "name": "python",
   "nbconvert_exporter": "python",
   "pygments_lexer": "ipython3",
   "version": "3.8.0"
  },
  "vscode": {
   "interpreter": {
    "hash": "aee8b7b246df8f9039afb4144a1f6fd8d2ca17a180786b69acc140d282b71a49"
   }
  }
 },
 "nbformat": 4,
 "nbformat_minor": 2
}
