{
 "cells": [
  {
   "cell_type": "code",
   "execution_count": 1,
   "metadata": {},
   "outputs": [],
   "source": [
    "#set this parameter \n",
    "training_required = True\n",
    "#training_required = False"
   ]
  },
  {
   "cell_type": "code",
   "execution_count": 2,
   "metadata": {},
   "outputs": [],
   "source": [
    "\n",
    "import pickle\n",
    "import sys\n",
    "import os\n",
    "import pathlib\n",
    "import math\n",
    "import numpy as np"
   ]
  },
  {
   "cell_type": "code",
   "execution_count": 3,
   "metadata": {},
   "outputs": [],
   "source": [
    "#set system path to include relevent modules\n",
    "\n",
    "root_folder = pathlib.Path(os.getcwd()).parent.resolve()\n",
    "script_dir = os.path.join(root_folder, \"DQN\")\n",
    "sys.path.append(os.path.dirname(script_dir))"
   ]
  },
  {
   "cell_type": "code",
   "execution_count": 4,
   "metadata": {},
   "outputs": [
    {
     "name": "stdout",
     "output_type": "stream",
     "text": [
      "Importing /Users/ml/Desktop/ILS/DQN/__init__.py\n"
     ]
    }
   ],
   "source": [
    "from setup_training import TrainingSetup\n",
    "from navigation_web import NavigateWeb\n",
    "from DQN.env_setup import EnvWeb\n",
    "from DQN.dqn_training import Training\n",
    "from DQN.dqn_execution import DQNExecution\n",
    "from DQN.env_setup import EnvWeb2D"
   ]
  },
  {
   "cell_type": "code",
   "execution_count": 5,
   "metadata": {},
   "outputs": [],
   "source": [
    "\n",
    "\"\"\" \n",
    "Params\n",
    "\n",
    "\"\"\"\n",
    "\n",
    "webpages = [\"http://localhost:3000/webtrain1\" ,\"http://localhost:3000/webtrain2\", \"http://localhost:3000/webtrain3\",\"http://localhost:3000/webtrain4\",\"http://localhost:3000/webtrain5\",\"http://localhost:3000/webtrain6\",\"http://localhost:3000/webtrain7\",\"http://localhost:3000/webtrain8\",\"http://localhost:3000/webtrain9\",\"http://localhost:3000/webtrain10\"] \n",
    "#,\"http://localhost:3000/webtest1\",\"http://localhost:3000/webtest2\", \"http://localhost:3000/webtest3\",\"http://localhost:3000/webtest4\",\"http://localhost:3000/webtest5\",\"http://#localhost:3000/webtest6\",\"http://localhost:3000/webtest7\",\"http://localhost:3000/webtest8\",\"http://localhost:3000/webtest9\",\"http://localhost:3000/webtest10\"]\n",
    "\n",
    "window_size = (1200,1000)\n",
    "num_horizontal_grid = 10\n",
    "num_vertical_grid = 10\n",
    "\n",
    "grid = (num_vertical_grid, num_horizontal_grid)\n",
    "num_states = 20 #this is based on \n",
    "\n",
    "dict_web_dir = 'data/element_dictionary.pkl' #location of input and label fields and grid numbers stored as dictionary after processing\n",
    "screenshots_dir = 'screenshots/' #directory to help visulaization\n",
    "\n"
   ]
  },
  {
   "cell_type": "code",
   "execution_count": 6,
   "metadata": {},
   "outputs": [
    {
     "name": "stderr",
     "output_type": "stream",
     "text": [
      "/Library/Frameworks/Python.framework/Versions/3.8/lib/python3.8/site-packages/selenium/webdriver/remote/webelement.py:352: UserWarning: name used for saved screenshot does not match file type. It should end with a `.png` extension\n",
      "  warnings.warn(\n"
     ]
    }
   ],
   "source": [
    "#instantiate training setup\n",
    "\"\"\" \n",
    "webpage ids are extracted and prepped for training\n",
    "outputs dictionary of input and label locations and grid nums\n",
    "\"\"\"\n",
    "if training_required == True:\n",
    "    open_web = TrainingSetup(webpages,window_size,grid)\n",
    "    open_web.main(dict_web_dir, screenshots_dir)"
   ]
  },
  {
   "cell_type": "code",
   "execution_count": 7,
   "metadata": {},
   "outputs": [
    {
     "name": "stdout",
     "output_type": "stream",
     "text": [
      "\n",
      "web element details:\n",
      "  {'http://localhost:3000/webtrain1': {'1': {'label': {'x_location': 66, 'y_location': 137, 'width': 31, 'height': 24, 'x_centre': 81.5, 'y_centre': 149.0, 'grid_num': 31}, 'input': {'x_location': 66, 'y_location': 161, 'width': 522, 'height': 38, 'x_centre': 327.0, 'y_centre': 180.0, 'grid_num': 43}}, '2': {'label': {'x_location': 612, 'y_location': 137, 'width': 78, 'height': 24, 'x_centre': 651.0, 'y_centre': 149.0, 'grid_num': 36}, 'input': {'x_location': 612, 'y_location': 161, 'width': 522, 'height': 38, 'x_centre': 873.0, 'y_centre': 180.0, 'grid_num': 48}}, '3': {'label': {'x_location': 66, 'y_location': 199, 'width': 77, 'height': 24, 'x_centre': 104.5, 'y_centre': 211.0, 'grid_num': 51}, 'input': {'x_location': 66, 'y_location': 223, 'width': 712, 'height': 38, 'x_centre': 422.0, 'y_centre': 242.0, 'grid_num': 64}}, '4': {'label': {'x_location': 66, 'y_location': 261, 'width': 91, 'height': 24, 'x_centre': 111.5, 'y_centre': 273.0, 'grid_num': 71}, 'input': {'x_location': 66, 'y_location': 285, 'width': 445, 'height': 38, 'x_centre': 288.5, 'y_centre': 304.0, 'grid_num': 73}}, '5': {'label': {'x_location': 66, 'y_location': 323, 'width': 115, 'height': 24, 'x_centre': 123.5, 'y_centre': 335.0, 'grid_num': 82}, 'input': {'x_location': 66, 'y_location': 347, 'width': 522, 'height': 38, 'x_centre': 327.0, 'y_centre': 366.0, 'grid_num': 93}}, '6': {'label': {'x_location': 612, 'y_location': 323, 'width': 104, 'height': 24, 'x_centre': 664.0, 'y_centre': 335.0, 'grid_num': 86}, 'input': {'x_location': 612, 'y_location': 347, 'width': 522, 'height': 38, 'x_centre': 873.0, 'y_centre': 366.0, 'grid_num': 98}}}, 'http://localhost:3000/webtrain2': {'1': {'label': {'x_location': 66, 'y_location': 137, 'width': 72, 'height': 24, 'x_centre': 102.0, 'y_centre': 149.0, 'grid_num': 31}, 'input': {'x_location': 66, 'y_location': 161, 'width': 613, 'height': 38, 'x_centre': 372.5, 'y_centre': 180.0, 'grid_num': 44}}, '2': {'label': {'x_location': 66, 'y_location': 199, 'width': 105, 'height': 24, 'x_centre': 118.5, 'y_centre': 211.0, 'grid_num': 41}, 'input': {'x_location': 66, 'y_location': 223, 'width': 704, 'height': 38, 'x_centre': 418.0, 'y_centre': 242.0, 'grid_num': 54}}, '3': {'label': {'x_location': 66, 'y_location': 261, 'width': 107, 'height': 24, 'x_centre': 119.5, 'y_centre': 273.0, 'grid_num': 61}, 'input': {'x_location': 66, 'y_location': 285, 'width': 623, 'height': 38, 'x_centre': 377.5, 'y_centre': 304.0, 'grid_num': 64}}, '4': {'label': {'x_location': 66, 'y_location': 323, 'width': 53, 'height': 24, 'x_centre': 92.5, 'y_centre': 335.0, 'grid_num': 71}, 'input': {'x_location': 66, 'y_location': 347, 'width': 522, 'height': 38, 'x_centre': 327.0, 'y_centre': 366.0, 'grid_num': 83}}, '5': {'label': {'x_location': 612, 'y_location': 323, 'width': 75, 'height': 24, 'x_centre': 649.5, 'y_centre': 335.0, 'grid_num': 76}, 'input': {'x_location': 612, 'y_location': 347, 'width': 522, 'height': 38, 'x_centre': 873.0, 'y_centre': 366.0, 'grid_num': 88}}, '6': {'label': {'x_location': 66, 'y_location': 385, 'width': 38, 'height': 24, 'x_centre': 85.0, 'y_centre': 397.0, 'grid_num': 81}, 'input': {'x_location': 66, 'y_location': 409, 'width': 67, 'height': 38, 'x_centre': 99.5, 'y_centre': 428.0, 'grid_num': 91}}, '7': {'label': {'x_location': 157, 'y_location': 385, 'width': 108, 'height': 24, 'x_centre': 211.0, 'y_centre': 397.0, 'grid_num': 82}, 'input': {'x_location': 157, 'y_location': 409, 'width': 613, 'height': 38, 'x_centre': 463.5, 'y_centre': 428.0, 'grid_num': 94}}}, 'http://localhost:3000/webtrain3': {'1': {'label': {'x_location': 66, 'y_location': 137, 'width': 31, 'height': 24, 'x_centre': 81.5, 'y_centre': 149.0, 'grid_num': 31}, 'input': {'x_location': 66, 'y_location': 161, 'width': 522, 'height': 38, 'x_centre': 327.0, 'y_centre': 180.0, 'grid_num': 43}}, '2': {'label': {'x_location': 66, 'y_location': 199, 'width': 78, 'height': 24, 'x_centre': 105.0, 'y_centre': 211.0, 'grid_num': 41}, 'input': {'x_location': 66, 'y_location': 223, 'width': 886, 'height': 38, 'x_centre': 509.0, 'y_centre': 242.0, 'grid_num': 55}}, '3': {'label': {'x_location': 66, 'y_location': 261, 'width': 77, 'height': 24, 'x_centre': 104.5, 'y_centre': 273.0, 'grid_num': 61}, 'input': {'x_location': 66, 'y_location': 285, 'width': 340, 'height': 38, 'x_centre': 236.0, 'y_centre': 304.0, 'grid_num': 62}}, '4': {'label': {'x_location': 430, 'y_location': 261, 'width': 111, 'height': 24, 'x_centre': 485.5, 'y_centre': 273.0, 'grid_num': 65}, 'input': {'x_location': 430, 'y_location': 285, 'width': 431, 'height': 38, 'x_centre': 645.5, 'y_centre': 304.0, 'grid_num': 66}}, '5': {'label': {'x_location': 66, 'y_location': 323, 'width': 105, 'height': 24, 'x_centre': 118.5, 'y_centre': 335.0, 'grid_num': 71}, 'input': {'x_location': 66, 'y_location': 347, 'width': 158, 'height': 38, 'x_centre': 145.0, 'y_centre': 366.0, 'grid_num': 82}}, '6': {'label': {'x_location': 248, 'y_location': 323, 'width': 107, 'height': 24, 'x_centre': 301.5, 'y_centre': 335.0, 'grid_num': 73}, 'input': {'x_location': 248, 'y_location': 347, 'width': 795, 'height': 38, 'x_centre': 645.5, 'y_centre': 366.0, 'grid_num': 86}}, '7': {'label': {'x_location': 66, 'y_location': 385, 'width': 89, 'height': 24, 'x_centre': 110.5, 'y_centre': 397.0, 'grid_num': 81}, 'input': {'x_location': 66, 'y_location': 409, 'width': 522, 'height': 38, 'x_centre': 327.0, 'y_centre': 428.0, 'grid_num': 93}}, '8': {'label': {'x_location': 612, 'y_location': 385, 'width': 73, 'height': 24, 'x_centre': 648.5, 'y_centre': 397.0, 'grid_num': 86}, 'input': {'x_location': 612, 'y_location': 409, 'width': 522, 'height': 38, 'x_centre': 873.0, 'y_centre': 428.0, 'grid_num': 98}}}, 'http://localhost:3000/webtrain4': {'1': {'label': {'x_location': 66, 'y_location': 137, 'width': 83, 'height': 24, 'x_centre': 107.5, 'y_centre': 149.0, 'grid_num': 31}, 'input': {'x_location': 66, 'y_location': 161, 'width': 522, 'height': 38, 'x_centre': 327.0, 'y_centre': 180.0, 'grid_num': 43}}, '2': {'label': {'x_location': 612, 'y_location': 137, 'width': 98, 'height': 24, 'x_centre': 661.0, 'y_centre': 149.0, 'grid_num': 36}, 'input': {'x_location': 612, 'y_location': 161, 'width': 522, 'height': 38, 'x_centre': 873.0, 'y_centre': 180.0, 'grid_num': 48}}, '3': {'label': {'x_location': 66, 'y_location': 199, 'width': 59, 'height': 24, 'x_centre': 95.5, 'y_centre': 211.0, 'grid_num': 51}, 'input': {'x_location': 66, 'y_location': 223, 'width': 623, 'height': 38, 'x_centre': 377.5, 'y_centre': 242.0, 'grid_num': 64}}, '4': {'label': {'x_location': 66, 'y_location': 261, 'width': 93, 'height': 24, 'x_centre': 112.5, 'y_centre': 273.0, 'grid_num': 71}, 'input': {'x_location': 66, 'y_location': 285, 'width': 249, 'height': 38, 'x_centre': 190.5, 'y_centre': 304.0, 'grid_num': 72}}, '5': {'label': {'x_location': 339, 'y_location': 261, 'width': 120, 'height': 24, 'x_centre': 399.0, 'y_centre': 273.0, 'grid_num': 74}, 'input': {'x_location': 339, 'y_location': 285, 'width': 522, 'height': 38, 'x_centre': 600.0, 'y_centre': 304.0, 'grid_num': 75}}, '6': {'label': {'x_location': 66, 'y_location': 323, 'width': 57, 'height': 24, 'x_centre': 94.5, 'y_centre': 335.0, 'grid_num': 81}, 'input': {'x_location': 66, 'y_location': 347, 'width': 522, 'height': 38, 'x_centre': 327.0, 'y_centre': 366.0, 'grid_num': 93}}, '7': {'label': {'x_location': 612, 'y_location': 323, 'width': 74, 'height': 24, 'x_centre': 649.0, 'y_centre': 335.0, 'grid_num': 86}, 'input': {'x_location': 612, 'y_location': 347, 'width': 522, 'height': 38, 'x_centre': 873.0, 'y_centre': 366.0, 'grid_num': 98}}}, 'http://localhost:3000/webtrain5': {'1': {'label': {'x_location': 66, 'y_location': 137, 'width': 119, 'height': 24, 'x_centre': 125.5, 'y_centre': 149.0, 'grid_num': 32}, 'input': {'x_location': 66, 'y_location': 161, 'width': 522, 'height': 38, 'x_centre': 327.0, 'y_centre': 180.0, 'grid_num': 43}}, '2': {'label': {'x_location': 612, 'y_location': 137, 'width': 114, 'height': 24, 'x_centre': 669.0, 'y_centre': 149.0, 'grid_num': 36}, 'input': {'x_location': 612, 'y_location': 161, 'width': 522, 'height': 38, 'x_centre': 873.0, 'y_centre': 180.0, 'grid_num': 48}}, '3': {'label': {'x_location': 66, 'y_location': 199, 'width': 60, 'height': 24, 'x_centre': 96.0, 'y_centre': 211.0, 'grid_num': 51}, 'input': {'x_location': 66, 'y_location': 223, 'width': 67, 'height': 38, 'x_centre': 99.5, 'y_centre': 242.0, 'grid_num': 61}}, '4': {'label': {'x_location': 157, 'y_location': 199, 'width': 59, 'height': 24, 'x_centre': 186.5, 'y_centre': 211.0, 'grid_num': 52}, 'input': {'x_location': 157, 'y_location': 223, 'width': 340, 'height': 38, 'x_centre': 327.0, 'y_centre': 242.0, 'grid_num': 63}}, '5': {'label': {'x_location': 66, 'y_location': 261, 'width': 99, 'height': 24, 'x_centre': 115.5, 'y_centre': 273.0, 'grid_num': 71}, 'input': {'x_location': 66, 'y_location': 285, 'width': 158, 'height': 38, 'x_centre': 145.0, 'y_centre': 304.0, 'grid_num': 72}}, '6': {'label': {'x_location': 248, 'y_location': 261, 'width': 101, 'height': 24, 'x_centre': 298.5, 'y_centre': 273.0, 'grid_num': 73}, 'input': {'x_location': 248, 'y_location': 285, 'width': 158, 'height': 38, 'x_centre': 327.0, 'y_centre': 304.0, 'grid_num': 73}}, '7': {'label': {'x_location': 66, 'y_location': 323, 'width': 74, 'height': 24, 'x_centre': 103.0, 'y_centre': 335.0, 'grid_num': 81}, 'input': {'x_location': 66, 'y_location': 347, 'width': 795, 'height': 38, 'x_centre': 463.5, 'y_centre': 366.0, 'grid_num': 94}}, '8': {'label': {'x_location': 885, 'y_location': 323, 'width': 73, 'height': 24, 'x_centre': 921.5, 'y_centre': 335.0, 'grid_num': 88}, 'input': {'x_location': 885, 'y_location': 347, 'width': 158, 'height': 38, 'x_centre': 964.0, 'y_centre': 366.0, 'grid_num': 99}}}, 'http://localhost:3000/webtrain6': {'1': {'label': {'x_location': 66, 'y_location': 137, 'width': 163, 'height': 24, 'x_centre': 147.5, 'y_centre': 149.0, 'grid_num': 32}, 'input': {'x_location': 66, 'y_location': 161, 'width': 522, 'height': 38, 'x_centre': 327.0, 'y_centre': 180.0, 'grid_num': 43}}, '2': {'label': {'x_location': 612, 'y_location': 137, 'width': 112, 'height': 24, 'x_centre': 668.0, 'y_centre': 149.0, 'grid_num': 36}, 'input': {'x_location': 612, 'y_location': 161, 'width': 522, 'height': 38, 'x_centre': 873.0, 'y_centre': 180.0, 'grid_num': 48}}, '3': {'label': {'x_location': 66, 'y_location': 199, 'width': 155, 'height': 24, 'x_centre': 143.5, 'y_centre': 211.0, 'grid_num': 52}, 'input': {'x_location': 66, 'y_location': 223, 'width': 522, 'height': 38, 'x_centre': 327.0, 'y_centre': 242.0, 'grid_num': 63}}, '4': {'label': {'x_location': 612, 'y_location': 199, 'width': 119, 'height': 24, 'x_centre': 671.5, 'y_centre': 211.0, 'grid_num': 56}, 'input': {'x_location': 612, 'y_location': 223, 'width': 522, 'height': 38, 'x_centre': 873.0, 'y_centre': 242.0, 'grid_num': 68}}, '5': {'label': {'x_location': 66, 'y_location': 261, 'width': 105, 'height': 24, 'x_centre': 118.5, 'y_centre': 273.0, 'grid_num': 71}, 'input': {'x_location': 66, 'y_location': 285, 'width': 522, 'height': 38, 'x_centre': 327.0, 'y_centre': 304.0, 'grid_num': 73}}, '6': {'label': {'x_location': 612, 'y_location': 261, 'width': 74, 'height': 24, 'x_centre': 649.0, 'y_centre': 273.0, 'grid_num': 76}, 'input': {'x_location': 612, 'y_location': 285, 'width': 522, 'height': 38, 'x_centre': 873.0, 'y_centre': 304.0, 'grid_num': 78}}, '7': {'label': {'x_location': 66, 'y_location': 323, 'width': 66, 'height': 24, 'x_centre': 99.0, 'y_centre': 335.0, 'grid_num': 81}, 'input': {'x_location': 66, 'y_location': 347, 'width': 445, 'height': 38, 'x_centre': 288.5, 'y_centre': 366.0, 'grid_num': 93}}}, 'http://localhost:3000/webtrain7': {'1': {'label': {'x_location': 66, 'y_location': 137, 'width': 43, 'height': 24, 'x_centre': 87.5, 'y_centre': 149.0, 'grid_num': 31}, 'input': {'x_location': 66, 'y_location': 161, 'width': 340, 'height': 38, 'x_centre': 236.0, 'y_centre': 180.0, 'grid_num': 42}}, '2': {'label': {'x_location': 430, 'y_location': 137, 'width': 108, 'height': 24, 'x_centre': 484.0, 'y_centre': 149.0, 'grid_num': 35}, 'input': {'x_location': 430, 'y_location': 161, 'width': 249, 'height': 38, 'x_centre': 554.5, 'y_centre': 180.0, 'grid_num': 45}}, '3': {'label': {'x_location': 66, 'y_location': 199, 'width': 39, 'height': 24, 'x_centre': 85.5, 'y_centre': 211.0, 'grid_num': 51}, 'input': {'x_location': 66, 'y_location': 223, 'width': 522, 'height': 38, 'x_centre': 327.0, 'y_centre': 242.0, 'grid_num': 63}}, '4': {'label': {'x_location': 612, 'y_location': 199, 'width': 105, 'height': 24, 'x_centre': 664.5, 'y_centre': 211.0, 'grid_num': 56}, 'input': {'x_location': 612, 'y_location': 223, 'width': 522, 'height': 38, 'x_centre': 873.0, 'y_centre': 242.0, 'grid_num': 68}}, '5': {'label': {'x_location': 66, 'y_location': 261, 'width': 107, 'height': 24, 'x_centre': 119.5, 'y_centre': 273.0, 'grid_num': 71}, 'input': {'x_location': 66, 'y_location': 285, 'width': 522, 'height': 38, 'x_centre': 327.0, 'y_centre': 304.0, 'grid_num': 73}}, '6': {'label': {'x_location': 612, 'y_location': 261, 'width': 53, 'height': 24, 'x_centre': 638.5, 'y_centre': 273.0, 'grid_num': 76}, 'input': {'x_location': 612, 'y_location': 285, 'width': 67, 'height': 38, 'x_centre': 645.5, 'y_centre': 304.0, 'grid_num': 76}}, '7': {'label': {'x_location': 66, 'y_location': 323, 'width': 83, 'height': 24, 'x_centre': 107.5, 'y_centre': 335.0, 'grid_num': 81}, 'input': {'x_location': 66, 'y_location': 347, 'width': 522, 'height': 38, 'x_centre': 327.0, 'y_centre': 366.0, 'grid_num': 93}}, '8': {'label': {'x_location': 612, 'y_location': 323, 'width': 73, 'height': 24, 'x_centre': 648.5, 'y_centre': 335.0, 'grid_num': 86}, 'input': {'x_location': 612, 'y_location': 347, 'width': 522, 'height': 38, 'x_centre': 873.0, 'y_centre': 366.0, 'grid_num': 98}}}, 'http://localhost:3000/webtrain8': {'1': {'label': {'x_location': 66, 'y_location': 137, 'width': 147, 'height': 24, 'x_centre': 139.5, 'y_centre': 149.0, 'grid_num': 32}, 'input': {'x_location': 66, 'y_location': 161, 'width': 522, 'height': 38, 'x_centre': 327.0, 'y_centre': 180.0, 'grid_num': 43}}, '2': {'label': {'x_location': 612, 'y_location': 137, 'width': 74, 'height': 24, 'x_centre': 649.0, 'y_centre': 149.0, 'grid_num': 36}, 'input': {'x_location': 612, 'y_location': 161, 'width': 522, 'height': 38, 'x_centre': 873.0, 'y_centre': 180.0, 'grid_num': 48}}, '3': {'label': {'x_location': 66, 'y_location': 199, 'width': 107, 'height': 24, 'x_centre': 119.5, 'y_centre': 211.0, 'grid_num': 41}, 'input': {'x_location': 66, 'y_location': 223, 'width': 356, 'height': 38, 'x_centre': 244.0, 'y_centre': 242.0, 'grid_num': 53}}, '4': {'label': {'x_location': 66, 'y_location': 261, 'width': 87, 'height': 24, 'x_centre': 109.5, 'y_centre': 273.0, 'grid_num': 61}, 'input': {'x_location': 66, 'y_location': 285, 'width': 886, 'height': 38, 'x_centre': 509.0, 'y_centre': 304.0, 'grid_num': 65}}, '5': {'label': {'x_location': 66, 'y_location': 323, 'width': 88, 'height': 24, 'x_centre': 110.0, 'y_centre': 335.0, 'grid_num': 71}, 'input': {'x_location': 66, 'y_location': 347, 'width': 613, 'height': 38, 'x_centre': 372.5, 'y_centre': 366.0, 'grid_num': 84}}, '6': {'label': {'x_location': 66, 'y_location': 385, 'width': 86, 'height': 24, 'x_centre': 109.0, 'y_centre': 397.0, 'grid_num': 81}, 'input': {'x_location': 66, 'y_location': 409, 'width': 522, 'height': 38, 'x_centre': 327.0, 'y_centre': 428.0, 'grid_num': 93}}, '7': {'label': {'x_location': 612, 'y_location': 385, 'width': 103, 'height': 24, 'x_centre': 663.5, 'y_centre': 397.0, 'grid_num': 86}, 'input': {'x_location': 612, 'y_location': 409, 'width': 522, 'height': 38, 'x_centre': 873.0, 'y_centre': 428.0, 'grid_num': 98}}}, 'http://localhost:3000/webtrain9': {'1': {'label': {'x_location': 66, 'y_location': 137, 'width': 109, 'height': 24, 'x_centre': 120.5, 'y_centre': 149.0, 'grid_num': 32}, 'input': {'x_location': 66, 'y_location': 161, 'width': 795, 'height': 38, 'x_centre': 463.5, 'y_centre': 180.0, 'grid_num': 44}}, '2': {'label': {'x_location': 66, 'y_location': 199, 'width': 105, 'height': 24, 'x_centre': 118.5, 'y_centre': 211.0, 'grid_num': 41}, 'input': {'x_location': 66, 'y_location': 223, 'width': 431, 'height': 38, 'x_centre': 281.5, 'y_centre': 242.0, 'grid_num': 53}}, '3': {'label': {'x_location': 66, 'y_location': 261, 'width': 107, 'height': 24, 'x_centre': 119.5, 'y_centre': 273.0, 'grid_num': 61}, 'input': {'x_location': 66, 'y_location': 285, 'width': 886, 'height': 38, 'x_centre': 509.0, 'y_centre': 304.0, 'grid_num': 65}}, '4': {'label': {'x_location': 976, 'y_location': 261, 'width': 53, 'height': 24, 'x_centre': 1002.5, 'y_centre': 273.0, 'grid_num': 69}, 'input': {'x_location': 976, 'y_location': 285, 'width': 67, 'height': 38, 'x_centre': 1009.5, 'y_centre': 304.0, 'grid_num': 69}}, '5': {'label': {'x_location': 66, 'y_location': 323, 'width': 120, 'height': 24, 'x_centre': 126.0, 'y_centre': 335.0, 'grid_num': 72}, 'input': {'x_location': 66, 'y_location': 347, 'width': 522, 'height': 38, 'x_centre': 327.0, 'y_centre': 366.0, 'grid_num': 83}}, '6': {'label': {'x_location': 612, 'y_location': 323, 'width': 75, 'height': 24, 'x_centre': 649.5, 'y_centre': 335.0, 'grid_num': 76}, 'input': {'x_location': 612, 'y_location': 347, 'width': 522, 'height': 38, 'x_centre': 873.0, 'y_centre': 366.0, 'grid_num': 88}}, '7': {'label': {'x_location': 66, 'y_location': 385, 'width': 38, 'height': 24, 'x_centre': 85.0, 'y_centre': 397.0, 'grid_num': 81}, 'input': {'x_location': 66, 'y_location': 409, 'width': 522, 'height': 38, 'x_centre': 327.0, 'y_centre': 428.0, 'grid_num': 93}}, '8': {'label': {'x_location': 612, 'y_location': 385, 'width': 73, 'height': 24, 'x_centre': 648.5, 'y_centre': 397.0, 'grid_num': 86}, 'input': {'x_location': 612, 'y_location': 409, 'width': 522, 'height': 38, 'x_centre': 873.0, 'y_centre': 428.0, 'grid_num': 98}}}, 'http://localhost:3000/webtrain10': {'1': {'label': {'x_location': 66, 'y_location': 137, 'width': 94, 'height': 24, 'x_centre': 113.0, 'y_centre': 149.0, 'grid_num': 31}, 'input': {'x_location': 66, 'y_location': 161, 'width': 267, 'height': 38, 'x_centre': 199.5, 'y_centre': 180.0, 'grid_num': 42}}, '2': {'label': {'x_location': 66, 'y_location': 199, 'width': 76, 'height': 24, 'x_centre': 104.0, 'y_centre': 211.0, 'grid_num': 51}, 'input': {'x_location': 66, 'y_location': 223, 'width': 178, 'height': 38, 'x_centre': 155.0, 'y_centre': 242.0, 'grid_num': 62}}, '3': {'label': {'x_location': 66, 'y_location': 261, 'width': 149, 'height': 24, 'x_centre': 140.5, 'y_centre': 273.0, 'grid_num': 72}, 'input': {'x_location': 66, 'y_location': 285, 'width': 356, 'height': 38, 'x_centre': 244.0, 'y_centre': 304.0, 'grid_num': 73}}, '4': {'label': {'x_location': 66, 'y_location': 323, 'width': 54, 'height': 24, 'x_centre': 93.0, 'y_centre': 335.0, 'grid_num': 81}, 'input': {'x_location': 66, 'y_location': 347, 'width': 178, 'height': 38, 'x_centre': 155.0, 'y_centre': 366.0, 'grid_num': 92}}}}\n"
     ]
    }
   ],
   "source": [
    "#view the output of training_setup\n",
    "\n",
    "with open(dict_web_dir, 'rb') as f:\n",
    "    dict_web_elements = pickle.load(f)\n",
    "\n",
    "print(\"\\nweb element details:\\n \", dict_web_elements)"
   ]
  },
  {
   "cell_type": "code",
   "execution_count": 8,
   "metadata": {},
   "outputs": [],
   "source": [
    "#instantiate environment\n",
    "\"\"\"\n",
    "Environment behaviour is defined\n",
    "\"\"\"\n",
    "\n",
    "env2d = EnvWeb2D(dict_web_dir, num_states,grid, window_size)\n",
    "\n"
   ]
  },
  {
   "cell_type": "code",
   "execution_count": 9,
   "metadata": {},
   "outputs": [],
   "source": [
    "#define checkpoint for trining and testing\n",
    "checkpoint_path = 'checkpoint_label_input.pth'"
   ]
  },
  {
   "cell_type": "code",
   "execution_count": 10,
   "metadata": {},
   "outputs": [
    {
     "data": {
      "text/plain": [
       "'\\n        \\n        Params\\n        ======\\n            n_episodes (int): maximum number of training episodes\\n            max_t (int): maximum number of timesteps per episode\\n            eps_start (float): starting value of epsilon, for epsilon-greedy action selection\\n            eps_end (float): minimum value of epsilon\\n            eps_decay (float): multiplicative factor (per episode) for decreasing epsilon\\n            terminal_score (float): mean of scores for lenght of score_window. training terminates when the mean reaches the specified score\\n           score_window (int): score of length score window is stored   \\n'"
      ]
     },
     "execution_count": 10,
     "metadata": {},
     "output_type": "execute_result"
    }
   ],
   "source": [
    "#instantiate training\n",
    "if training_required == True:\n",
    "    train = Training(num_states, num_vertical_grid, num_horizontal_grid, env2d)\n",
    "\n",
    "#taining parameters fo rdqn\n",
    "n_episodes=1000000\n",
    "max_t=1\n",
    "eps_start=0.9\n",
    "eps_end=0.15\n",
    "eps_decay=0.99\n",
    "score_window = 100\n",
    "terminal_score = 0.09 #this is dependent on the environment setup reward system\n",
    "\n",
    "\n",
    "\"\"\"\n",
    "        \n",
    "        Params\n",
    "        ======\n",
    "            n_episodes (int): maximum number of training episodes\n",
    "            max_t (int): maximum number of timesteps per episode\n",
    "            eps_start (float): starting value of epsilon, for epsilon-greedy action selection\n",
    "            eps_end (float): minimum value of epsilon\n",
    "            eps_decay (float): multiplicative factor (per episode) for decreasing epsilon\n",
    "            terminal_score (float): mean of scores for lenght of score_window. training terminates when the mean reaches the specified score\n",
    "           score_window (int): score of length score window is stored   \n",
    "\"\"\""
   ]
  },
  {
   "cell_type": "code",
   "execution_count": 11,
   "metadata": {},
   "outputs": [
    {
     "name": "stdout",
     "output_type": "stream",
     "text": [
      "Episode 5000\tAverage Score: -0.05\n",
      "\n",
      "Episode 5000\tAverage Score: -0.05 0.15\n",
      "Episode 10000\tAverage Score: -0.02\n",
      "\n",
      "Episode 10000\tAverage Score: -0.02 0.15\n",
      "Episode 15000\tAverage Score: 0.010\n",
      "\n",
      "Episode 15000\tAverage Score: 0.01 0.15\n",
      "Episode 20000\tAverage Score: 0.030\n",
      "\n",
      "Episode 20000\tAverage Score: 0.03 0.15\n",
      "Episode 25000\tAverage Score: 0.040\n",
      "\n",
      "Episode 25000\tAverage Score: 0.04 0.15\n",
      "Episode 30000\tAverage Score: 0.06\n",
      "\n",
      "Episode 30000\tAverage Score: 0.06 0.15\n",
      "Episode 35000\tAverage Score: 0.06\n",
      "\n",
      "Episode 35000\tAverage Score: 0.06 0.15\n",
      "Episode 40000\tAverage Score: 0.06\n",
      "\n",
      "Episode 40000\tAverage Score: 0.06 0.15\n",
      "Episode 45000\tAverage Score: 0.07\n",
      "\n",
      "Episode 45000\tAverage Score: 0.07 0.15\n",
      "Episode 50000\tAverage Score: 0.06\n",
      "\n",
      "Episode 50000\tAverage Score: 0.06 0.15\n",
      "Episode 55000\tAverage Score: 0.07\n",
      "\n",
      "Episode 55000\tAverage Score: 0.07 0.15\n",
      "Episode 60000\tAverage Score: 0.07\n",
      "\n",
      "Episode 60000\tAverage Score: 0.07 0.15\n",
      "Episode 65000\tAverage Score: 0.07\n",
      "\n",
      "Episode 65000\tAverage Score: 0.07 0.15\n",
      "Episode 70000\tAverage Score: 0.07\n",
      "\n",
      "Episode 70000\tAverage Score: 0.07 0.15\n",
      "Episode 75000\tAverage Score: 0.07\n",
      "\n",
      "Episode 75000\tAverage Score: 0.07 0.15\n",
      "Episode 80000\tAverage Score: 0.07\n",
      "\n",
      "Episode 80000\tAverage Score: 0.07 0.15\n",
      "Episode 85000\tAverage Score: 0.07\n",
      "\n",
      "Episode 85000\tAverage Score: 0.07 0.15\n",
      "Episode 90000\tAverage Score: 0.07\n",
      "\n",
      "Episode 90000\tAverage Score: 0.07 0.15\n",
      "Episode 95000\tAverage Score: 0.06\n",
      "\n",
      "Episode 95000\tAverage Score: 0.06 0.15\n",
      "Episode 100000\tAverage Score: -0.06\n",
      "\n",
      "Episode 100000\tAverage Score: -0.06 0.15\n",
      "Episode 105000\tAverage Score: -0.09\n",
      "\n",
      "Episode 105000\tAverage Score: -0.09 0.15\n",
      "Episode 110000\tAverage Score: -0.10\n",
      "\n",
      "Episode 110000\tAverage Score: -0.10 0.15\n",
      "Episode 115000\tAverage Score: -0.10\n",
      "\n",
      "Episode 115000\tAverage Score: -0.10 0.15\n",
      "Episode 120000\tAverage Score: -0.10\n",
      "\n",
      "Episode 120000\tAverage Score: -0.10 0.15\n",
      "Episode 125000\tAverage Score: 0.040\n",
      "\n",
      "Episode 125000\tAverage Score: 0.04 0.15\n",
      "Episode 130000\tAverage Score: 0.05\n",
      "\n",
      "Episode 130000\tAverage Score: 0.05 0.15\n",
      "Episode 135000\tAverage Score: 0.08\n",
      "\n",
      "Episode 135000\tAverage Score: 0.08 0.15\n",
      "Episode 140000\tAverage Score: 0.05\n",
      "\n",
      "Episode 140000\tAverage Score: 0.05 0.15\n",
      "Episode 145000\tAverage Score: 0.07\n",
      "\n",
      "Episode 145000\tAverage Score: 0.07 0.15\n",
      "Episode 150000\tAverage Score: 0.06\n",
      "\n",
      "Episode 150000\tAverage Score: 0.06 0.15\n",
      "Episode 155000\tAverage Score: 0.08\n",
      "\n",
      "Episode 155000\tAverage Score: 0.08 0.15\n",
      "Episode 160000\tAverage Score: 0.06\n",
      "\n",
      "Episode 160000\tAverage Score: 0.06 0.15\n",
      "Episode 165000\tAverage Score: 0.07\n",
      "\n",
      "Episode 165000\tAverage Score: 0.07 0.15\n",
      "Episode 170000\tAverage Score: 0.07\n",
      "\n",
      "Episode 170000\tAverage Score: 0.07 0.15\n",
      "Episode 175000\tAverage Score: 0.07\n",
      "\n",
      "Episode 175000\tAverage Score: 0.07 0.15\n",
      "Episode 180000\tAverage Score: 0.09\n",
      "\n",
      "Episode 180000\tAverage Score: 0.09 0.15\n",
      "Episode 185000\tAverage Score: 0.07\n",
      "\n",
      "Episode 185000\tAverage Score: 0.07 0.15\n",
      "Episode 190000\tAverage Score: 0.07\n",
      "\n",
      "Episode 190000\tAverage Score: 0.07 0.15\n",
      "Episode 195000\tAverage Score: 0.08\n",
      "\n",
      "Episode 195000\tAverage Score: 0.08 0.15\n",
      "Episode 200000\tAverage Score: 0.09\n",
      "\n",
      "Episode 200000\tAverage Score: 0.09 0.15\n",
      "Episode 201286\tAverage Score: 0.09\n",
      "Environment solved in 201186 episodes!\tAverage Score: 0.09\n"
     ]
    }
   ],
   "source": [
    "if training_required == True:\n",
    "    scores = train.dqn(n_episodes, max_t, eps_start, eps_end, eps_decay,score_window,terminal_score, checkpoint_path)"
   ]
  },
  {
   "cell_type": "code",
   "execution_count": 12,
   "metadata": {},
   "outputs": [],
   "source": [
    "#get all tthe states and corresponding actions for the training set\n",
    "\n",
    "state_action_dict = env2d.get_data()\n",
    "#print(state_action_dict)"
   ]
  },
  {
   "cell_type": "code",
   "execution_count": 13,
   "metadata": {},
   "outputs": [
    {
     "name": "stdout",
     "output_type": "stream",
     "text": [
      "computed actions:  {'http://localhost:3000/webtrain1': [43, 48, 64, 73, 93, 98], 'http://localhost:3000/webtrain2': [44, 54, 64, 83, 88, 91, 94], 'http://localhost:3000/webtrain3': [43, 55, 62, 66, 82, 86, 93, 98], 'http://localhost:3000/webtrain4': [43, 48, 64, 72, 75, 93, 98], 'http://localhost:3000/webtrain5': [43, 48, 61, 63, 72, 73, 94, 99], 'http://localhost:3000/webtrain6': [43, 48, 63, 68, 73, 78, 93], 'http://localhost:3000/webtrain7': [42, 45, 63, 68, 73, 76, 93, 98], 'http://localhost:3000/webtrain8': [43, 48, 53, 65, 84, 93, 98], 'http://localhost:3000/webtrain9': [44, 53, 65, 69, 83, 88, 93, 98], 'http://localhost:3000/webtrain10': [42, 62, 73, 92]}\n",
      "expected actions:  {'http://localhost:3000/webtrain1': [43, 48, 64, 73, 93, 98], 'http://localhost:3000/webtrain2': [44, 54, 64, 83, 88, 91, 94], 'http://localhost:3000/webtrain3': [43, 55, 62, 66, 82, 86, 93, 98], 'http://localhost:3000/webtrain4': [43, 48, 64, 72, 75, 93, 98], 'http://localhost:3000/webtrain5': [43, 48, 61, 63, 72, 73, 94, 99], 'http://localhost:3000/webtrain6': [43, 48, 63, 68, 73, 78, 93], 'http://localhost:3000/webtrain7': [42, 45, 63, 68, 73, 76, 93, 98], 'http://localhost:3000/webtrain8': [43, 48, 53, 65, 84, 93, 98], 'http://localhost:3000/webtrain9': [44, 53, 65, 69, 83, 88, 93, 98], 'http://localhost:3000/webtrain10': [42, 62, 73, 92]}\n"
     ]
    }
   ],
   "source": [
    "#instantiate dqn execution and outputs for each state of training set\n",
    "\n",
    "#for end2d\n",
    "\n",
    "execute = DQNExecution(num_states, num_vertical_grid, num_horizontal_grid, env2d, checkpoint_path)\n",
    "dqn_actions = {}\n",
    "expect_actions = {}\n",
    "for webpages in state_action_dict:\n",
    "    \n",
    "    \n",
    "    for state in state_action_dict[webpages]:\n",
    "        actions = []\n",
    "        actions_expected = []\n",
    "        for index in range(0,len(state_action_dict[webpages]['state'])):\n",
    "            state = state_action_dict[webpages]['state'][index]\n",
    "        \n",
    "            #print(\"state type: \\n\", type(state))\n",
    "            #print(\"state:\\n\", state)\n",
    "            if len(state)< num_states:\n",
    "                for _ in range(0, num_states - len(state)):\n",
    "                    state = np.append(state, 0)\n",
    "        \n",
    "            action = execute.dqn_execute(state/(max(window_size)))\n",
    "            expected_action = state_action_dict[webpages]['action'][index]\n",
    "            actions.append(action)\n",
    "            actions_expected.append(expected_action)\n",
    "\n",
    "    dqn_actions[webpages] = actions\n",
    "    expect_actions[webpages] = actions_expected\n",
    "\n",
    "print(\"computed actions: \",dqn_actions)\n",
    "print(\"expected actions: \", expect_actions)\n",
    "\n",
    "\n",
    "\n"
   ]
  },
  {
   "cell_type": "code",
   "execution_count": 14,
   "metadata": {},
   "outputs": [
    {
     "name": "stdout",
     "output_type": "stream",
     "text": [
      "{}\n"
     ]
    }
   ],
   "source": [
    "#Evaluation of training set\n",
    "\n",
    "#for env2\n",
    "\n",
    "diff_inputs = {} # stores mismatched elements\n",
    "for webpage in expect_actions:\n",
    "    \n",
    "    set_expected = set(expect_actions[webpage])\n",
    "    bot_expected = set(dqn_actions[webpage])\n",
    "    diff_set = set_expected - bot_expected\n",
    "    if len(diff_set)!=0:\n",
    "        diff_inputs[webpage] = set_expected - bot_expected\n",
    "\n",
    "\n",
    "print(diff_inputs)\n"
   ]
  },
  {
   "cell_type": "code",
   "execution_count": 15,
   "metadata": {},
   "outputs": [
    {
     "name": "stderr",
     "output_type": "stream",
     "text": [
      "/Library/Frameworks/Python.framework/Versions/3.8/lib/python3.8/site-packages/selenium/webdriver/remote/webelement.py:352: UserWarning: name used for saved screenshot does not match file type. It should end with a `.png` extension\n",
      "  warnings.warn(\n"
     ]
    }
   ],
   "source": [
    "#navigation of training set. screen shots of entires made are taken for reference\n",
    "nav_web = NavigateWeb(window_size, grid)\n",
    "\n",
    "for webpage in dqn_actions:\n",
    "    nav_web.main(webpage, dict_web_elements[webpage],dqn_actions[webpage], screenshots_dir)\n",
    "nav_web.close_webpage()"
   ]
  },
  {
   "cell_type": "code",
   "execution_count": 13,
   "metadata": {},
   "outputs": [],
   "source": [
    "#env2d - Test set up\n",
    "\n",
    "webpages_test = [\"http://localhost:3000/webtest1\",\"http://localhost:3000/webtest2\", \"http://localhost:3000/webtest3\",\"http://localhost:3000/webtest4\",\"http://localhost:3000/webtest5\",\"http://localhost:3000/webtest6\",\"http://localhost:3000/webtest7\",\"http://localhost:3000/webtest8\",\"http://localhost:3000/webtest9\",\"http://localhost:3000/webtest10\"]\n",
    "\n",
    "dict_web_dir_test = 'data/element_dictionary_test.pkl' #location of input and label fields and grid numbers stored as dictionary after processing\n",
    "screenshots_dir = 'screenshots/' #directory to help visulaization"
   ]
  },
  {
   "cell_type": "code",
   "execution_count": 16,
   "metadata": {},
   "outputs": [
    {
     "name": "stderr",
     "output_type": "stream",
     "text": [
      "/Library/Frameworks/Python.framework/Versions/3.8/lib/python3.8/site-packages/selenium/webdriver/remote/webelement.py:352: UserWarning: name used for saved screenshot does not match file type. It should end with a `.png` extension\n",
      "  warnings.warn(\n"
     ]
    }
   ],
   "source": [
    "#instantiate test setup\n",
    "\"\"\" \n",
    "webpage ids are extracted and prepped for training\n",
    "outputs dictionary of input and label locations and grid nums\n",
    "\"\"\"\n",
    "if training_required == True:\n",
    "    open_web_test = TrainingSetup(webpages_test,window_size,grid)\n",
    "    open_web_test.main(dict_web_dir_test, screenshots_dir)"
   ]
  },
  {
   "cell_type": "code",
   "execution_count": 14,
   "metadata": {},
   "outputs": [],
   "source": [
    "#view the output of test_setup\n",
    "\n",
    "with open(dict_web_dir_test, 'rb') as f:\n",
    "    dict_web_elements_test = pickle.load(f)\n",
    "\n",
    "#print(dict_web_elements_test)"
   ]
  },
  {
   "cell_type": "code",
   "execution_count": 15,
   "metadata": {},
   "outputs": [],
   "source": [
    "#instantiate test environment\n",
    "\"\"\"\n",
    "Environment behaviour is defined\n",
    "\"\"\"\n",
    "env2d_test = EnvWeb2D(dict_web_dir_test, num_states,grid, window_size)\n",
    "\n",
    "#get all tthe states and corresponding actions for the test set\n",
    "state_action_dict_test = env2d_test.get_data()\n",
    "# print(state_action_dict_test)"
   ]
  },
  {
   "cell_type": "code",
   "execution_count": 17,
   "metadata": {},
   "outputs": [
    {
     "name": "stdout",
     "output_type": "stream",
     "text": [
      "computed actions:  {'http://localhost:3000/webtest1': [73, 48, 73, 62, 62, 98, 93, 93], 'http://localhost:3000/webtest2': [93, 93, 43, 61, 93, 98, 93], 'http://localhost:3000/webtest3': [61, 61, 98, 61, 61], 'http://localhost:3000/webtest4': [93, 93, 98, 93, 98, 93], 'http://localhost:3000/webtest5': [43, 93, 43, 61, 98, 93, 98], 'http://localhost:3000/webtest6': [43, 48, 64, 48, 61, 93], 'http://localhost:3000/webtest7': [93, 93, 93, 98, 93], 'http://localhost:3000/webtest8': [43, 48, 43, 64, 73, 93], 'http://localhost:3000/webtest9': [43, 48, 61, 48, 72, 99, 93, 98], 'http://localhost:3000/webtest10': [61, 61, 98, 61, 98, 61]}\n",
      "expected actions:  {'http://localhost:3000/webtest1': [43, 48, 52, 64, 83, 88, 92, 96], 'http://localhost:3000/webtest2': [44, 52, 62, 66, 83, 88, 95], 'http://localhost:3000/webtest3': [42, 53, 58, 81, 92], 'http://localhost:3000/webtest4': [42, 62, 64, 73, 78, 95], 'http://localhost:3000/webtest5': [42, 44, 61, 73, 78, 94, 98], 'http://localhost:3000/webtest6': [43, 47, 63, 65, 72, 95], 'http://localhost:3000/webtest7': [44, 62, 73, 78, 93], 'http://localhost:3000/webtest8': [42, 47, 54, 64, 83, 94], 'http://localhost:3000/webtest9': [44, 48, 63, 66, 73, 77, 93, 98], 'http://localhost:3000/webtest10': [43, 64, 69, 73, 78, 93]}\n"
     ]
    }
   ],
   "source": [
    "#instantiate dqn execution and outputs for each state of test set\n",
    "\n",
    "execute_env2d = DQNExecution(num_states, num_vertical_grid, num_horizontal_grid, env2d_test, checkpoint_path)\n",
    "dqn_actions = {}\n",
    "expect_actions = {}\n",
    "for webpages in state_action_dict_test:\n",
    "    for state in state_action_dict_test[webpages]:\n",
    "        actions = []\n",
    "        actions_expected = []\n",
    "        for index in range(0,len(state_action_dict_test[webpages]['state'])):\n",
    "            state = state_action_dict_test[webpages]['state'][index]\n",
    "\n",
    "            if len(state)< num_states:\n",
    "                for _ in range(0, num_states - len(state)):\n",
    "                    state = np.append(state, 0)\n",
    "        \n",
    "            action = execute.dqn_execute(state/(max(window_size)))\n",
    "            expected_action = state_action_dict_test[webpages]['action'][index]\n",
    "            actions.append(action)\n",
    "            actions_expected.append(expected_action)\n",
    "\n",
    "    dqn_actions[webpages] = actions\n",
    "    expect_actions[webpages] = actions_expected\n",
    "\n",
    "print(\"computed actions: \",dqn_actions)\n",
    "print(\"expected actions: \", expect_actions)"
   ]
  },
  {
   "cell_type": "code",
   "execution_count": 18,
   "metadata": {},
   "outputs": [
    {
     "name": "stdout",
     "output_type": "stream",
     "text": [
      "{'http://localhost:3000/webtest1': {64, 96, 43, 83, 52, 88, 92}, 'http://localhost:3000/webtest2': {66, 44, 83, 52, 88, 62, 95}, 'http://localhost:3000/webtest3': {42, 81, 53, 58, 92}, 'http://localhost:3000/webtest4': {64, 73, 42, 78, 62, 95}, 'http://localhost:3000/webtest5': {73, 42, 44, 78, 94}, 'http://localhost:3000/webtest6': {65, 72, 47, 95, 63}, 'http://localhost:3000/webtest7': {62, 73, 44, 78}, 'http://localhost:3000/webtest8': {42, 47, 83, 54, 94}, 'http://localhost:3000/webtest9': {66, 73, 44, 77, 63}, 'http://localhost:3000/webtest10': {64, 69, 73, 43, 78, 93}}\n"
     ]
    }
   ],
   "source": [
    "#for env2 evaluation test data\n",
    "\n",
    "diff_inputs = {} # stores mismatched elements\n",
    "for webpage in expect_actions:\n",
    "    \n",
    "    set_expected = set(expect_actions[webpage])\n",
    "    bot_expected = set(dqn_actions[webpage])\n",
    "    diff_set = set_expected - bot_expected\n",
    "    if len(diff_set)!=0:\n",
    "        diff_inputs[webpage] = set_expected - bot_expected\n",
    "\n",
    "\n",
    "print(diff_inputs)\n",
    "\n"
   ]
  },
  {
   "cell_type": "code",
   "execution_count": null,
   "metadata": {},
   "outputs": [
    {
     "name": "stderr",
     "output_type": "stream",
     "text": [
      "/Library/Frameworks/Python.framework/Versions/3.8/lib/python3.8/site-packages/selenium/webdriver/remote/webelement.py:352: UserWarning: name used for saved screenshot does not match file type. It should end with a `.png` extension\n",
      "  warnings.warn(\n"
     ]
    }
   ],
   "source": [
    "#navigation of training set. screen shots of entires made are taken for reference\n",
    "nav_web_test = NavigateWeb(window_size, grid)\n",
    "for webpage in dqn_actions:\n",
    "    nav_web_test.main(webpage, dict_web_elements_test[webpage],dqn_actions[webpage], screenshots_dir)\n",
    "nav_web_test.close_webpage()"
   ]
  }
 ],
 "metadata": {
  "kernelspec": {
   "display_name": "Python 3",
   "language": "python",
   "name": "python3"
  },
  "language_info": {
   "codemirror_mode": {
    "name": "ipython",
    "version": 3
   },
   "file_extension": ".py",
   "mimetype": "text/x-python",
   "name": "python",
   "nbconvert_exporter": "python",
   "pygments_lexer": "ipython3",
   "version": "3.8.0"
  },
  "orig_nbformat": 4
 },
 "nbformat": 4,
 "nbformat_minor": 2
}
