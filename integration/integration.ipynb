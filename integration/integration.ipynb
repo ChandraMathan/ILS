{
 "cells": [
  {
   "cell_type": "code",
   "execution_count": 1,
   "metadata": {},
   "outputs": [],
   "source": [
    "from selenium import webdriver\n",
    "from selenium.webdriver.common.keys import Keys\n",
    "from selenium.webdriver.common.by import By\n",
    "from selenium.webdriver.chrome.options import Options\n",
    "\n",
    "import cv2\n",
    "import numpy as np\n",
    "\n",
    "import matplotlib.pyplot as plt\n",
    "import matplotlib.patches as patches\n",
    "from PIL import Image\n",
    "import math\n",
    "\n",
    "import pickle"
   ]
  },
  {
   "cell_type": "code",
   "execution_count": 2,
   "metadata": {},
   "outputs": [],
   "source": [
    "chrome_options = Options()\n",
    "driver = webdriver.Chrome(options=chrome_options)\n",
    "driver.set_window_size(1200,1000)\n",
    "driver.get(\"http://localhost:3000/web1\")\n"
   ]
  },
  {
   "cell_type": "code",
   "execution_count": 3,
   "metadata": {},
   "outputs": [
    {
     "name": "stdout",
     "output_type": "stream",
     "text": [
      "{'width': 1200, 'height': 1000}\n"
     ]
    }
   ],
   "source": [
    "current_window_size = driver.get_window_size(windowHandle='current')\n",
    "print(current_window_size)"
   ]
  },
  {
   "cell_type": "code",
   "execution_count": 4,
   "metadata": {},
   "outputs": [
    {
     "name": "stdout",
     "output_type": "stream",
     "text": [
      "{1: {'label': {'x_location': 76, 'y_location': 134, 'width': 81, 'height': 24, 'x_centre': 116.5, 'y_centre': 146.0}, 'input': {'x_location': 76, 'y_location': 158, 'width': 155, 'height': 38, 'x_centre': 153.5, 'y_centre': 177.0}}, 2: {'label': {'x_location': 255, 'y_location': 134, 'width': 76, 'height': 24, 'x_centre': 293.0, 'y_centre': 146.0}, 'input': {'x_location': 255, 'y_location': 158, 'width': 423, 'height': 38, 'x_centre': 466.5, 'y_centre': 177.0}}, 3: {'label': {'x_location': 701, 'y_location': 134, 'width': 75, 'height': 24, 'x_centre': 738.5, 'y_centre': 146.0}, 'input': {'x_location': 701, 'y_location': 158, 'width': 423, 'height': 38, 'x_centre': 912.5, 'y_centre': 177.0}}, 4: {'label': {'x_location': 86, 'y_location': 226, 'width': 203, 'height': 62, 'x_centre': 187.5, 'y_centre': 257.0}, 'input': {'x_location': 86, 'y_location': 250, 'width': 203, 'height': 38, 'x_centre': 187.5, 'y_centre': 269.0}}, 5: {'label': {'x_location': 86, 'y_location': 328, 'width': 203, 'height': 62, 'x_centre': 187.5, 'y_centre': 359.0}, 'input': {'x_location': 86, 'y_location': 352, 'width': 203, 'height': 38, 'x_centre': 187.5, 'y_centre': 371.0}}, 6: {'label': {'x_location': 524, 'y_location': 328, 'width': 203, 'height': 62, 'x_centre': 625.5, 'y_centre': 359.0}, 'input': {'x_location': 524, 'y_location': 352, 'width': 203, 'height': 38, 'x_centre': 625.5, 'y_centre': 371.0}}, 7: {'label': {'x_location': 86, 'y_location': 430, 'width': 88, 'height': 62, 'x_centre': 130.0, 'y_centre': 461.0}, 'input': {'x_location': 86, 'y_location': 454, 'width': 88, 'height': 38, 'x_centre': 130.0, 'y_centre': 473.0}}}\n"
     ]
    }
   ],
   "source": [
    "\n",
    "#update location of element\n",
    "\n",
    "\n",
    "element_dict = {}\n",
    "for id in range(1,8):\n",
    "\n",
    "    element_dict[id] = {}\n",
    "    element_dict[id]['label'] = {}\n",
    "    element_dict[id]['input'] = {}\n",
    "    element_label = driver.find_element(\"xpath\",\"//label[@for='{}']\".format(str(id)))\n",
    "    element_input = driver.find_element(\"xpath\",\"//*[@id='{}']\".format(str(id)))\n",
    "    \n",
    "    element_dict[id]['label']['x_location'] = element_label.location['x']\n",
    "    element_dict[id]['label']['y_location'] = element_label.location['y']\n",
    "    element_dict[id]['label']['width'] = element_label.size['width']\n",
    "    element_dict[id]['label']['height'] = element_label.size['height']\n",
    "    element_dict[id]['label']['x_centre'] = element_label.location['x'] + round((element_label.size['width']/2.0),1)\n",
    "    element_dict[id]['label']['y_centre'] = element_label.location['y'] + round((element_label.size['height']/2.0),1)\n",
    "\n",
    "    element_dict[id]['input']['x_location'] = element_input.location['x']\n",
    "    element_dict[id]['input']['y_location'] = element_input.location['y']\n",
    "    element_dict[id]['input']['width'] = element_input.size['width']\n",
    "    element_dict[id]['input']['height'] = element_input.size['height']\n",
    "    element_dict[id]['input']['x_centre'] = element_input.location['x'] + round((element_input.size['width']/2.0),1)\n",
    "    element_dict[id]['input']['y_centre'] = element_input.location['y'] + round((element_input.size['height']/2.0),1)\n",
    "\n",
    "\n",
    "\n",
    "print(element_dict)\n",
    "\n"
   ]
  },
  {
   "cell_type": "code",
   "execution_count": 5,
   "metadata": {},
   "outputs": [
    {
     "name": "stdout",
     "output_type": "stream",
     "text": [
      "{'x': 0, 'y': 0}\n",
      "{'height': 512, 'width': 1200}\n"
     ]
    }
   ],
   "source": [
    "element_html = driver.find_element(By.XPATH, '/html')\n",
    "print(element_html.location)\n",
    "print(element_html.size)\n",
    "image_width = element_html.size['width']\n",
    "image_height = element_html.size['height']"
   ]
  },
  {
   "cell_type": "code",
   "execution_count": 6,
   "metadata": {},
   "outputs": [
    {
     "name": "stderr",
     "output_type": "stream",
     "text": [
      "/Library/Frameworks/Python.framework/Versions/3.8/lib/python3.8/site-packages/selenium/webdriver/remote/webelement.py:352: UserWarning: name used for saved screenshot does not match file type. It should end with a `.png` extension\n",
      "  warnings.warn(\n"
     ]
    },
    {
     "data": {
      "text/plain": [
       "True"
      ]
     },
     "execution_count": 6,
     "metadata": {},
     "output_type": "execute_result"
    }
   ],
   "source": [
    "#driver.save_screenshot(\"screenshots/web.jpg\")\n",
    "element_html.screenshot(\"screenshots/web.jpg\")"
   ]
  },
  {
   "cell_type": "code",
   "execution_count": 6,
   "metadata": {},
   "outputs": [],
   "source": [
    "#set grid size \n",
    "num_grid_x = 10\n",
    "num_grid_y = 10"
   ]
  },
  {
   "cell_type": "code",
   "execution_count": 7,
   "metadata": {},
   "outputs": [
    {
     "name": "stdout",
     "output_type": "stream",
     "text": [
      "(1200, 512)\n",
      "(1200, 512)\n"
     ]
    },
    {
     "name": "stderr",
     "output_type": "stream",
     "text": [
      "/var/folders/58/gd1m2zgn4hzgrrx4xcds_bg80000gp/T/ipykernel_3336/148503246.py:5: DeprecationWarning: ANTIALIAS is deprecated and will be removed in Pillow 10 (2023-07-01). Use Resampling.LANCZOS instead.\n",
      "  im = im.resize((image_width, image_height), Image.ANTIALIAS)\n"
     ]
    },
    {
     "data": {
      "image/png": "[encoded data removed]",
      "text/plain": [
       "<Figure size 640x480 with 1 Axes>"
      ]
     },
     "metadata": {},
     "output_type": "display_data"
    }
   ],
   "source": [
    "im = Image.open('screenshots/web.jpg')\n",
    "print(im.size)\n",
    "\n",
    "#resize\n",
    "im = im.resize((image_width, image_height), Image.ANTIALIAS)\n",
    "#im = im.resize((current_window_size['width'], current_window_size['height']), Image.ANTIALIAS)\n",
    "print(im.size)\n",
    "\n",
    "# Create figure and axes\n",
    "fig, ax = plt.subplots()\n",
    "\n",
    "# grid spacing\n",
    "x_ticks = np.arange(0, image_width, round((image_width / num_grid_x),1))\n",
    "y_ticks = np.arange(0, image_height, round((image_height / num_grid_x),1))\n",
    "\n",
    "\n",
    "ax.set_xticks(x_ticks)\n",
    "ax.set_yticks(y_ticks)\n",
    "\n",
    "ax.grid(True)\n",
    "\n",
    "# Display the image\n",
    "ax.imshow(im)\n",
    "\n",
    "\n",
    "\n",
    "for id in range(1,8):\n",
    "\n",
    "    rect_input = patches.Rectangle((element_dict[id]['input']['x_location'] , element_dict[id]['input']['y_location']), element_dict[id]['input']['width'], element_dict[id]['input']['height'], linewidth=1, edgecolor='r', facecolor='none')\n",
    "    x_centre_input = element_dict[id]['input']['x_centre']\n",
    "    y_centre_input = element_dict[id]['input']['y_centre']\n",
    "\n",
    "    rect_label = patches.Rectangle((element_dict[id]['label']['x_location'] , element_dict[id]['label']['y_location']), element_dict[id]['label']['width'], element_dict[id]['label']['height'], linewidth=1, edgecolor='r', facecolor='none')\n",
    "    x_centre_label = element_dict[id]['label']['x_centre']\n",
    "    y_centre_label = element_dict[id]['label']['y_centre']\n",
    "\n",
    "    # Add the patch to the Axes\n",
    "    ax.add_patch(rect_input)\n",
    "    ax.add_patch(rect_label)\n",
    "\n",
    "    #plot cente\n",
    "    cir_label = patches.Circle((x_centre_label, y_centre_label), radius = 3, linewidth=2, edgecolor='b', facecolor='none')\n",
    "    cir_input = patches.Circle((x_centre_input, y_centre_input), radius = 1, linewidth=1, edgecolor='r', facecolor='none')\n",
    "\n",
    "    ax.add_patch(cir_label)\n",
    "    ax.add_patch(cir_input)\n",
    "\n",
    "\n",
    "plt.show()"
   ]
  },
  {
   "cell_type": "code",
   "execution_count": 8,
   "metadata": {},
   "outputs": [
    {
     "name": "stdout",
     "output_type": "stream",
     "text": [
      "{1: {'label': 21, 'input': 32}, 2: {'label': 23, 'input': 34}, 3: {'label': 27, 'input': 38}, 4: {'label': 52, 'input': 52}, 5: {'label': 72, 'input': 72}, 6: {'label': 76, 'input': 76}, 7: {'label': 92, 'input': 92}}\n",
      "\n",
      " {1: {'label': {'x_location': 76, 'y_location': 134, 'width': 81, 'height': 24, 'x_centre': 116.5, 'y_centre': 146.0, 'grid_num': 21}, 'input': {'x_location': 76, 'y_location': 158, 'width': 155, 'height': 38, 'x_centre': 153.5, 'y_centre': 177.0, 'grid_num': 32}}, 2: {'label': {'x_location': 255, 'y_location': 134, 'width': 76, 'height': 24, 'x_centre': 293.0, 'y_centre': 146.0, 'grid_num': 23}, 'input': {'x_location': 255, 'y_location': 158, 'width': 423, 'height': 38, 'x_centre': 466.5, 'y_centre': 177.0, 'grid_num': 34}}, 3: {'label': {'x_location': 701, 'y_location': 134, 'width': 75, 'height': 24, 'x_centre': 738.5, 'y_centre': 146.0, 'grid_num': 27}, 'input': {'x_location': 701, 'y_location': 158, 'width': 423, 'height': 38, 'x_centre': 912.5, 'y_centre': 177.0, 'grid_num': 38}}, 4: {'label': {'x_location': 86, 'y_location': 226, 'width': 203, 'height': 62, 'x_centre': 187.5, 'y_centre': 257.0, 'grid_num': 52}, 'input': {'x_location': 86, 'y_location': 250, 'width': 203, 'height': 38, 'x_centre': 187.5, 'y_centre': 269.0, 'grid_num': 52}}, 5: {'label': {'x_location': 86, 'y_location': 328, 'width': 203, 'height': 62, 'x_centre': 187.5, 'y_centre': 359.0, 'grid_num': 72}, 'input': {'x_location': 86, 'y_location': 352, 'width': 203, 'height': 38, 'x_centre': 187.5, 'y_centre': 371.0, 'grid_num': 72}}, 6: {'label': {'x_location': 524, 'y_location': 328, 'width': 203, 'height': 62, 'x_centre': 625.5, 'y_centre': 359.0, 'grid_num': 76}, 'input': {'x_location': 524, 'y_location': 352, 'width': 203, 'height': 38, 'x_centre': 625.5, 'y_centre': 371.0, 'grid_num': 76}}, 7: {'label': {'x_location': 86, 'y_location': 430, 'width': 88, 'height': 62, 'x_centre': 130.0, 'y_centre': 461.0, 'grid_num': 92}, 'input': {'x_location': 86, 'y_location': 454, 'width': 88, 'height': 38, 'x_centre': 130.0, 'y_centre': 473.0, 'grid_num': 92}}}\n"
     ]
    }
   ],
   "source": [
    "\n",
    "\n",
    "grid_num = {}\n",
    "\n",
    "for id in range(1, 8):\n",
    "\n",
    "    grid_num[id] = {}\n",
    "    element_dict[id]['label']['grid_num'] = {}\n",
    "    element_dict[id]['input']['grid_num'] = {}\n",
    "\n",
    "    y_centre_label = element_dict[id]['label']['y_centre']\n",
    "    x_centre_label = element_dict[id]['label']['x_centre']\n",
    "\n",
    "    y_centre_input = element_dict[id]['input']['y_centre']\n",
    "    x_centre_input = element_dict[id]['input']['x_centre']\n",
    "    \n",
    "\n",
    "    row_num_label = math.floor(y_centre_label*num_grid_y/element_html.size['height']) #this is the previous row of the element of interest\n",
    "    col_num_label = math.ceil(x_centre_label*num_grid_x/element_html.size['width']) #this is the column of the element of interest\n",
    "    grid_num_label = (row_num_label*num_grid_y) + col_num_label\n",
    "\n",
    "    row_num_input = math.floor(y_centre_input*num_grid_y/element_html.size['height']) #this is the previous row of the element of interest\n",
    "    col_num_input = math.ceil(x_centre_input*num_grid_x/element_html.size['width']) #this is the column of the element of interest\n",
    "    grid_num_input = (row_num_input*num_grid_y) + col_num_input\n",
    "    \n",
    "    grid_num[id]['label'] = grid_num_label\n",
    "    grid_num[id]['input'] = grid_num_input\n",
    "\n",
    "    element_dict[id]['label']['grid_num'] = grid_num_label\n",
    "    element_dict[id]['input']['grid_num'] = grid_num_input\n",
    "\n",
    "\n",
    "\n",
    "print(grid_num)\n",
    "print(\"\\n\", element_dict )"
   ]
  },
  {
   "cell_type": "code",
   "execution_count": 10,
   "metadata": {},
   "outputs": [],
   "source": [
    "#export as pickle\n",
    "\n",
    "with open('data/element_dictionary.pkl', 'wb') as f:\n",
    "    pickle.dump(element_dict, f)"
   ]
  },
  {
   "cell_type": "code",
   "execution_count": 11,
   "metadata": {},
   "outputs": [],
   "source": [
    "#driver.close()"
   ]
  },
  {
   "cell_type": "code",
   "execution_count": 14,
   "metadata": {},
   "outputs": [
    {
     "name": "stdout",
     "output_type": "stream",
     "text": [
      "1\n",
      "grid_num:\n",
      " 32\n",
      "input location:\n",
      " (180.0, 179.2)\n",
      "2\n",
      "grid_num:\n",
      " 34\n",
      "input location:\n",
      " (420.0, 179.2)\n",
      "3\n",
      "grid_num:\n",
      " 38\n",
      "input location:\n",
      " (900.0, 179.2)\n"
     ]
    },
    {
     "ename": "MoveTargetOutOfBoundsException",
     "evalue": "Message: move target out of bounds\n  (Session info: chrome=112.0.5615.49)\nStacktrace:\n0   chromedriver                        0x00000001043d3ae8 chromedriver + 4958952\n1   chromedriver                        0x00000001043cb7b3 chromedriver + 4925363\n2   chromedriver                        0x0000000103f8d051 chromedriver + 475217\n3   chromedriver                        0x000000010401cb4b chromedriver + 1063755\n4   chromedriver                        0x0000000103ff6c12 chromedriver + 908306\n5   chromedriver                        0x000000010401225b chromedriver + 1020507\n6   chromedriver                        0x0000000103ff69e3 chromedriver + 907747\n7   chromedriver                        0x0000000103fc0aef chromedriver + 686831\n8   chromedriver                        0x0000000103fc200e chromedriver + 692238\n9   chromedriver                        0x000000010438f9ad chromedriver + 4680109\n10  chromedriver                        0x0000000104394c12 chromedriver + 4701202\n11  chromedriver                        0x000000010439b79f chromedriver + 4728735\n12  chromedriver                        0x0000000104395b7a chromedriver + 4705146\n13  chromedriver                        0x000000010436827e chromedriver + 4518526\n14  chromedriver                        0x00000001043b5908 chromedriver + 4835592\n15  chromedriver                        0x00000001043b5a87 chromedriver + 4835975\n16  chromedriver                        0x00000001043c500f chromedriver + 4898831\n17  libsystem_pthread.dylib             0x00007ff8012684e1 _pthread_start + 125\n18  libsystem_pthread.dylib             0x00007ff801263f6b thread_start + 15\n",
     "output_type": "error",
     "traceback": [
      "\u001b[0;31m---------------------------------------------------------------------------\u001b[0m",
      "\u001b[0;31mMoveTargetOutOfBoundsException\u001b[0m            Traceback (most recent call last)",
      "Cell \u001b[0;32mIn[14], line 26\u001b[0m\n\u001b[1;32m     24\u001b[0m \u001b[39mprint\u001b[39m(\u001b[39m\"\u001b[39m\u001b[39minput location:\u001b[39m\u001b[39m\\n\u001b[39;00m\u001b[39m\"\u001b[39m, input_location)\n\u001b[1;32m     25\u001b[0m element_html\u001b[39m.\u001b[39mclick()\n\u001b[0;32m---> 26\u001b[0m action\u001b[39m.\u001b[39;49mmove_to_element_with_offset(element_html, input_location[\u001b[39m0\u001b[39;49m], input_location[\u001b[39m1\u001b[39;49m])\u001b[39m.\u001b[39;49mclick()\u001b[39m.\u001b[39;49msend_keys(\u001b[39m\"\u001b[39;49m\u001b[39myes\u001b[39;49m\u001b[39m\"\u001b[39;49m)\u001b[39m.\u001b[39;49mperform()\n",
      "File \u001b[0;32m/Library/Frameworks/Python.framework/Versions/3.8/lib/python3.8/site-packages/selenium/webdriver/common/action_chains.py:73\u001b[0m, in \u001b[0;36mActionChains.perform\u001b[0;34m(self)\u001b[0m\n\u001b[1;32m     71\u001b[0m \u001b[39mdef\u001b[39;00m \u001b[39mperform\u001b[39m(\u001b[39mself\u001b[39m):\n\u001b[1;32m     72\u001b[0m \u001b[39m    \u001b[39m\u001b[39m\"\"\"Performs all stored actions.\"\"\"\u001b[39;00m\n\u001b[0;32m---> 73\u001b[0m     \u001b[39mself\u001b[39;49m\u001b[39m.\u001b[39;49mw3c_actions\u001b[39m.\u001b[39;49mperform()\n",
      "File \u001b[0;32m/Library/Frameworks/Python.framework/Versions/3.8/lib/python3.8/site-packages/selenium/webdriver/common/actions/action_builder.py:91\u001b[0m, in \u001b[0;36mActionBuilder.perform\u001b[0;34m(self)\u001b[0m\n\u001b[1;32m     89\u001b[0m         enc[\u001b[39m\"\u001b[39m\u001b[39mactions\u001b[39m\u001b[39m\"\u001b[39m]\u001b[39m.\u001b[39mappend(encoded)\n\u001b[1;32m     90\u001b[0m         device\u001b[39m.\u001b[39mactions \u001b[39m=\u001b[39m []\n\u001b[0;32m---> 91\u001b[0m \u001b[39mself\u001b[39;49m\u001b[39m.\u001b[39;49mdriver\u001b[39m.\u001b[39;49mexecute(Command\u001b[39m.\u001b[39;49mW3C_ACTIONS, enc)\n",
      "File \u001b[0;32m/Library/Frameworks/Python.framework/Versions/3.8/lib/python3.8/site-packages/selenium/webdriver/remote/webdriver.py:440\u001b[0m, in \u001b[0;36mWebDriver.execute\u001b[0;34m(self, driver_command, params)\u001b[0m\n\u001b[1;32m    438\u001b[0m response \u001b[39m=\u001b[39m \u001b[39mself\u001b[39m\u001b[39m.\u001b[39mcommand_executor\u001b[39m.\u001b[39mexecute(driver_command, params)\n\u001b[1;32m    439\u001b[0m \u001b[39mif\u001b[39;00m response:\n\u001b[0;32m--> 440\u001b[0m     \u001b[39mself\u001b[39;49m\u001b[39m.\u001b[39;49merror_handler\u001b[39m.\u001b[39;49mcheck_response(response)\n\u001b[1;32m    441\u001b[0m     response[\u001b[39m\"\u001b[39m\u001b[39mvalue\u001b[39m\u001b[39m\"\u001b[39m] \u001b[39m=\u001b[39m \u001b[39mself\u001b[39m\u001b[39m.\u001b[39m_unwrap_value(response\u001b[39m.\u001b[39mget(\u001b[39m\"\u001b[39m\u001b[39mvalue\u001b[39m\u001b[39m\"\u001b[39m, \u001b[39mNone\u001b[39;00m))\n\u001b[1;32m    442\u001b[0m     \u001b[39mreturn\u001b[39;00m response\n",
      "File \u001b[0;32m/Library/Frameworks/Python.framework/Versions/3.8/lib/python3.8/site-packages/selenium/webdriver/remote/errorhandler.py:245\u001b[0m, in \u001b[0;36mErrorHandler.check_response\u001b[0;34m(self, response)\u001b[0m\n\u001b[1;32m    243\u001b[0m         alert_text \u001b[39m=\u001b[39m value[\u001b[39m\"\u001b[39m\u001b[39malert\u001b[39m\u001b[39m\"\u001b[39m]\u001b[39m.\u001b[39mget(\u001b[39m\"\u001b[39m\u001b[39mtext\u001b[39m\u001b[39m\"\u001b[39m)\n\u001b[1;32m    244\u001b[0m     \u001b[39mraise\u001b[39;00m exception_class(message, screen, stacktrace, alert_text)  \u001b[39m# type: ignore[call-arg]  # mypy is not smart enough here\u001b[39;00m\n\u001b[0;32m--> 245\u001b[0m \u001b[39mraise\u001b[39;00m exception_class(message, screen, stacktrace)\n",
      "\u001b[0;31mMoveTargetOutOfBoundsException\u001b[0m: Message: move target out of bounds\n  (Session info: chrome=112.0.5615.49)\nStacktrace:\n0   chromedriver                        0x00000001043d3ae8 chromedriver + 4958952\n1   chromedriver                        0x00000001043cb7b3 chromedriver + 4925363\n2   chromedriver                        0x0000000103f8d051 chromedriver + 475217\n3   chromedriver                        0x000000010401cb4b chromedriver + 1063755\n4   chromedriver                        0x0000000103ff6c12 chromedriver + 908306\n5   chromedriver                        0x000000010401225b chromedriver + 1020507\n6   chromedriver                        0x0000000103ff69e3 chromedriver + 907747\n7   chromedriver                        0x0000000103fc0aef chromedriver + 686831\n8   chromedriver                        0x0000000103fc200e chromedriver + 692238\n9   chromedriver                        0x000000010438f9ad chromedriver + 4680109\n10  chromedriver                        0x0000000104394c12 chromedriver + 4701202\n11  chromedriver                        0x000000010439b79f chromedriver + 4728735\n12  chromedriver                        0x0000000104395b7a chromedriver + 4705146\n13  chromedriver                        0x000000010436827e chromedriver + 4518526\n14  chromedriver                        0x00000001043b5908 chromedriver + 4835592\n15  chromedriver                        0x00000001043b5a87 chromedriver + 4835975\n16  chromedriver                        0x00000001043c500f chromedriver + 4898831\n17  libsystem_pthread.dylib             0x00007ff8012684e1 _pthread_start + 125\n18  libsystem_pthread.dylib             0x00007ff801263f6b thread_start + 15\n"
     ]
    }
   ],
   "source": [
    "#after training and using those parametes to fetch the actions for a given state.\n",
    "#load the dictionaly. the dictionary outputs grid number. convert these to coordinates\n",
    "\n",
    "def grid_to_coordinates(grid_num, image_width, image_height,num_grid_x, num_grid_y):\n",
    "    \n",
    "    num_cols, num_rows = math.modf(grid_num / num_grid_y)\n",
    "    num_cols = round(num_cols,2)*10\n",
    "    \n",
    "\n",
    "    y_location = ((num_rows*image_height)/num_grid_y)+ (image_height*0.5/num_grid_y)\n",
    "    \n",
    "\n",
    "    x_location = ((num_cols*image_width)/num_grid_x) - (image_width*0.5/num_grid_y)\n",
    "    \n",
    "    return (x_location, y_location)\n",
    "\n",
    "element_html = driver.find_element(By.XPATH, '/html')\n",
    "action = webdriver.common.action_chains.ActionChains(driver)\n",
    "for item in range(1, len(element_dict)+1):\n",
    "    print(item)\n",
    "    grid_num = element_dict[item][\"input\"][\"grid_num\"]\n",
    "    print(\"grid_num:\\n\", grid_num)\n",
    "    input_location = grid_to_coordinates(grid_num, image_width, image_height,num_grid_x, num_grid_y)\n",
    "    print(\"input location:\\n\", input_location)\n",
    "    element_html.click()\n",
    "    action.move_to_element_with_offset(element_html, input_location[0], input_location[1]).click().send_keys(\"yes\").perform()\n",
    "\n"
   ]
  }
 ],
 "metadata": {
  "kernelspec": {
   "display_name": "Python 3",
   "language": "python",
   "name": "python3"
  },
  "language_info": {
   "codemirror_mode": {
    "name": "ipython",
    "version": 3
   },
   "file_extension": ".py",
   "mimetype": "text/x-python",
   "name": "python",
   "nbconvert_exporter": "python",
   "pygments_lexer": "ipython3",
   "version": "3.8.0"
  },
  "orig_nbformat": 4
 },
 "nbformat": 4,
 "nbformat_minor": 2
}
