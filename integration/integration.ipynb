{
 "cells": [
  {
   "cell_type": "code",
   "execution_count": 1,
   "metadata": {},
   "outputs": [],
   "source": [
    "from selenium import webdriver\n",
    "from selenium.webdriver.common.keys import Keys\n",
    "from selenium.webdriver.common.by import By\n",
    "from selenium.webdriver.chrome.options import Options\n",
    "import cv2"
   ]
  },
  {
   "cell_type": "code",
   "execution_count": 2,
   "metadata": {},
   "outputs": [
    {
     "name": "stdout",
     "output_type": "stream",
     "text": [
      "location of element input {'x': 255, 'y': 158}\n",
      "size of element input {'height': 38, 'width': 423}\n",
      "location of element_label {'x': 76, 'y': 134}\n",
      "size of element_label {'height': 24, 'width': 81}\n"
     ]
    }
   ],
   "source": [
    "chrome_options = Options()\n",
    "chrome_options.add_argument('window-size=640x640')\n",
    "driver = webdriver.Chrome(options=chrome_options)\n",
    "#driver.set_window_size(640,640)\n",
    "\n",
    "#driver.get(\"http://www.abc.net.au\")\n",
    "driver.get(\"http://localhost:3000/web1\")\n",
    "#current_window_size = driver.get_window_size(windowHandle='current')\n",
    "#print(\"current window size\",driver.get_window_size(windowHandle='current'))\n",
    "element_input = driver.find_element(\"xpath\",\"//input[@id='firstName']\")\n",
    "element_label = driver.find_element(By.XPATH, '/html/body/div/main/main/nav/main/div/form/div[1]/div[1]/label')\n",
    "print(\"location of element input\",element_input.location)\n",
    "print(\"size of element input\", element_input.size)\n",
    "print(\"location of element_label\",element_label.location)\n",
    "print(\"size of element_label\",element_label.size)\n"
   ]
  },
  {
   "cell_type": "code",
   "execution_count": 3,
   "metadata": {},
   "outputs": [
    {
     "name": "stdout",
     "output_type": "stream",
     "text": [
      "{'x': 0, 'y': 0}\n",
      "{'height': 512, 'width': 1200}\n"
     ]
    }
   ],
   "source": [
    "element_html = driver.find_element(By.XPATH, '/html')\n",
    "print(element_html.location)\n",
    "print(element_html.size)"
   ]
  },
  {
   "cell_type": "code",
   "execution_count": 3,
   "metadata": {},
   "outputs": [],
   "source": [
    "\n",
    "#image_height = current_window_size['height']\n",
    "#image_width = current_window_size['width']"
   ]
  },
  {
   "cell_type": "code",
   "execution_count": 4,
   "metadata": {},
   "outputs": [
    {
     "name": "stderr",
     "output_type": "stream",
     "text": [
      "/Library/Frameworks/Python.framework/Versions/3.8/lib/python3.8/site-packages/selenium/webdriver/remote/webdriver.py:889: UserWarning: name used for saved screenshot does not match file type. It should end with a `.png` extension\n",
      "  warnings.warn(\n"
     ]
    },
    {
     "data": {
      "text/plain": [
       "True"
      ]
     },
     "execution_count": 4,
     "metadata": {},
     "output_type": "execute_result"
    }
   ],
   "source": [
    "driver.save_screenshot(\"screenshots/web.jpg\")"
   ]
  },
  {
   "cell_type": "code",
   "execution_count": 20,
   "metadata": {},
   "outputs": [
    {
     "name": "stdout",
     "output_type": "stream",
     "text": [
      "image dimention:  (1490, 2400, 3)\n",
      "2.0\n",
      "2.91015625\n"
     ]
    }
   ],
   "source": [
    "# load the input image from disk\n",
    "image = cv2.imread(\"screenshots/web.jpg\")\n",
    "dimensions = image.shape\n",
    "\n",
    "print(\"image dimention: \", dimensions)\n",
    "\n",
    "ratio_width = dimensions[1]/float(element_html.size['width'])\n",
    "ratio_height = dimensions[0]/float(element_html.size['height'])\n",
    "req_dim = (element_html.size['width'], element_html.size['height'])\n",
    "#req_dim = (image_height, image_width)\n",
    "\n",
    "print(ratio_width)\n",
    "print(ratio_height)"
   ]
  },
  {
   "cell_type": "code",
   "execution_count": 27,
   "metadata": {},
   "outputs": [],
   "source": [
    "x_top_left = int(((element_label.location['x'])*ratio_height))\n",
    "y_top_left = int(((element_label.location['y'])*ratio_width))\n",
    "x_bottom_right = int(((x_top_left - element_label.size['width'])*ratio_height))\n",
    "y_bottom_right = int(((y_top_left + element_label.size['height'])*ratio_width))"
   ]
  },
  {
   "cell_type": "code",
   "execution_count": 25,
   "metadata": {},
   "outputs": [
    {
     "name": "stdout",
     "output_type": "stream",
     "text": [
      "152\n",
      "389\n",
      "142\n",
      "1201\n"
     ]
    }
   ],
   "source": [
    "print(x_top_left)\n",
    "print(y_top_left)\n",
    "print(x_bottom_right)\n",
    "print(y_bottom_right)"
   ]
  },
  {
   "cell_type": "code",
   "execution_count": 28,
   "metadata": {},
   "outputs": [
    {
     "name": "stdout",
     "output_type": "stream",
     "text": [
      "Resized Dimensions :  (512, 1200, 3)\n"
     ]
    },
    {
     "data": {
      "text/plain": [
       "-1"
      ]
     },
     "execution_count": 28,
     "metadata": {},
     "output_type": "execute_result"
    }
   ],
   "source": [
    "\n",
    "  \n",
    "# resize image\n",
    "resized = cv2.resize(image, req_dim, interpolation = cv2.INTER_AREA)\n",
    " \n",
    "print('Resized Dimensions : ',resized.shape)\n",
    " \n",
    "#cv2.imshow(\"Resized image\", resized)\n",
    "\n",
    "\n",
    "cv2.rectangle(resized, (x_top_left, y_top_left), (x_bottom_right, y_bottom_right), (0, 0, 255), 1)\n",
    "#cv2.circle(resized, (x_top_left, y_top_left+40), 5, (0, 0, 255), 1)\n",
    "#cv2.circle(resized, (0, 0), 5, (0, 0, 255), 1)\n",
    "# show the output image\n",
    "cv2.imshow(\"Output\", resized)\n",
    "cv2.waitKey(10000)\n",
    "cv2.waitKey(1)\n",
    "cv2.destroyAllWindows()\n",
    "cv2.waitKey(1)"
   ]
  },
  {
   "cell_type": "code",
   "execution_count": 19,
   "metadata": {},
   "outputs": [],
   "source": [
    "driver.close()"
   ]
  }
 ],
 "metadata": {
  "kernelspec": {
   "display_name": "Python 3",
   "language": "python",
   "name": "python3"
  },
  "language_info": {
   "codemirror_mode": {
    "name": "ipython",
    "version": 3
   },
   "file_extension": ".py",
   "mimetype": "text/x-python",
   "name": "python",
   "nbconvert_exporter": "python",
   "pygments_lexer": "ipython3",
   "version": "3.8.0"
  },
  "orig_nbformat": 4
 },
 "nbformat": 4,
 "nbformat_minor": 2
}
