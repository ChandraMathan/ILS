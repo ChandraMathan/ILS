{
 "cells": [
  {
   "cell_type": "code",
   "execution_count": 1,
   "metadata": {},
   "outputs": [],
   "source": [
    "from selenium import webdriver\n",
    "from selenium.webdriver.common.keys import Keys\n",
    "from selenium.webdriver.common.by import By\n",
    "from selenium.webdriver.chrome.options import Options\n",
    "\n",
    "import cv2\n",
    "import numpy as np\n",
    "\n",
    "import matplotlib.pyplot as plt\n",
    "import matplotlib.patches as patches\n",
    "from PIL import Image\n",
    "import math\n",
    "\n",
    "import pickle"
   ]
  },
  {
   "cell_type": "code",
   "execution_count": 2,
   "metadata": {},
   "outputs": [],
   "source": [
    "chrome_options = Options()\n",
    "driver = webdriver.Chrome(options=chrome_options)\n",
    "driver.set_window_size(1200,1000)\n",
    "driver.get(\"http://localhost:3000/web1\")\n"
   ]
  },
  {
   "cell_type": "code",
   "execution_count": 3,
   "metadata": {},
   "outputs": [
    {
     "name": "stdout",
     "output_type": "stream",
     "text": [
      "{'width': 1200, 'height': 1000}\n"
     ]
    }
   ],
   "source": [
    "current_window_size = driver.get_window_size(windowHandle='current')\n",
    "print(current_window_size)"
   ]
  },
  {
   "cell_type": "code",
   "execution_count": 6,
   "metadata": {},
   "outputs": [
    {
     "name": "stdout",
     "output_type": "stream",
     "text": [
      "root\n",
      "1\n",
      "2\n",
      "3\n",
      "4\n",
      "5\n",
      "6\n",
      "7\n"
     ]
    }
   ],
   "source": [
    "#get all elements which has id\n",
    "ids = driver.find_elements(\"xpath\",\"//*[@id]\")\n",
    "for id in ids:\n",
    "    print(id.get_attribute('id'))"
   ]
  },
  {
   "cell_type": "code",
   "execution_count": 4,
   "metadata": {},
   "outputs": [
    {
     "name": "stdout",
     "output_type": "stream",
     "text": [
      "{1: {'label': {'x_location': 76, 'y_location': 134, 'width': 81, 'height': 24, 'x_centre': 116.5, 'y_centre': 146.0}, 'input': {'x_location': 76, 'y_location': 158, 'width': 155, 'height': 38, 'x_centre': 153.5, 'y_centre': 177.0}}, 2: {'label': {'x_location': 255, 'y_location': 134, 'width': 76, 'height': 24, 'x_centre': 293.0, 'y_centre': 146.0}, 'input': {'x_location': 255, 'y_location': 158, 'width': 423, 'height': 38, 'x_centre': 466.5, 'y_centre': 177.0}}, 3: {'label': {'x_location': 701, 'y_location': 134, 'width': 75, 'height': 24, 'x_centre': 738.5, 'y_centre': 146.0}, 'input': {'x_location': 701, 'y_location': 158, 'width': 423, 'height': 38, 'x_centre': 912.5, 'y_centre': 177.0}}, 4: {'label': {'x_location': 66, 'y_location': 206, 'width': 105, 'height': 24, 'x_centre': 118.5, 'y_centre': 218.0}, 'input': {'x_location': 66, 'y_location': 230, 'width': 1068, 'height': 38, 'x_centre': 600.0, 'y_centre': 249.0}}, 5: {'label': {'x_location': 86, 'y_location': 288, 'width': 107, 'height': 24, 'x_centre': 139.5, 'y_centre': 300.0}, 'input': {'x_location': 86, 'y_location': 312, 'width': 414, 'height': 38, 'x_centre': 293.0, 'y_centre': 331.0}}, 6: {'label': {'x_location': 524, 'y_location': 288, 'width': 53, 'height': 24, 'x_centre': 550.5, 'y_centre': 300.0}, 'input': {'x_location': 524, 'y_location': 312, 'width': 414, 'height': 38, 'x_centre': 731.0, 'y_centre': 331.0}}, 7: {'label': {'x_location': 66, 'y_location': 370, 'width': 88, 'height': 24, 'x_centre': 110.0, 'y_centre': 382.0}, 'input': {'x_location': 66, 'y_location': 394, 'width': 267, 'height': 38, 'x_centre': 199.5, 'y_centre': 413.0}}}\n"
     ]
    }
   ],
   "source": [
    "\n",
    "#update location of element\n",
    "\n",
    "\n",
    "element_dict = {}\n",
    "for id in range(1,8):\n",
    "\n",
    "    element_dict[id] = {}\n",
    "    element_dict[id]['label'] = {}\n",
    "    element_dict[id]['input'] = {}\n",
    "    element_label = driver.find_element(\"xpath\",\"//label[@for='{}']\".format(str(id)))\n",
    "    element_input = driver.find_element(\"xpath\",\"//*[@id='{}']\".format(str(id)))\n",
    "    \n",
    "    element_dict[id]['label']['x_location'] = element_label.location['x']\n",
    "    element_dict[id]['label']['y_location'] = element_label.location['y']\n",
    "    element_dict[id]['label']['width'] = element_label.size['width']\n",
    "    element_dict[id]['label']['height'] = element_label.size['height']\n",
    "    element_dict[id]['label']['x_centre'] = element_label.location['x'] + round((element_label.size['width']/2.0),2)\n",
    "    element_dict[id]['label']['y_centre'] = element_label.location['y'] + round((element_label.size['height']/2.0),2)\n",
    "                                                                                        \n",
    "    element_dict[id]['input']['x_location'] = element_input.location['x']\n",
    "    element_dict[id]['input']['y_location'] = element_input.location['y']\n",
    "    element_dict[id]['input']['width'] = element_input.size['width']\n",
    "    element_dict[id]['input']['height'] = element_input.size['height']\n",
    "    element_dict[id]['input']['x_centre'] = element_input.location['x'] + round((element_input.size['width']/2.0),1)\n",
    "    element_dict[id]['input']['y_centre'] = element_input.location['y'] + round((element_input.size['height']/2.0),1)\n",
    "\n",
    "\n",
    "\n",
    "print(element_dict)\n",
    "\n"
   ]
  },
  {
   "cell_type": "code",
   "execution_count": 5,
   "metadata": {},
   "outputs": [
    {
     "name": "stdout",
     "output_type": "stream",
     "text": [
      "{'x': 0, 'y': 0}\n",
      "{'height': 432, 'width': 1200}\n"
     ]
    }
   ],
   "source": [
    "element_html = driver.find_element(By.XPATH, '/html')\n",
    "print(element_html.location)\n",
    "print(element_html.size)\n",
    "image_width = element_html.size['width']\n",
    "image_height = element_html.size['height']"
   ]
  },
  {
   "cell_type": "code",
   "execution_count": 6,
   "metadata": {},
   "outputs": [
    {
     "name": "stderr",
     "output_type": "stream",
     "text": [
      "/Library/Frameworks/Python.framework/Versions/3.8/lib/python3.8/site-packages/selenium/webdriver/remote/webelement.py:352: UserWarning: name used for saved screenshot does not match file type. It should end with a `.png` extension\n",
      "  warnings.warn(\n"
     ]
    },
    {
     "data": {
      "text/plain": [
       "True"
      ]
     },
     "execution_count": 6,
     "metadata": {},
     "output_type": "execute_result"
    }
   ],
   "source": [
    "#driver.save_screenshot(\"screenshots/web.jpg\")\n",
    "element_html.screenshot(\"screenshots/web.jpg\")"
   ]
  },
  {
   "cell_type": "code",
   "execution_count": 7,
   "metadata": {},
   "outputs": [],
   "source": [
    "#set grid size \n",
    "num_grid_x = 10\n",
    "num_grid_y = 10"
   ]
  },
  {
   "cell_type": "code",
   "execution_count": 8,
   "metadata": {},
   "outputs": [
    {
     "name": "stdout",
     "output_type": "stream",
     "text": [
      "(1200, 432)\n",
      "(1200, 432)\n"
     ]
    },
    {
     "name": "stderr",
     "output_type": "stream",
     "text": [
      "/var/folders/58/gd1m2zgn4hzgrrx4xcds_bg80000gp/T/ipykernel_6868/901593594.py:5: DeprecationWarning: ANTIALIAS is deprecated and will be removed in Pillow 10 (2023-07-01). Use Resampling.LANCZOS instead.\n",
      "  im = im.resize((image_width, image_height), Image.ANTIALIAS)\n"
     ]
    },
    {
     "data": {
      "image/png": "[encoded data removed]",
      "text/plain": [
       "<Figure size 640x480 with 1 Axes>"
      ]
     },
     "metadata": {},
     "output_type": "display_data"
    }
   ],
   "source": [
    "im = Image.open('screenshots/web.jpg')\n",
    "print(im.size)\n",
    "\n",
    "#resize\n",
    "im = im.resize((image_width, image_height), Image.ANTIALIAS)\n",
    "#im = im.resize((current_window_size['width'], current_window_size['height']), Image.ANTIALIAS)\n",
    "print(im.size)\n",
    "\n",
    "# Create figure and axes\n",
    "fig, ax = plt.subplots()\n",
    "\n",
    "# grid spacing\n",
    "x_ticks = np.arange(0, image_width, round((image_width / num_grid_x),2))\n",
    "y_ticks = np.arange(0, image_height, round((image_height / num_grid_x),2))\n",
    "\n",
    "\n",
    "ax.set_xticks(x_ticks)\n",
    "ax.set_yticks(y_ticks)\n",
    "\n",
    "ax.grid(True)\n",
    "\n",
    "# Display the image\n",
    "ax.imshow(im)\n",
    "\n",
    "\n",
    "\n",
    "for id in range(1,8):\n",
    "\n",
    "    rect_input = patches.Rectangle((element_dict[id]['input']['x_location'] , element_dict[id]['input']['y_location']), element_dict[id]['input']['width'], element_dict[id]['input']['height'], linewidth=1, edgecolor='r', facecolor='none')\n",
    "    x_centre_input = element_dict[id]['input']['x_centre']\n",
    "    y_centre_input = element_dict[id]['input']['y_centre']\n",
    "\n",
    "    rect_label = patches.Rectangle((element_dict[id]['label']['x_location'] , element_dict[id]['label']['y_location']), element_dict[id]['label']['width'], element_dict[id]['label']['height'], linewidth=1, edgecolor='r', facecolor='none')\n",
    "    x_centre_label = element_dict[id]['label']['x_centre']\n",
    "    y_centre_label = element_dict[id]['label']['y_centre']\n",
    "\n",
    "    # Add the patch to the Axes\n",
    "    ax.add_patch(rect_input)\n",
    "    ax.add_patch(rect_label)\n",
    "\n",
    "    #plot cente\n",
    "    cir_label = patches.Circle((x_centre_label, y_centre_label), radius = 3, linewidth=2, edgecolor='b', facecolor='none')\n",
    "    cir_input = patches.Circle((x_centre_input, y_centre_input), radius = 1, linewidth=1, edgecolor='r', facecolor='none')\n",
    "\n",
    "    ax.add_patch(cir_label)\n",
    "    ax.add_patch(cir_input)\n",
    "\n",
    "\n",
    "plt.show()"
   ]
  },
  {
   "cell_type": "code",
   "execution_count": 9,
   "metadata": {},
   "outputs": [
    {
     "name": "stdout",
     "output_type": "stream",
     "text": [
      "{1: {'label': 31, 'input': 42}, 2: {'label': 33, 'input': 44}, 3: {'label': 37, 'input': 48}, 4: {'label': 51, 'input': 55}, 5: {'label': 62, 'input': 73}, 6: {'label': 65, 'input': 77}, 7: {'label': 81, 'input': 92}}\n",
      "\n",
      " {1: {'label': {'x_location': 76, 'y_location': 134, 'width': 81, 'height': 24, 'x_centre': 116.5, 'y_centre': 146.0, 'grid_num': 31}, 'input': {'x_location': 76, 'y_location': 158, 'width': 155, 'height': 38, 'x_centre': 153.5, 'y_centre': 177.0, 'grid_num': 42}}, 2: {'label': {'x_location': 255, 'y_location': 134, 'width': 76, 'height': 24, 'x_centre': 293.0, 'y_centre': 146.0, 'grid_num': 33}, 'input': {'x_location': 255, 'y_location': 158, 'width': 423, 'height': 38, 'x_centre': 466.5, 'y_centre': 177.0, 'grid_num': 44}}, 3: {'label': {'x_location': 701, 'y_location': 134, 'width': 75, 'height': 24, 'x_centre': 738.5, 'y_centre': 146.0, 'grid_num': 37}, 'input': {'x_location': 701, 'y_location': 158, 'width': 423, 'height': 38, 'x_centre': 912.5, 'y_centre': 177.0, 'grid_num': 48}}, 4: {'label': {'x_location': 66, 'y_location': 206, 'width': 105, 'height': 24, 'x_centre': 118.5, 'y_centre': 218.0, 'grid_num': 51}, 'input': {'x_location': 66, 'y_location': 230, 'width': 1068, 'height': 38, 'x_centre': 600.0, 'y_centre': 249.0, 'grid_num': 55}}, 5: {'label': {'x_location': 86, 'y_location': 288, 'width': 107, 'height': 24, 'x_centre': 139.5, 'y_centre': 300.0, 'grid_num': 62}, 'input': {'x_location': 86, 'y_location': 312, 'width': 414, 'height': 38, 'x_centre': 293.0, 'y_centre': 331.0, 'grid_num': 73}}, 6: {'label': {'x_location': 524, 'y_location': 288, 'width': 53, 'height': 24, 'x_centre': 550.5, 'y_centre': 300.0, 'grid_num': 65}, 'input': {'x_location': 524, 'y_location': 312, 'width': 414, 'height': 38, 'x_centre': 731.0, 'y_centre': 331.0, 'grid_num': 77}}, 7: {'label': {'x_location': 66, 'y_location': 370, 'width': 88, 'height': 24, 'x_centre': 110.0, 'y_centre': 382.0, 'grid_num': 81}, 'input': {'x_location': 66, 'y_location': 394, 'width': 267, 'height': 38, 'x_centre': 199.5, 'y_centre': 413.0, 'grid_num': 92}}}\n"
     ]
    }
   ],
   "source": [
    "\n",
    "\n",
    "grid_num = {}\n",
    "\n",
    "for id in range(1, 8):\n",
    "\n",
    "    grid_num[id] = {}\n",
    "    element_dict[id]['label']['grid_num'] = {}\n",
    "    element_dict[id]['input']['grid_num'] = {}\n",
    "\n",
    "    y_centre_label = element_dict[id]['label']['y_centre']\n",
    "    x_centre_label = element_dict[id]['label']['x_centre']\n",
    "\n",
    "    y_centre_input = element_dict[id]['input']['y_centre']\n",
    "    x_centre_input = element_dict[id]['input']['x_centre']\n",
    "    \n",
    "\n",
    "    row_num_label = math.floor(y_centre_label*num_grid_y/element_html.size['height']) #this is the previous row of the element of interest\n",
    "    col_num_label = math.ceil(x_centre_label*num_grid_x/element_html.size['width']) #this is the column of the element of interest\n",
    "    grid_num_label = (row_num_label*num_grid_y) + col_num_label\n",
    "\n",
    "    row_num_input = math.floor(y_centre_input*num_grid_y/element_html.size['height']) #this is the previous row of the element of interest\n",
    "    col_num_input = math.ceil(x_centre_input*num_grid_x/element_html.size['width']) #this is the column of the element of interest\n",
    "    grid_num_input = (row_num_input*num_grid_y) + col_num_input\n",
    "    \n",
    "    grid_num[id]['label'] = grid_num_label\n",
    "    grid_num[id]['input'] = grid_num_input\n",
    "\n",
    "    element_dict[id]['label']['grid_num'] = grid_num_label\n",
    "    element_dict[id]['input']['grid_num'] = grid_num_input\n",
    "\n",
    "\n",
    "\n",
    "print(grid_num)\n",
    "print(\"\\n\", element_dict )"
   ]
  },
  {
   "cell_type": "code",
   "execution_count": 10,
   "metadata": {},
   "outputs": [],
   "source": [
    "#export as pickle\n",
    "\n",
    "with open('data/element_dictionary.pkl', 'wb') as f:\n",
    "    pickle.dump(element_dict, f)"
   ]
  },
  {
   "cell_type": "code",
   "execution_count": 42,
   "metadata": {},
   "outputs": [],
   "source": [
    "#driver.close()"
   ]
  },
  {
   "cell_type": "code",
   "execution_count": 11,
   "metadata": {},
   "outputs": [
    {
     "name": "stdout",
     "output_type": "stream",
     "text": [
      "Row, col :  5.0 5.0\n",
      "(540.0, 237.6)\n"
     ]
    }
   ],
   "source": [
    "#after training and using those parametes to fetch the actions for a given state.\n",
    "#load the dictionaly. the dictionary outputs grid number. convert these to coordinates\n",
    "\n",
    "def grid_to_coordinates(grid_num, image_width, image_height,num_grid_x, num_grid_y):\n",
    "    \n",
    "    num_cols, num_rows = math.modf(grid_num / num_grid_y)\n",
    "    num_cols = round(num_cols,2)*10\n",
    "    \n",
    "    print(\"Row, col : \", num_rows, num_cols)\n",
    "    \n",
    "    y_location = ((num_rows*image_height)/num_grid_y) + (image_height*0.5/num_grid_y)\n",
    "    \n",
    "\n",
    "    x_location = ((num_cols*image_width)/num_grid_x) - (image_width*0.5/num_grid_x)\n",
    "    \n",
    "    return (x_location, y_location)\n",
    "\n",
    "\n",
    "print(grid_to_coordinates(55, image_width, image_height,num_grid_x, num_grid_y))\n"
   ]
  },
  {
   "cell_type": "code",
   "execution_count": 12,
   "metadata": {},
   "outputs": [],
   "source": [
    "#import executed solution\n",
    "with open('../integration/data/solution_dictionary.pkl', 'rb') as f:\n",
    "    element_sol = pickle.load(f)"
   ]
  },
  {
   "cell_type": "code",
   "execution_count": 13,
   "metadata": {},
   "outputs": [
    {
     "name": "stdout",
     "output_type": "stream",
     "text": [
      "{31: {'state': array([31, 42, 44, 48, 55, 73, 77, 92]), 'action': 42}, 33: {'state': array([33, 42, 44, 48, 55, 73, 77, 92]), 'action': 44}, 37: {'state': array([37, 42, 44, 48, 55, 73, 77, 92]), 'action': 48}, 51: {'state': array([51, 42, 44, 48, 55, 73, 77, 92]), 'action': 55}, 62: {'state': array([62, 42, 44, 48, 55, 73, 77, 92]), 'action': 73}, 65: {'state': array([65, 42, 44, 48, 55, 73, 77, 92]), 'action': 77}, 81: {'state': array([81, 42, 44, 48, 55, 73, 77, 92]), 'action': 92}}\n"
     ]
    }
   ],
   "source": [
    "print(element_sol)"
   ]
  },
  {
   "cell_type": "code",
   "execution_count": 17,
   "metadata": {},
   "outputs": [
    {
     "name": "stdout",
     "output_type": "stream",
     "text": [
      "Row, col :  4.0 2.0\n",
      "x_offset, y_offset:  -420.0   -21.6\n",
      "Row, col :  4.0 4.0\n",
      "x_offset, y_offset:  -180.0   -21.6\n",
      "Row, col :  4.0 8.0\n",
      "x_offset, y_offset:  300.0   -21.6\n",
      "Row, col :  5.0 5.0\n",
      "x_offset, y_offset:  -60.0   21.6\n",
      "Row, col :  7.0 3.0\n",
      "x_offset, y_offset:  -300.0   108.0\n",
      "Row, col :  7.0 7.0\n",
      "x_offset, y_offset:  180.0   108.0\n",
      "Row, col :  9.0 2.0\n",
      "x_offset, y_offset:  -420.0   194.4\n"
     ]
    }
   ],
   "source": [
    "element_html = driver.find_element(By.XPATH, '/html')\n",
    "action = webdriver.common.action_chains.ActionChains(driver)\n",
    "for item in element_sol.keys():\n",
    "    grid_num =element_sol[item]['action']\n",
    "    input_location = grid_to_coordinates(grid_num, image_width, image_height, num_grid_x, num_grid_y)\n",
    "    x_offset = round(input_location[0] - element_html.size['width']/2.0,1)\n",
    "    y_offset = round(input_location[1] - element_html.size['height']/2.0,1)\n",
    "    \n",
    "    print(\"x_offset, y_offset: \", x_offset, \" \",y_offset)\n",
    "    action.move_to_element_with_offset(element_html, x_offset, y_offset).click().send_keys(\"yes\").perform()\n"
   ]
  },
  {
   "cell_type": "code",
   "execution_count": 14,
   "metadata": {},
   "outputs": [
    {
     "name": "stdout",
     "output_type": "stream",
     "text": [
      "image_width, image_height:  1200 432\n",
      "html dims:  {'height': 432, 'width': 1200}\n",
      "\n",
      "item:  2\n",
      "grid_num:  44\n",
      "Row, col :  4.0 4.0\n",
      "input location:  (420.0, 194.4)\n",
      "x_offset, y_offset:  -180.0   -21.6\n",
      "\n",
      "item:  3\n",
      "grid_num:  48\n",
      "Row, col :  4.0 8.0\n",
      "input location:  (900.0, 194.4)\n",
      "x_offset, y_offset:  300.0   -21.6\n",
      "\n",
      "item:  4\n",
      "grid_num:  55\n",
      "Row, col :  5.0 5.0\n",
      "input location:  (540.0, 237.6)\n",
      "x_offset, y_offset:  -60.0   21.6\n",
      "\n",
      "item:  5\n",
      "grid_num:  73\n",
      "Row, col :  7.0 3.0\n",
      "input location:  (300.0, 324.0)\n",
      "x_offset, y_offset:  -300.0   108.0\n",
      "\n",
      "item:  6\n",
      "grid_num:  77\n",
      "Row, col :  7.0 7.0\n",
      "input location:  (780.0, 324.0)\n",
      "x_offset, y_offset:  180.0   108.0\n"
     ]
    }
   ],
   "source": [
    "\n",
    "\n",
    "element_html = driver.find_element(By.XPATH, '/html')\n",
    "action = webdriver.common.action_chains.ActionChains(driver)\n",
    "print(\"image_width, image_height: \", image_width, image_height)\n",
    "print(\"html dims: \", element_html.size)\n",
    "for item in range(2, len(element_dict)):\n",
    "    element_html.click()\n",
    "    print(\"\\nitem: \",item)\n",
    "    grid_num = element_dict[item][\"input\"][\"grid_num\"]\n",
    "    print(\"grid_num: \", grid_num)\n",
    "    input_location = grid_to_coordinates(grid_num, image_width, image_height, num_grid_x, num_grid_y)\n",
    "    print(\"input location: \", input_location)\n",
    "    x_offset = round(input_location[0] - element_html.size['width']/2.0,1)\n",
    "    y_offset = round(input_location[1] - element_html.size['height']/2.0,1)\n",
    "    \n",
    "    print(\"x_offset, y_offset: \", x_offset, \" \",y_offset)\n",
    "\n",
    "    action.move_to_element_with_offset(element_html, x_offset, y_offset).click().send_keys(\"yes\").perform()\n",
    "    #action.move_by_offset(input_location[0], input_location[1]).send_keys(\"yes\").perform()"
   ]
  },
  {
   "cell_type": "code",
   "execution_count": 11,
   "metadata": {},
   "outputs": [
    {
     "name": "stdout",
     "output_type": "stream",
     "text": [
      "2023-04-28 11:28:35.977471\n",
      "<class 'str'>\n",
      "20230428112835977964\n"
     ]
    }
   ],
   "source": [
    "import datetime\n",
    "print(datetime.datetime.now())\n",
    "\n",
    "current_time = str(datetime.datetime.now())\n",
    "print(type(current_time))\n",
    "char_remov = [\":\", \" \", \".\", \"-\"]\n",
    "current_time = current_time.replace(':',\"\")\n",
    "\n",
    "for char in char_remov:\n",
    "    current_time = current_time.replace(char,\"\")\n",
    "\n",
    "print(current_time)\n"
   ]
  }
 ],
 "metadata": {
  "kernelspec": {
   "display_name": "Python 3",
   "language": "python",
   "name": "python3"
  },
  "language_info": {
   "codemirror_mode": {
    "name": "ipython",
    "version": 3
   },
   "file_extension": ".py",
   "mimetype": "text/x-python",
   "name": "python",
   "nbconvert_exporter": "python",
   "pygments_lexer": "ipython3",
   "version": "3.8.0"
  },
  "orig_nbformat": 4
 },
 "nbformat": 4,
 "nbformat_minor": 2
}
