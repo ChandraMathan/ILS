{
 "cells": [
  {
   "cell_type": "code",
   "execution_count": 1,
   "metadata": {},
   "outputs": [],
   "source": [
    "from setup_training import TrainingSetup\n",
    "import pickle"
   ]
  },
  {
   "cell_type": "code",
   "execution_count": 2,
   "metadata": {},
   "outputs": [
    {
     "name": "stderr",
     "output_type": "stream",
     "text": [
      "/Library/Frameworks/Python.framework/Versions/3.8/lib/python3.8/site-packages/selenium/webdriver/remote/webelement.py:352: UserWarning: name used for saved screenshot does not match file type. It should end with a `.png` extension\n",
      "  warnings.warn(\n"
     ]
    }
   ],
   "source": [
    "\n",
    "\"\"\" \n",
    "Params\n",
    "\n",
    "\"\"\"\n",
    "\n",
    "webpages = [\"http://localhost:3000/web1\",\"http://localhost:3000/web2\"]\n",
    "window_size = (1200,1000)\n",
    "num_horizontal_grid = 10\n",
    "num_vertical_grid = 10\n",
    "\n",
    "grid = (num_vertical_grid, num_horizontal_grid)\n",
    "num_states = 8\n",
    "\n",
    "output_dir = 'data/element_dictionary.pkl' #location of input and label fields and grid numbers\n",
    "screenshots_dir = 'screenshots/' #directory to help visulaization\n",
    "\n"
   ]
  },
  {
   "cell_type": "code",
   "execution_count": null,
   "metadata": {},
   "outputs": [],
   "source": [
    "#instantiate training setup\n",
    "open_web = TrainingSetup(webpages,window_size,grid)\n",
    "open_web.main(output_dir, screenshots_dir)"
   ]
  },
  {
   "cell_type": "code",
   "execution_count": 4,
   "metadata": {},
   "outputs": [
    {
     "name": "stdout",
     "output_type": "stream",
     "text": [
      "{'http://localhost:3000/web1': {'1': {'label': {'x_location': 76, 'y_location': 134, 'width': 81, 'height': 24, 'x_centre': 116.5, 'y_centre': 146.0, 'grid_num': 31}, 'input': {'x_location': 76, 'y_location': 158, 'width': 155, 'height': 38, 'x_centre': 153.5, 'y_centre': 177.0, 'grid_num': 42}}, '2': {'label': {'x_location': 255, 'y_location': 134, 'width': 76, 'height': 24, 'x_centre': 293.0, 'y_centre': 146.0, 'grid_num': 33}, 'input': {'x_location': 255, 'y_location': 158, 'width': 423, 'height': 38, 'x_centre': 466.5, 'y_centre': 177.0, 'grid_num': 44}}, '3': {'label': {'x_location': 701, 'y_location': 134, 'width': 75, 'height': 24, 'x_centre': 738.5, 'y_centre': 146.0, 'grid_num': 37}, 'input': {'x_location': 701, 'y_location': 158, 'width': 423, 'height': 38, 'x_centre': 912.5, 'y_centre': 177.0, 'grid_num': 48}}, '4': {'label': {'x_location': 66, 'y_location': 206, 'width': 105, 'height': 24, 'x_centre': 118.5, 'y_centre': 218.0, 'grid_num': 51}, 'input': {'x_location': 66, 'y_location': 230, 'width': 1068, 'height': 38, 'x_centre': 600.0, 'y_centre': 249.0, 'grid_num': 55}}, '5': {'label': {'x_location': 86, 'y_location': 288, 'width': 107, 'height': 24, 'x_centre': 139.5, 'y_centre': 300.0, 'grid_num': 62}, 'input': {'x_location': 86, 'y_location': 312, 'width': 414, 'height': 38, 'x_centre': 293.0, 'y_centre': 331.0, 'grid_num': 73}}, '6': {'label': {'x_location': 524, 'y_location': 288, 'width': 53, 'height': 24, 'x_centre': 550.5, 'y_centre': 300.0, 'grid_num': 65}, 'input': {'x_location': 524, 'y_location': 312, 'width': 414, 'height': 38, 'x_centre': 731.0, 'y_centre': 331.0, 'grid_num': 77}}, '7': {'label': {'x_location': 66, 'y_location': 370, 'width': 88, 'height': 24, 'x_centre': 110.0, 'y_centre': 382.0, 'grid_num': 81}, 'input': {'x_location': 66, 'y_location': 394, 'width': 267, 'height': 38, 'x_centre': 199.5, 'y_centre': 413.0, 'grid_num': 92}}}, 'http://localhost:3000/web2': {'firstName': {'label': {'x_location': 66, 'y_location': 192, 'width': 70, 'height': 24, 'x_centre': 101.0, 'y_centre': 204.0, 'grid_num': 71}, 'input': {'x_location': 66, 'y_location': 216, 'width': 344, 'height': 38, 'x_centre': 238.0, 'y_centre': 235.0, 'grid_num': 82}}, 'lastName': {'label': {'x_location': 434, 'y_location': 192, 'width': 72, 'height': 24, 'x_centre': 470.0, 'y_centre': 204.0, 'grid_num': 74}, 'input': {'x_location': 434, 'y_location': 216, 'width': 344, 'height': 38, 'x_centre': 606.0, 'y_centre': 235.0, 'grid_num': 86}}}}\n"
     ]
    }
   ],
   "source": [
    "with open('data/element_dictionary.pkl', 'rb') as f:\n",
    "    element_sol = pickle.load(f)\n",
    "\n",
    "print(element_sol)"
   ]
  }
 ],
 "metadata": {
  "kernelspec": {
   "display_name": "Python 3",
   "language": "python",
   "name": "python3"
  },
  "language_info": {
   "codemirror_mode": {
    "name": "ipython",
    "version": 3
   },
   "file_extension": ".py",
   "mimetype": "text/x-python",
   "name": "python",
   "nbconvert_exporter": "python",
   "pygments_lexer": "ipython3",
   "version": "3.8.0"
  },
  "orig_nbformat": 4
 },
 "nbformat": 4,
 "nbformat_minor": 2
}
