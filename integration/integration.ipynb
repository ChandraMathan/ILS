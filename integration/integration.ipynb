{
 "cells": [
  {
   "cell_type": "code",
   "execution_count": 19,
   "metadata": {},
   "outputs": [],
   "source": [
    "from selenium import webdriver\n",
    "from selenium.webdriver.common.keys import Keys\n",
    "from selenium.webdriver.common.by import By\n",
    "from selenium.webdriver.chrome.options import Options\n",
    "\n",
    "import cv2\n",
    "import numpy as np\n",
    "\n",
    "import matplotlib.pyplot as plt\n",
    "import matplotlib.patches as patches\n",
    "from PIL import Image\n",
    "import math"
   ]
  },
  {
   "cell_type": "code",
   "execution_count": 2,
   "metadata": {},
   "outputs": [
    {
     "name": "stdout",
     "output_type": "stream",
     "text": [
      "current window size {'width': 1200, 'height': 1011}\n",
      "location of element input {'x': 255, 'y': 158}\n",
      "size of element input {'height': 38, 'width': 423}\n",
      "location of element_label {'x': 76, 'y': 134}\n",
      "size of element_label {'height': 24, 'width': 81}\n"
     ]
    }
   ],
   "source": [
    "chrome_options = Options()\n",
    "chrome_options.add_argument('window-size=640x640')\n",
    "driver = webdriver.Chrome(options=chrome_options)\n",
    "#driver.set_window_size(640,640)\n",
    "\n",
    "#driver.get(\"http://www.abc.net.au\")\n",
    "driver.get(\"http://localhost:3000/web1\")\n",
    "current_window_size = driver.get_window_size(windowHandle='current')\n",
    "print(\"current window size\",driver.get_window_size(windowHandle='current'))\n",
    "element_input = driver.find_element(\"xpath\",\"//input[@id='firstName']\")\n",
    "element_label = driver.find_element(By.XPATH, '/html/body/div/main/main/nav/main/div/form/div[1]/div[1]/label')\n",
    "print(\"location of element input\",element_input.location)\n",
    "print(\"size of element input\", element_input.size)\n",
    "print(\"location of element_label\",element_label.location)\n",
    "print(\"size of element_label\",element_label.size)"
   ]
  },
  {
   "cell_type": "code",
   "execution_count": 3,
   "metadata": {},
   "outputs": [
    {
     "name": "stdout",
     "output_type": "stream",
     "text": [
      "{'x': 0, 'y': 0}\n",
      "{'height': 512, 'width': 1200}\n"
     ]
    }
   ],
   "source": [
    "element_html = driver.find_element(By.XPATH, '/html')\n",
    "print(element_html.location)\n",
    "print(element_html.size)"
   ]
  },
  {
   "cell_type": "code",
   "execution_count": 3,
   "metadata": {},
   "outputs": [],
   "source": [
    "\n",
    "#image_height = current_window_size['height']\n",
    "#image_width = current_window_size['width']"
   ]
  },
  {
   "cell_type": "code",
   "execution_count": 4,
   "metadata": {},
   "outputs": [
    {
     "name": "stderr",
     "output_type": "stream",
     "text": [
      "/Library/Frameworks/Python.framework/Versions/3.8/lib/python3.8/site-packages/selenium/webdriver/remote/webelement.py:352: UserWarning: name used for saved screenshot does not match file type. It should end with a `.png` extension\n",
      "  warnings.warn(\n"
     ]
    },
    {
     "data": {
      "text/plain": [
       "True"
      ]
     },
     "execution_count": 4,
     "metadata": {},
     "output_type": "execute_result"
    }
   ],
   "source": [
    "#driver.save_screenshot(\"screenshots/web.jpg\")\n",
    "element_html.screenshot(\"screenshots/web.jpg\")"
   ]
  },
  {
   "cell_type": "code",
   "execution_count": 16,
   "metadata": {},
   "outputs": [
    {
     "name": "stdout",
     "output_type": "stream",
     "text": [
      "(1200, 512)\n",
      "(1200, 512)\n"
     ]
    },
    {
     "name": "stderr",
     "output_type": "stream",
     "text": [
      "/var/folders/58/gd1m2zgn4hzgrrx4xcds_bg80000gp/T/ipykernel_2059/79901434.py:5: DeprecationWarning: ANTIALIAS is deprecated and will be removed in Pillow 10 (2023-07-01). Use Resampling.LANCZOS instead.\n",
      "  im = im.resize((element_html.size['width'], element_html.size['height']), Image.ANTIALIAS)\n"
     ]
    },
    {
     "data": {
      "image/png": "[encoded data removed]",
      "text/plain": [
       "<Figure size 640x480 with 1 Axes>"
      ]
     },
     "metadata": {},
     "output_type": "display_data"
    }
   ],
   "source": [
    "im = Image.open('screenshots/web.jpg')\n",
    "print(im.size)\n",
    "\n",
    "#resize\n",
    "im = im.resize((element_html.size['width'], element_html.size['height']), Image.ANTIALIAS)\n",
    "print(im.size)\n",
    "\n",
    "# Create figure and axes\n",
    "fig, ax = plt.subplots()\n",
    "\n",
    "# grid spacing\n",
    "x_ticks = np.arange(0, element_html.size['width'], 100)\n",
    "y_ticks = np.arange(0, element_html.size['height'], 100)\n",
    "\n",
    "ax.set_xticks(x_ticks)\n",
    "ax.set_yticks(y_ticks)\n",
    "\n",
    "ax.grid(True)\n",
    "\n",
    "# Display the image\n",
    "ax.imshow(im)\n",
    "\n",
    "# Create a Rectangle patch\n",
    "rect = patches.Rectangle((element_input.location['x'], element_input.location['y']), element_input.size['width'], element_input.size['height'], linewidth=1, edgecolor='r', facecolor='none')\n",
    "\n",
    "# Add the patch to the Axes\n",
    "ax.add_patch(rect)\n",
    "\n",
    "#find centre of the input\n",
    "x_centre = element_input.location['x']+ (element_input.size['width']/2.0)\n",
    "y_centre = element_input.location['y']+ (element_input.size['height']/2.0)\n",
    "\n",
    "#plot cente\n",
    "cir = patches.Circle((x_centre, y_centre), radius = 1, linewidth=1, edgecolor='r', facecolor='none')\n",
    "\n",
    "# Add the patch to the Axes\n",
    "ax.add_patch(cir)\n",
    "\n",
    "plt.show()"
   ]
  },
  {
   "cell_type": "code",
   "execution_count": 27,
   "metadata": {},
   "outputs": [
    {
     "name": "stdout",
     "output_type": "stream",
     "text": [
      "177.0\n",
      "1.77\n",
      "1\n",
      "466.5\n",
      "4.665\n",
      "4\n",
      "17\n"
     ]
    }
   ],
   "source": [
    "print(y_centre)\n",
    "print(y_centre/100)\n",
    "print(math.floor(y_centre/100))\n",
    "\n",
    "print(x_centre)\n",
    "print(x_centre/100)\n",
    "print(math.floor(x_centre/100))\n",
    "\n",
    "if math.ceil(y_centre/100)>0:\n",
    "    grid_num = (math.floor(y_centre/100) * 12) + (math.floor(x_centre/100) + 1)\n",
    "    \n",
    "print(grid_num)"
   ]
  },
  {
   "cell_type": "code",
   "execution_count": 14,
   "metadata": {},
   "outputs": [],
   "source": [
    "# Display the image\n",
    "ax.imshow(im)\n",
    "\n",
    "\n",
    "num_horizontal_grids = 10\n",
    "num_vertical_grids = 12\n",
    "#fig, ax = plt.subplots(figsize=(num_horizontal_grids, num_vertical_grids))\n",
    "ax.set_xlim(0, num_vertical_grids)\n",
    "ax.set_ylim(num_horizontal_grids, 0)\n",
    "ax.grid(True)\n",
    "ax.set_xticks(np.arange(0, num_vertical_grids + 1, 1.0))\n",
    "ax.set_yticks(np.arange(0, num_horizontal_grids + 1, 1.0))\n",
    "\n",
    "\n",
    "# create tuples of positions\n",
    "positions = [(x + 0.05, y + 0.5) for y in range(num_horizontal_grids) for x in range(num_vertical_grids)]\n",
    "\n",
    "\n",
    "grid_num = 1\n",
    "for x,y in positions:\n",
    "    ax.text(x,y, grid_num, color = \"blue\")\n",
    "    grid_num+=1\n",
    "\n",
    "\n",
    "plt.show()"
   ]
  },
  {
   "cell_type": "code",
   "execution_count": 13,
   "metadata": {},
   "outputs": [],
   "source": [
    "driver.close()"
   ]
  }
 ],
 "metadata": {
  "kernelspec": {
   "display_name": "Python 3",
   "language": "python",
   "name": "python3"
  },
  "language_info": {
   "codemirror_mode": {
    "name": "ipython",
    "version": 3
   },
   "file_extension": ".py",
   "mimetype": "text/x-python",
   "name": "python",
   "nbconvert_exporter": "python",
   "pygments_lexer": "ipython3",
   "version": "3.8.0"
  },
  "orig_nbformat": 4
 },
 "nbformat": 4,
 "nbformat_minor": 2
}
