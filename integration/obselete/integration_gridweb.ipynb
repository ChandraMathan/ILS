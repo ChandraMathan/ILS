{
 "cells": [
  {
   "attachments": {},
   "cell_type": "markdown",
   "metadata": {},
   "source": [
    "This note book is for grid based environment.  The location of label and input is based on the grid location.\n",
    "Refer to EnvWeb class in env_setup.py for details about this environment."
   ]
  },
  {
   "cell_type": "code",
   "execution_count": 1,
   "metadata": {},
   "outputs": [],
   "source": [
    "#set this parameter \n",
    "training_required = True\n",
    "#training_required = False"
   ]
  },
  {
   "cell_type": "code",
   "execution_count": 2,
   "metadata": {},
   "outputs": [],
   "source": [
    "#from ..setup_training import TrainingSetup\n",
    "import pickle\n",
    "\n",
    "import sys\n",
    "import os\n",
    "\n",
    "import pathlib\n",
    "import math\n",
    "\n",
    "import numpy as np"
   ]
  },
  {
   "cell_type": "code",
   "execution_count": 3,
   "metadata": {},
   "outputs": [],
   "source": [
    "#set system path to include relevent modules\n",
    "\n",
    "root_folder = pathlib.Path(os.getcwd()).parent.parent.resolve()\n",
    "script_dir = os.path.join(root_folder, \"DQN\")\n",
    "sys.path.append(os.path.dirname(script_dir))\n"
   ]
  },
  {
   "cell_type": "code",
   "execution_count": 5,
   "metadata": {},
   "outputs": [
    {
     "name": "stdout",
     "output_type": "stream",
     "text": [
      "Importing /Users/ml/Desktop/ILS/DQN/__init__.py\n"
     ]
    }
   ],
   "source": [
    "from integration.navigation_web import NavigateWeb\n",
    "from DQN.env_setup import EnvWeb\n",
    "from DQN.dqn_training import Training\n",
    "from DQN.dqn_execution import DQNExecution\n",
    "from DQN.env_setup import EnvWeb2D\n",
    "from integration.setup_training import TrainingSetup"
   ]
  },
  {
   "cell_type": "code",
   "execution_count": 6,
   "metadata": {},
   "outputs": [],
   "source": [
    "\"\"\" \n",
    "Params\n",
    "\n",
    "\"\"\"\n",
    "\n",
    "webpages = [\"http://localhost:3000/webtrain1\" ,\"http://localhost:3000/webtrain2\", \"http://localhost:3000/webtrain3\",\"http://localhost:3000/webtrain4\",\"http://localhost:3000/webtrain5\",\"http://localhost:3000/webtrain6\",\"http://localhost:3000/webtrain7\",\"http://localhost:3000/webtrain8\",\"http://localhost:3000/webtrain9\",\"http://localhost:3000/webtrain10\"] \n",
    "\n",
    "\n",
    "window_size = (1200,1000)\n",
    "num_horizontal_grid = 10\n",
    "num_vertical_grid = 10\n",
    "\n",
    "grid = (num_vertical_grid, num_horizontal_grid)\n",
    "num_states = 20\n",
    "\n",
    "dict_web_dir = '../data/element_dictionary.pkl' #location of input and label fields and grid numbers stored as dictionary after processing\n",
    "screenshots_dir = '../screenshots/' #directory to help visulaization"
   ]
  },
  {
   "cell_type": "code",
   "execution_count": 17,
   "metadata": {},
   "outputs": [
    {
     "name": "stderr",
     "output_type": "stream",
     "text": [
      "/Library/Frameworks/Python.framework/Versions/3.8/lib/python3.8/site-packages/selenium/webdriver/remote/webelement.py:352: UserWarning: name used for saved screenshot does not match file type. It should end with a `.png` extension\n",
      "  warnings.warn(\n"
     ]
    }
   ],
   "source": [
    "#instantiate training setup\n",
    "\"\"\" \n",
    "webpage ids are extracted and prepped for training\n",
    "outputs dictionary of input and label locations and grid nums\n",
    "\"\"\"\n",
    "if training_required == True:\n",
    "    open_web = TrainingSetup(webpages,window_size,grid)\n",
    "    open_web.main(dict_web_dir, screenshots_dir)"
   ]
  },
  {
   "cell_type": "code",
   "execution_count": 7,
   "metadata": {},
   "outputs": [
    {
     "name": "stdout",
     "output_type": "stream",
     "text": [
      "\n",
      "web element details:\n",
      "  {'http://localhost:3000/webtrain1': {'1': {'label': {'x_location': 66, 'y_location': 137, 'width': 31, 'height': 24, 'x_centre': 81.5, 'y_centre': 149.0, 'grid_num': 31}, 'input': {'x_location': 66, 'y_location': 161, 'width': 522, 'height': 38, 'x_centre': 327.0, 'y_centre': 180.0, 'grid_num': 43}}, '2': {'label': {'x_location': 612, 'y_location': 137, 'width': 78, 'height': 24, 'x_centre': 651.0, 'y_centre': 149.0, 'grid_num': 36}, 'input': {'x_location': 612, 'y_location': 161, 'width': 522, 'height': 38, 'x_centre': 873.0, 'y_centre': 180.0, 'grid_num': 48}}, '3': {'label': {'x_location': 66, 'y_location': 199, 'width': 77, 'height': 24, 'x_centre': 104.5, 'y_centre': 211.0, 'grid_num': 51}, 'input': {'x_location': 66, 'y_location': 223, 'width': 712, 'height': 38, 'x_centre': 422.0, 'y_centre': 242.0, 'grid_num': 64}}, '4': {'label': {'x_location': 66, 'y_location': 261, 'width': 91, 'height': 24, 'x_centre': 111.5, 'y_centre': 273.0, 'grid_num': 71}, 'input': {'x_location': 66, 'y_location': 285, 'width': 445, 'height': 38, 'x_centre': 288.5, 'y_centre': 304.0, 'grid_num': 73}}, '5': {'label': {'x_location': 66, 'y_location': 323, 'width': 115, 'height': 24, 'x_centre': 123.5, 'y_centre': 335.0, 'grid_num': 82}, 'input': {'x_location': 66, 'y_location': 347, 'width': 522, 'height': 38, 'x_centre': 327.0, 'y_centre': 366.0, 'grid_num': 93}}, '6': {'label': {'x_location': 612, 'y_location': 323, 'width': 104, 'height': 24, 'x_centre': 664.0, 'y_centre': 335.0, 'grid_num': 86}, 'input': {'x_location': 612, 'y_location': 347, 'width': 522, 'height': 38, 'x_centre': 873.0, 'y_centre': 366.0, 'grid_num': 98}}}, 'http://localhost:3000/webtrain2': {'1': {'label': {'x_location': 66, 'y_location': 137, 'width': 72, 'height': 24, 'x_centre': 102.0, 'y_centre': 149.0, 'grid_num': 31}, 'input': {'x_location': 66, 'y_location': 161, 'width': 613, 'height': 38, 'x_centre': 372.5, 'y_centre': 180.0, 'grid_num': 44}}, '2': {'label': {'x_location': 66, 'y_location': 199, 'width': 105, 'height': 24, 'x_centre': 118.5, 'y_centre': 211.0, 'grid_num': 41}, 'input': {'x_location': 66, 'y_location': 223, 'width': 704, 'height': 38, 'x_centre': 418.0, 'y_centre': 242.0, 'grid_num': 54}}, '3': {'label': {'x_location': 66, 'y_location': 261, 'width': 107, 'height': 24, 'x_centre': 119.5, 'y_centre': 273.0, 'grid_num': 61}, 'input': {'x_location': 66, 'y_location': 285, 'width': 623, 'height': 38, 'x_centre': 377.5, 'y_centre': 304.0, 'grid_num': 64}}, '4': {'label': {'x_location': 66, 'y_location': 323, 'width': 53, 'height': 24, 'x_centre': 92.5, 'y_centre': 335.0, 'grid_num': 71}, 'input': {'x_location': 66, 'y_location': 347, 'width': 522, 'height': 38, 'x_centre': 327.0, 'y_centre': 366.0, 'grid_num': 83}}, '5': {'label': {'x_location': 612, 'y_location': 323, 'width': 75, 'height': 24, 'x_centre': 649.5, 'y_centre': 335.0, 'grid_num': 76}, 'input': {'x_location': 612, 'y_location': 347, 'width': 522, 'height': 38, 'x_centre': 873.0, 'y_centre': 366.0, 'grid_num': 88}}, '6': {'label': {'x_location': 66, 'y_location': 385, 'width': 38, 'height': 24, 'x_centre': 85.0, 'y_centre': 397.0, 'grid_num': 81}, 'input': {'x_location': 66, 'y_location': 409, 'width': 67, 'height': 38, 'x_centre': 99.5, 'y_centre': 428.0, 'grid_num': 91}}, '7': {'label': {'x_location': 157, 'y_location': 385, 'width': 108, 'height': 24, 'x_centre': 211.0, 'y_centre': 397.0, 'grid_num': 82}, 'input': {'x_location': 157, 'y_location': 409, 'width': 613, 'height': 38, 'x_centre': 463.5, 'y_centre': 428.0, 'grid_num': 94}}}, 'http://localhost:3000/webtrain3': {'1': {'label': {'x_location': 66, 'y_location': 137, 'width': 31, 'height': 24, 'x_centre': 81.5, 'y_centre': 149.0, 'grid_num': 31}, 'input': {'x_location': 66, 'y_location': 161, 'width': 522, 'height': 38, 'x_centre': 327.0, 'y_centre': 180.0, 'grid_num': 43}}, '2': {'label': {'x_location': 66, 'y_location': 199, 'width': 78, 'height': 24, 'x_centre': 105.0, 'y_centre': 211.0, 'grid_num': 41}, 'input': {'x_location': 66, 'y_location': 223, 'width': 886, 'height': 38, 'x_centre': 509.0, 'y_centre': 242.0, 'grid_num': 55}}, '3': {'label': {'x_location': 66, 'y_location': 261, 'width': 77, 'height': 24, 'x_centre': 104.5, 'y_centre': 273.0, 'grid_num': 61}, 'input': {'x_location': 66, 'y_location': 285, 'width': 340, 'height': 38, 'x_centre': 236.0, 'y_centre': 304.0, 'grid_num': 62}}, '4': {'label': {'x_location': 430, 'y_location': 261, 'width': 111, 'height': 24, 'x_centre': 485.5, 'y_centre': 273.0, 'grid_num': 65}, 'input': {'x_location': 430, 'y_location': 285, 'width': 431, 'height': 38, 'x_centre': 645.5, 'y_centre': 304.0, 'grid_num': 66}}, '5': {'label': {'x_location': 66, 'y_location': 323, 'width': 105, 'height': 24, 'x_centre': 118.5, 'y_centre': 335.0, 'grid_num': 71}, 'input': {'x_location': 66, 'y_location': 347, 'width': 158, 'height': 38, 'x_centre': 145.0, 'y_centre': 366.0, 'grid_num': 82}}, '6': {'label': {'x_location': 248, 'y_location': 323, 'width': 107, 'height': 24, 'x_centre': 301.5, 'y_centre': 335.0, 'grid_num': 73}, 'input': {'x_location': 248, 'y_location': 347, 'width': 795, 'height': 38, 'x_centre': 645.5, 'y_centre': 366.0, 'grid_num': 86}}, '7': {'label': {'x_location': 66, 'y_location': 385, 'width': 89, 'height': 24, 'x_centre': 110.5, 'y_centre': 397.0, 'grid_num': 81}, 'input': {'x_location': 66, 'y_location': 409, 'width': 522, 'height': 38, 'x_centre': 327.0, 'y_centre': 428.0, 'grid_num': 93}}, '8': {'label': {'x_location': 612, 'y_location': 385, 'width': 73, 'height': 24, 'x_centre': 648.5, 'y_centre': 397.0, 'grid_num': 86}, 'input': {'x_location': 612, 'y_location': 409, 'width': 522, 'height': 38, 'x_centre': 873.0, 'y_centre': 428.0, 'grid_num': 98}}}, 'http://localhost:3000/webtrain4': {'1': {'label': {'x_location': 66, 'y_location': 137, 'width': 83, 'height': 24, 'x_centre': 107.5, 'y_centre': 149.0, 'grid_num': 31}, 'input': {'x_location': 66, 'y_location': 161, 'width': 522, 'height': 38, 'x_centre': 327.0, 'y_centre': 180.0, 'grid_num': 43}}, '2': {'label': {'x_location': 612, 'y_location': 137, 'width': 98, 'height': 24, 'x_centre': 661.0, 'y_centre': 149.0, 'grid_num': 36}, 'input': {'x_location': 612, 'y_location': 161, 'width': 522, 'height': 38, 'x_centre': 873.0, 'y_centre': 180.0, 'grid_num': 48}}, '3': {'label': {'x_location': 66, 'y_location': 199, 'width': 59, 'height': 24, 'x_centre': 95.5, 'y_centre': 211.0, 'grid_num': 51}, 'input': {'x_location': 66, 'y_location': 223, 'width': 623, 'height': 38, 'x_centre': 377.5, 'y_centre': 242.0, 'grid_num': 64}}, '4': {'label': {'x_location': 66, 'y_location': 261, 'width': 93, 'height': 24, 'x_centre': 112.5, 'y_centre': 273.0, 'grid_num': 71}, 'input': {'x_location': 66, 'y_location': 285, 'width': 249, 'height': 38, 'x_centre': 190.5, 'y_centre': 304.0, 'grid_num': 72}}, '5': {'label': {'x_location': 339, 'y_location': 261, 'width': 120, 'height': 24, 'x_centre': 399.0, 'y_centre': 273.0, 'grid_num': 74}, 'input': {'x_location': 339, 'y_location': 285, 'width': 522, 'height': 38, 'x_centre': 600.0, 'y_centre': 304.0, 'grid_num': 75}}, '6': {'label': {'x_location': 66, 'y_location': 323, 'width': 57, 'height': 24, 'x_centre': 94.5, 'y_centre': 335.0, 'grid_num': 81}, 'input': {'x_location': 66, 'y_location': 347, 'width': 522, 'height': 38, 'x_centre': 327.0, 'y_centre': 366.0, 'grid_num': 93}}, '7': {'label': {'x_location': 612, 'y_location': 323, 'width': 74, 'height': 24, 'x_centre': 649.0, 'y_centre': 335.0, 'grid_num': 86}, 'input': {'x_location': 612, 'y_location': 347, 'width': 522, 'height': 38, 'x_centre': 873.0, 'y_centre': 366.0, 'grid_num': 98}}}, 'http://localhost:3000/webtrain5': {'1': {'label': {'x_location': 66, 'y_location': 137, 'width': 119, 'height': 24, 'x_centre': 125.5, 'y_centre': 149.0, 'grid_num': 32}, 'input': {'x_location': 66, 'y_location': 161, 'width': 522, 'height': 38, 'x_centre': 327.0, 'y_centre': 180.0, 'grid_num': 43}}, '2': {'label': {'x_location': 612, 'y_location': 137, 'width': 114, 'height': 24, 'x_centre': 669.0, 'y_centre': 149.0, 'grid_num': 36}, 'input': {'x_location': 612, 'y_location': 161, 'width': 522, 'height': 38, 'x_centre': 873.0, 'y_centre': 180.0, 'grid_num': 48}}, '3': {'label': {'x_location': 66, 'y_location': 199, 'width': 60, 'height': 24, 'x_centre': 96.0, 'y_centre': 211.0, 'grid_num': 51}, 'input': {'x_location': 66, 'y_location': 223, 'width': 67, 'height': 38, 'x_centre': 99.5, 'y_centre': 242.0, 'grid_num': 61}}, '4': {'label': {'x_location': 157, 'y_location': 199, 'width': 59, 'height': 24, 'x_centre': 186.5, 'y_centre': 211.0, 'grid_num': 52}, 'input': {'x_location': 157, 'y_location': 223, 'width': 340, 'height': 38, 'x_centre': 327.0, 'y_centre': 242.0, 'grid_num': 63}}, '5': {'label': {'x_location': 66, 'y_location': 261, 'width': 99, 'height': 24, 'x_centre': 115.5, 'y_centre': 273.0, 'grid_num': 71}, 'input': {'x_location': 66, 'y_location': 285, 'width': 158, 'height': 38, 'x_centre': 145.0, 'y_centre': 304.0, 'grid_num': 72}}, '6': {'label': {'x_location': 248, 'y_location': 261, 'width': 101, 'height': 24, 'x_centre': 298.5, 'y_centre': 273.0, 'grid_num': 73}, 'input': {'x_location': 248, 'y_location': 285, 'width': 158, 'height': 38, 'x_centre': 327.0, 'y_centre': 304.0, 'grid_num': 73}}, '7': {'label': {'x_location': 66, 'y_location': 323, 'width': 74, 'height': 24, 'x_centre': 103.0, 'y_centre': 335.0, 'grid_num': 81}, 'input': {'x_location': 66, 'y_location': 347, 'width': 795, 'height': 38, 'x_centre': 463.5, 'y_centre': 366.0, 'grid_num': 94}}, '8': {'label': {'x_location': 885, 'y_location': 323, 'width': 73, 'height': 24, 'x_centre': 921.5, 'y_centre': 335.0, 'grid_num': 88}, 'input': {'x_location': 885, 'y_location': 347, 'width': 158, 'height': 38, 'x_centre': 964.0, 'y_centre': 366.0, 'grid_num': 99}}}, 'http://localhost:3000/webtrain6': {'1': {'label': {'x_location': 66, 'y_location': 137, 'width': 163, 'height': 24, 'x_centre': 147.5, 'y_centre': 149.0, 'grid_num': 32}, 'input': {'x_location': 66, 'y_location': 161, 'width': 522, 'height': 38, 'x_centre': 327.0, 'y_centre': 180.0, 'grid_num': 43}}, '2': {'label': {'x_location': 612, 'y_location': 137, 'width': 112, 'height': 24, 'x_centre': 668.0, 'y_centre': 149.0, 'grid_num': 36}, 'input': {'x_location': 612, 'y_location': 161, 'width': 522, 'height': 38, 'x_centre': 873.0, 'y_centre': 180.0, 'grid_num': 48}}, '3': {'label': {'x_location': 66, 'y_location': 199, 'width': 155, 'height': 24, 'x_centre': 143.5, 'y_centre': 211.0, 'grid_num': 52}, 'input': {'x_location': 66, 'y_location': 223, 'width': 522, 'height': 38, 'x_centre': 327.0, 'y_centre': 242.0, 'grid_num': 63}}, '4': {'label': {'x_location': 612, 'y_location': 199, 'width': 119, 'height': 24, 'x_centre': 671.5, 'y_centre': 211.0, 'grid_num': 56}, 'input': {'x_location': 612, 'y_location': 223, 'width': 522, 'height': 38, 'x_centre': 873.0, 'y_centre': 242.0, 'grid_num': 68}}, '5': {'label': {'x_location': 66, 'y_location': 261, 'width': 105, 'height': 24, 'x_centre': 118.5, 'y_centre': 273.0, 'grid_num': 71}, 'input': {'x_location': 66, 'y_location': 285, 'width': 522, 'height': 38, 'x_centre': 327.0, 'y_centre': 304.0, 'grid_num': 73}}, '6': {'label': {'x_location': 612, 'y_location': 261, 'width': 74, 'height': 24, 'x_centre': 649.0, 'y_centre': 273.0, 'grid_num': 76}, 'input': {'x_location': 612, 'y_location': 285, 'width': 522, 'height': 38, 'x_centre': 873.0, 'y_centre': 304.0, 'grid_num': 78}}, '7': {'label': {'x_location': 66, 'y_location': 323, 'width': 66, 'height': 24, 'x_centre': 99.0, 'y_centre': 335.0, 'grid_num': 81}, 'input': {'x_location': 66, 'y_location': 347, 'width': 445, 'height': 38, 'x_centre': 288.5, 'y_centre': 366.0, 'grid_num': 93}}}, 'http://localhost:3000/webtrain7': {'1': {'label': {'x_location': 66, 'y_location': 137, 'width': 43, 'height': 24, 'x_centre': 87.5, 'y_centre': 149.0, 'grid_num': 31}, 'input': {'x_location': 66, 'y_location': 161, 'width': 340, 'height': 38, 'x_centre': 236.0, 'y_centre': 180.0, 'grid_num': 42}}, '2': {'label': {'x_location': 430, 'y_location': 137, 'width': 108, 'height': 24, 'x_centre': 484.0, 'y_centre': 149.0, 'grid_num': 35}, 'input': {'x_location': 430, 'y_location': 161, 'width': 249, 'height': 38, 'x_centre': 554.5, 'y_centre': 180.0, 'grid_num': 45}}, '3': {'label': {'x_location': 66, 'y_location': 199, 'width': 39, 'height': 24, 'x_centre': 85.5, 'y_centre': 211.0, 'grid_num': 51}, 'input': {'x_location': 66, 'y_location': 223, 'width': 522, 'height': 38, 'x_centre': 327.0, 'y_centre': 242.0, 'grid_num': 63}}, '4': {'label': {'x_location': 612, 'y_location': 199, 'width': 105, 'height': 24, 'x_centre': 664.5, 'y_centre': 211.0, 'grid_num': 56}, 'input': {'x_location': 612, 'y_location': 223, 'width': 522, 'height': 38, 'x_centre': 873.0, 'y_centre': 242.0, 'grid_num': 68}}, '5': {'label': {'x_location': 66, 'y_location': 261, 'width': 107, 'height': 24, 'x_centre': 119.5, 'y_centre': 273.0, 'grid_num': 71}, 'input': {'x_location': 66, 'y_location': 285, 'width': 522, 'height': 38, 'x_centre': 327.0, 'y_centre': 304.0, 'grid_num': 73}}, '6': {'label': {'x_location': 612, 'y_location': 261, 'width': 53, 'height': 24, 'x_centre': 638.5, 'y_centre': 273.0, 'grid_num': 76}, 'input': {'x_location': 612, 'y_location': 285, 'width': 67, 'height': 38, 'x_centre': 645.5, 'y_centre': 304.0, 'grid_num': 76}}, '7': {'label': {'x_location': 66, 'y_location': 323, 'width': 83, 'height': 24, 'x_centre': 107.5, 'y_centre': 335.0, 'grid_num': 81}, 'input': {'x_location': 66, 'y_location': 347, 'width': 522, 'height': 38, 'x_centre': 327.0, 'y_centre': 366.0, 'grid_num': 93}}, '8': {'label': {'x_location': 612, 'y_location': 323, 'width': 73, 'height': 24, 'x_centre': 648.5, 'y_centre': 335.0, 'grid_num': 86}, 'input': {'x_location': 612, 'y_location': 347, 'width': 522, 'height': 38, 'x_centre': 873.0, 'y_centre': 366.0, 'grid_num': 98}}}, 'http://localhost:3000/webtrain8': {'1': {'label': {'x_location': 66, 'y_location': 137, 'width': 147, 'height': 24, 'x_centre': 139.5, 'y_centre': 149.0, 'grid_num': 32}, 'input': {'x_location': 66, 'y_location': 161, 'width': 522, 'height': 38, 'x_centre': 327.0, 'y_centre': 180.0, 'grid_num': 43}}, '2': {'label': {'x_location': 612, 'y_location': 137, 'width': 74, 'height': 24, 'x_centre': 649.0, 'y_centre': 149.0, 'grid_num': 36}, 'input': {'x_location': 612, 'y_location': 161, 'width': 522, 'height': 38, 'x_centre': 873.0, 'y_centre': 180.0, 'grid_num': 48}}, '3': {'label': {'x_location': 66, 'y_location': 199, 'width': 107, 'height': 24, 'x_centre': 119.5, 'y_centre': 211.0, 'grid_num': 41}, 'input': {'x_location': 66, 'y_location': 223, 'width': 356, 'height': 38, 'x_centre': 244.0, 'y_centre': 242.0, 'grid_num': 53}}, '4': {'label': {'x_location': 66, 'y_location': 261, 'width': 87, 'height': 24, 'x_centre': 109.5, 'y_centre': 273.0, 'grid_num': 61}, 'input': {'x_location': 66, 'y_location': 285, 'width': 886, 'height': 38, 'x_centre': 509.0, 'y_centre': 304.0, 'grid_num': 65}}, '5': {'label': {'x_location': 66, 'y_location': 323, 'width': 88, 'height': 24, 'x_centre': 110.0, 'y_centre': 335.0, 'grid_num': 71}, 'input': {'x_location': 66, 'y_location': 347, 'width': 613, 'height': 38, 'x_centre': 372.5, 'y_centre': 366.0, 'grid_num': 84}}, '6': {'label': {'x_location': 66, 'y_location': 385, 'width': 86, 'height': 24, 'x_centre': 109.0, 'y_centre': 397.0, 'grid_num': 81}, 'input': {'x_location': 66, 'y_location': 409, 'width': 522, 'height': 38, 'x_centre': 327.0, 'y_centre': 428.0, 'grid_num': 93}}, '7': {'label': {'x_location': 612, 'y_location': 385, 'width': 103, 'height': 24, 'x_centre': 663.5, 'y_centre': 397.0, 'grid_num': 86}, 'input': {'x_location': 612, 'y_location': 409, 'width': 522, 'height': 38, 'x_centre': 873.0, 'y_centre': 428.0, 'grid_num': 98}}}, 'http://localhost:3000/webtrain9': {'1': {'label': {'x_location': 66, 'y_location': 137, 'width': 109, 'height': 24, 'x_centre': 120.5, 'y_centre': 149.0, 'grid_num': 32}, 'input': {'x_location': 66, 'y_location': 161, 'width': 795, 'height': 38, 'x_centre': 463.5, 'y_centre': 180.0, 'grid_num': 44}}, '2': {'label': {'x_location': 66, 'y_location': 199, 'width': 105, 'height': 24, 'x_centre': 118.5, 'y_centre': 211.0, 'grid_num': 41}, 'input': {'x_location': 66, 'y_location': 223, 'width': 431, 'height': 38, 'x_centre': 281.5, 'y_centre': 242.0, 'grid_num': 53}}, '3': {'label': {'x_location': 66, 'y_location': 261, 'width': 107, 'height': 24, 'x_centre': 119.5, 'y_centre': 273.0, 'grid_num': 61}, 'input': {'x_location': 66, 'y_location': 285, 'width': 886, 'height': 38, 'x_centre': 509.0, 'y_centre': 304.0, 'grid_num': 65}}, '4': {'label': {'x_location': 976, 'y_location': 261, 'width': 53, 'height': 24, 'x_centre': 1002.5, 'y_centre': 273.0, 'grid_num': 69}, 'input': {'x_location': 976, 'y_location': 285, 'width': 67, 'height': 38, 'x_centre': 1009.5, 'y_centre': 304.0, 'grid_num': 69}}, '5': {'label': {'x_location': 66, 'y_location': 323, 'width': 120, 'height': 24, 'x_centre': 126.0, 'y_centre': 335.0, 'grid_num': 72}, 'input': {'x_location': 66, 'y_location': 347, 'width': 522, 'height': 38, 'x_centre': 327.0, 'y_centre': 366.0, 'grid_num': 83}}, '6': {'label': {'x_location': 612, 'y_location': 323, 'width': 75, 'height': 24, 'x_centre': 649.5, 'y_centre': 335.0, 'grid_num': 76}, 'input': {'x_location': 612, 'y_location': 347, 'width': 522, 'height': 38, 'x_centre': 873.0, 'y_centre': 366.0, 'grid_num': 88}}, '7': {'label': {'x_location': 66, 'y_location': 385, 'width': 38, 'height': 24, 'x_centre': 85.0, 'y_centre': 397.0, 'grid_num': 81}, 'input': {'x_location': 66, 'y_location': 409, 'width': 522, 'height': 38, 'x_centre': 327.0, 'y_centre': 428.0, 'grid_num': 93}}, '8': {'label': {'x_location': 612, 'y_location': 385, 'width': 73, 'height': 24, 'x_centre': 648.5, 'y_centre': 397.0, 'grid_num': 86}, 'input': {'x_location': 612, 'y_location': 409, 'width': 522, 'height': 38, 'x_centre': 873.0, 'y_centre': 428.0, 'grid_num': 98}}}, 'http://localhost:3000/webtrain10': {'1': {'label': {'x_location': 66, 'y_location': 137, 'width': 94, 'height': 24, 'x_centre': 113.0, 'y_centre': 149.0, 'grid_num': 31}, 'input': {'x_location': 66, 'y_location': 161, 'width': 267, 'height': 38, 'x_centre': 199.5, 'y_centre': 180.0, 'grid_num': 42}}, '2': {'label': {'x_location': 66, 'y_location': 199, 'width': 76, 'height': 24, 'x_centre': 104.0, 'y_centre': 211.0, 'grid_num': 51}, 'input': {'x_location': 66, 'y_location': 223, 'width': 178, 'height': 38, 'x_centre': 155.0, 'y_centre': 242.0, 'grid_num': 62}}, '3': {'label': {'x_location': 66, 'y_location': 261, 'width': 149, 'height': 24, 'x_centre': 140.5, 'y_centre': 273.0, 'grid_num': 72}, 'input': {'x_location': 66, 'y_location': 285, 'width': 356, 'height': 38, 'x_centre': 244.0, 'y_centre': 304.0, 'grid_num': 73}}, '4': {'label': {'x_location': 66, 'y_location': 323, 'width': 54, 'height': 24, 'x_centre': 93.0, 'y_centre': 335.0, 'grid_num': 81}, 'input': {'x_location': 66, 'y_location': 347, 'width': 178, 'height': 38, 'x_centre': 155.0, 'y_centre': 366.0, 'grid_num': 92}}}}\n"
     ]
    }
   ],
   "source": [
    "#view the output of training_setup\n",
    "\n",
    "with open(dict_web_dir, 'rb') as f:\n",
    "    dict_web_elements = pickle.load(f)\n",
    "\n",
    "print(\"\\nweb element details:\\n \", dict_web_elements)"
   ]
  },
  {
   "cell_type": "code",
   "execution_count": 8,
   "metadata": {},
   "outputs": [],
   "source": [
    "#instantiate environment\n",
    "\"\"\"\n",
    "Environment behaviour is defined\n",
    "\"\"\"\n",
    "env = EnvWeb(dict_web_dir, num_states,grid)"
   ]
  },
  {
   "cell_type": "code",
   "execution_count": 9,
   "metadata": {},
   "outputs": [
    {
     "data": {
      "text/plain": [
       "'\\n        \\n        Params\\n        ======\\n            n_episodes (int): maximum number of training episodes\\n            max_t (int): maximum number of timesteps per episode\\n            eps_start (float): starting value of epsilon, for epsilon-greedy action selection\\n            eps_end (float): minimum value of epsilon\\n            eps_decay (float): multiplicative factor (per episode) for decreasing epsilon\\n            terminal_score (float): mean of scores for lenght of score_window. training terminates when the mean reaches the specified score\\n           score_window (int): score of length score window is stored   \\n'"
      ]
     },
     "execution_count": 9,
     "metadata": {},
     "output_type": "execute_result"
    }
   ],
   "source": [
    "#instantiate training\n",
    "if training_required == True:\n",
    "    train = Training(num_states, num_vertical_grid, num_horizontal_grid, env)\n",
    "\n",
    "#taining parameters fo rdqn\n",
    "n_episodes=1000\n",
    "max_t=1\n",
    "eps_start=0.9\n",
    "eps_end=0.15\n",
    "eps_decay=0.99\n",
    "score_window = 100\n",
    "terminal_score = 0.09 #this is dependent on the environment setup reward system\n",
    "\n",
    "\"\"\"\n",
    "        \n",
    "        Params\n",
    "        ======\n",
    "            n_episodes (int): maximum number of training episodes\n",
    "            max_t (int): maximum number of timesteps per episode\n",
    "            eps_start (float): starting value of epsilon, for epsilon-greedy action selection\n",
    "            eps_end (float): minimum value of epsilon\n",
    "            eps_decay (float): multiplicative factor (per episode) for decreasing epsilon\n",
    "            terminal_score (float): mean of scores for lenght of score_window. training terminates when the mean reaches the specified score\n",
    "           score_window (int): score of length score window is stored   \n",
    "\"\"\""
   ]
  },
  {
   "cell_type": "code",
   "execution_count": 10,
   "metadata": {},
   "outputs": [
    {
     "name": "stdout",
     "output_type": "stream",
     "text": [
      "Episode 1000\tAverage Score: -0.08"
     ]
    }
   ],
   "source": [
    "if training_required == True:\n",
    "    scores = train.dqn(n_episodes, max_t, eps_start, eps_end, eps_decay,score_window,terminal_score)"
   ]
  },
  {
   "cell_type": "code",
   "execution_count": 11,
   "metadata": {},
   "outputs": [
    {
     "name": "stdout",
     "output_type": "stream",
     "text": [
      "all_states: \n",
      " {'http://localhost:3000/webtrain1': [array([31, 43, 48, 64, 73, 93, 98,  0,  0,  0,  0,  0,  0,  0,  0,  0,  0,\n",
      "        0,  0,  0]), array([36, 43, 48, 64, 73, 93, 98,  0,  0,  0,  0,  0,  0,  0,  0,  0,  0,\n",
      "        0,  0,  0]), array([51, 43, 48, 64, 73, 93, 98,  0,  0,  0,  0,  0,  0,  0,  0,  0,  0,\n",
      "        0,  0,  0]), array([71, 43, 48, 64, 73, 93, 98,  0,  0,  0,  0,  0,  0,  0,  0,  0,  0,\n",
      "        0,  0,  0]), array([82, 43, 48, 64, 73, 93, 98,  0,  0,  0,  0,  0,  0,  0,  0,  0,  0,\n",
      "        0,  0,  0]), array([86, 43, 48, 64, 73, 93, 98,  0,  0,  0,  0,  0,  0,  0,  0,  0,  0,\n",
      "        0,  0,  0])], 'http://localhost:3000/webtrain2': [array([31, 44, 54, 64, 83, 88, 91, 94,  0,  0,  0,  0,  0,  0,  0,  0,  0,\n",
      "        0,  0,  0]), array([41, 44, 54, 64, 83, 88, 91, 94,  0,  0,  0,  0,  0,  0,  0,  0,  0,\n",
      "        0,  0,  0]), array([61, 44, 54, 64, 83, 88, 91, 94,  0,  0,  0,  0,  0,  0,  0,  0,  0,\n",
      "        0,  0,  0]), array([71, 44, 54, 64, 83, 88, 91, 94,  0,  0,  0,  0,  0,  0,  0,  0,  0,\n",
      "        0,  0,  0]), array([76, 44, 54, 64, 83, 88, 91, 94,  0,  0,  0,  0,  0,  0,  0,  0,  0,\n",
      "        0,  0,  0]), array([81, 44, 54, 64, 83, 88, 91, 94,  0,  0,  0,  0,  0,  0,  0,  0,  0,\n",
      "        0,  0,  0]), array([82, 44, 54, 64, 83, 88, 91, 94,  0,  0,  0,  0,  0,  0,  0,  0,  0,\n",
      "        0,  0,  0])], 'http://localhost:3000/webtrain3': [array([31, 43, 55, 62, 66, 82, 86, 93, 98,  0,  0,  0,  0,  0,  0,  0,  0,\n",
      "        0,  0,  0]), array([41, 43, 55, 62, 66, 82, 86, 93, 98,  0,  0,  0,  0,  0,  0,  0,  0,\n",
      "        0,  0,  0]), array([61, 43, 55, 62, 66, 82, 86, 93, 98,  0,  0,  0,  0,  0,  0,  0,  0,\n",
      "        0,  0,  0]), array([65, 43, 55, 62, 66, 82, 86, 93, 98,  0,  0,  0,  0,  0,  0,  0,  0,\n",
      "        0,  0,  0]), array([71, 43, 55, 62, 66, 82, 86, 93, 98,  0,  0,  0,  0,  0,  0,  0,  0,\n",
      "        0,  0,  0]), array([73, 43, 55, 62, 66, 82, 86, 93, 98,  0,  0,  0,  0,  0,  0,  0,  0,\n",
      "        0,  0,  0]), array([81, 43, 55, 62, 66, 82, 86, 93, 98,  0,  0,  0,  0,  0,  0,  0,  0,\n",
      "        0,  0,  0]), array([86, 43, 55, 62, 66, 82, 86, 93, 98,  0,  0,  0,  0,  0,  0,  0,  0,\n",
      "        0,  0,  0])], 'http://localhost:3000/webtrain4': [array([31, 43, 48, 64, 72, 75, 93, 98,  0,  0,  0,  0,  0,  0,  0,  0,  0,\n",
      "        0,  0,  0]), array([36, 43, 48, 64, 72, 75, 93, 98,  0,  0,  0,  0,  0,  0,  0,  0,  0,\n",
      "        0,  0,  0]), array([51, 43, 48, 64, 72, 75, 93, 98,  0,  0,  0,  0,  0,  0,  0,  0,  0,\n",
      "        0,  0,  0]), array([71, 43, 48, 64, 72, 75, 93, 98,  0,  0,  0,  0,  0,  0,  0,  0,  0,\n",
      "        0,  0,  0]), array([74, 43, 48, 64, 72, 75, 93, 98,  0,  0,  0,  0,  0,  0,  0,  0,  0,\n",
      "        0,  0,  0]), array([81, 43, 48, 64, 72, 75, 93, 98,  0,  0,  0,  0,  0,  0,  0,  0,  0,\n",
      "        0,  0,  0]), array([86, 43, 48, 64, 72, 75, 93, 98,  0,  0,  0,  0,  0,  0,  0,  0,  0,\n",
      "        0,  0,  0])], 'http://localhost:3000/webtrain5': [array([32, 43, 48, 61, 63, 72, 73, 94, 99,  0,  0,  0,  0,  0,  0,  0,  0,\n",
      "        0,  0,  0]), array([36, 43, 48, 61, 63, 72, 73, 94, 99,  0,  0,  0,  0,  0,  0,  0,  0,\n",
      "        0,  0,  0]), array([51, 43, 48, 61, 63, 72, 73, 94, 99,  0,  0,  0,  0,  0,  0,  0,  0,\n",
      "        0,  0,  0]), array([52, 43, 48, 61, 63, 72, 73, 94, 99,  0,  0,  0,  0,  0,  0,  0,  0,\n",
      "        0,  0,  0]), array([71, 43, 48, 61, 63, 72, 73, 94, 99,  0,  0,  0,  0,  0,  0,  0,  0,\n",
      "        0,  0,  0]), array([73, 43, 48, 61, 63, 72, 73, 94, 99,  0,  0,  0,  0,  0,  0,  0,  0,\n",
      "        0,  0,  0]), array([81, 43, 48, 61, 63, 72, 73, 94, 99,  0,  0,  0,  0,  0,  0,  0,  0,\n",
      "        0,  0,  0]), array([88, 43, 48, 61, 63, 72, 73, 94, 99,  0,  0,  0,  0,  0,  0,  0,  0,\n",
      "        0,  0,  0])], 'http://localhost:3000/webtrain6': [array([32, 43, 48, 63, 68, 73, 78, 93,  0,  0,  0,  0,  0,  0,  0,  0,  0,\n",
      "        0,  0,  0]), array([36, 43, 48, 63, 68, 73, 78, 93,  0,  0,  0,  0,  0,  0,  0,  0,  0,\n",
      "        0,  0,  0]), array([52, 43, 48, 63, 68, 73, 78, 93,  0,  0,  0,  0,  0,  0,  0,  0,  0,\n",
      "        0,  0,  0]), array([56, 43, 48, 63, 68, 73, 78, 93,  0,  0,  0,  0,  0,  0,  0,  0,  0,\n",
      "        0,  0,  0]), array([71, 43, 48, 63, 68, 73, 78, 93,  0,  0,  0,  0,  0,  0,  0,  0,  0,\n",
      "        0,  0,  0]), array([76, 43, 48, 63, 68, 73, 78, 93,  0,  0,  0,  0,  0,  0,  0,  0,  0,\n",
      "        0,  0,  0]), array([81, 43, 48, 63, 68, 73, 78, 93,  0,  0,  0,  0,  0,  0,  0,  0,  0,\n",
      "        0,  0,  0])], 'http://localhost:3000/webtrain7': [array([31, 42, 45, 63, 68, 73, 76, 93, 98,  0,  0,  0,  0,  0,  0,  0,  0,\n",
      "        0,  0,  0]), array([35, 42, 45, 63, 68, 73, 76, 93, 98,  0,  0,  0,  0,  0,  0,  0,  0,\n",
      "        0,  0,  0]), array([51, 42, 45, 63, 68, 73, 76, 93, 98,  0,  0,  0,  0,  0,  0,  0,  0,\n",
      "        0,  0,  0]), array([56, 42, 45, 63, 68, 73, 76, 93, 98,  0,  0,  0,  0,  0,  0,  0,  0,\n",
      "        0,  0,  0]), array([71, 42, 45, 63, 68, 73, 76, 93, 98,  0,  0,  0,  0,  0,  0,  0,  0,\n",
      "        0,  0,  0]), array([76, 42, 45, 63, 68, 73, 76, 93, 98,  0,  0,  0,  0,  0,  0,  0,  0,\n",
      "        0,  0,  0]), array([81, 42, 45, 63, 68, 73, 76, 93, 98,  0,  0,  0,  0,  0,  0,  0,  0,\n",
      "        0,  0,  0]), array([86, 42, 45, 63, 68, 73, 76, 93, 98,  0,  0,  0,  0,  0,  0,  0,  0,\n",
      "        0,  0,  0])], 'http://localhost:3000/webtrain8': [array([32, 43, 48, 53, 65, 84, 93, 98,  0,  0,  0,  0,  0,  0,  0,  0,  0,\n",
      "        0,  0,  0]), array([36, 43, 48, 53, 65, 84, 93, 98,  0,  0,  0,  0,  0,  0,  0,  0,  0,\n",
      "        0,  0,  0]), array([41, 43, 48, 53, 65, 84, 93, 98,  0,  0,  0,  0,  0,  0,  0,  0,  0,\n",
      "        0,  0,  0]), array([61, 43, 48, 53, 65, 84, 93, 98,  0,  0,  0,  0,  0,  0,  0,  0,  0,\n",
      "        0,  0,  0]), array([71, 43, 48, 53, 65, 84, 93, 98,  0,  0,  0,  0,  0,  0,  0,  0,  0,\n",
      "        0,  0,  0]), array([81, 43, 48, 53, 65, 84, 93, 98,  0,  0,  0,  0,  0,  0,  0,  0,  0,\n",
      "        0,  0,  0]), array([86, 43, 48, 53, 65, 84, 93, 98,  0,  0,  0,  0,  0,  0,  0,  0,  0,\n",
      "        0,  0,  0])], 'http://localhost:3000/webtrain9': [array([32, 44, 53, 65, 69, 83, 88, 93, 98,  0,  0,  0,  0,  0,  0,  0,  0,\n",
      "        0,  0,  0]), array([41, 44, 53, 65, 69, 83, 88, 93, 98,  0,  0,  0,  0,  0,  0,  0,  0,\n",
      "        0,  0,  0]), array([61, 44, 53, 65, 69, 83, 88, 93, 98,  0,  0,  0,  0,  0,  0,  0,  0,\n",
      "        0,  0,  0]), array([69, 44, 53, 65, 69, 83, 88, 93, 98,  0,  0,  0,  0,  0,  0,  0,  0,\n",
      "        0,  0,  0]), array([72, 44, 53, 65, 69, 83, 88, 93, 98,  0,  0,  0,  0,  0,  0,  0,  0,\n",
      "        0,  0,  0]), array([76, 44, 53, 65, 69, 83, 88, 93, 98,  0,  0,  0,  0,  0,  0,  0,  0,\n",
      "        0,  0,  0]), array([81, 44, 53, 65, 69, 83, 88, 93, 98,  0,  0,  0,  0,  0,  0,  0,  0,\n",
      "        0,  0,  0]), array([86, 44, 53, 65, 69, 83, 88, 93, 98,  0,  0,  0,  0,  0,  0,  0,  0,\n",
      "        0,  0,  0])], 'http://localhost:3000/webtrain10': [array([31, 42, 62, 73, 92,  0,  0,  0,  0,  0,  0,  0,  0,  0,  0,  0,  0,\n",
      "        0,  0,  0]), array([51, 42, 62, 73, 92,  0,  0,  0,  0,  0,  0,  0,  0,  0,  0,  0,  0,\n",
      "        0,  0,  0]), array([72, 42, 62, 73, 92,  0,  0,  0,  0,  0,  0,  0,  0,  0,  0,  0,  0,\n",
      "        0,  0,  0]), array([81, 42, 62, 73, 92,  0,  0,  0,  0,  0,  0,  0,  0,  0,  0,  0,  0,\n",
      "        0,  0,  0])]}\n",
      "Expected actions:\n",
      " {'http://localhost:3000/webtrain1': [43, 48, 64, 73, 93, 98], 'http://localhost:3000/webtrain2': [44, 54, 64, 83, 88, 91, 94], 'http://localhost:3000/webtrain3': [43, 55, 62, 66, 82, 86, 93, 98], 'http://localhost:3000/webtrain4': [43, 48, 64, 72, 75, 93, 98], 'http://localhost:3000/webtrain5': [43, 48, 61, 63, 72, 73, 94, 99], 'http://localhost:3000/webtrain6': [43, 48, 63, 68, 73, 78, 93], 'http://localhost:3000/webtrain7': [42, 45, 63, 68, 73, 76, 93, 98], 'http://localhost:3000/webtrain8': [43, 48, 53, 65, 84, 93, 98], 'http://localhost:3000/webtrain9': [44, 53, 65, 69, 83, 88, 93, 98], 'http://localhost:3000/webtrain10': [42, 62, 73, 92]}\n"
     ]
    }
   ],
   "source": [
    "#get all tthe states and corresponding actions for the training set\n",
    "all_states, expected_actions = env.reset_test()\n",
    "print(\"all_states: \\n\", all_states)\n",
    "print(\"Expected actions:\\n\", expected_actions)"
   ]
  },
  {
   "cell_type": "code",
   "execution_count": 12,
   "metadata": {},
   "outputs": [
    {
     "name": "stdout",
     "output_type": "stream",
     "text": [
      "{'http://localhost:3000/webtrain1': [19, 19, 19, 98, 98, 98], 'http://localhost:3000/webtrain2': [5, 53, 53, 97, 97, 40, 40], 'http://localhost:3000/webtrain3': [1, 12, 26, 97, 97, 97, 40, 40], 'http://localhost:3000/webtrain4': [56, 48, 19, 19, 19, 98, 98], 'http://localhost:3000/webtrain5': [5, 92, 92, 92, 48, 48, 48, 48], 'http://localhost:3000/webtrain6': [29, 29, 56, 56, 56, 56, 56], 'http://localhost:3000/webtrain7': [39, 94, 94, 94, 5, 5, 5, 23], 'http://localhost:3000/webtrain8': [97, 97, 97, 3, 9, 37, 37], 'http://localhost:3000/webtrain9': [12, 12, 3, 3, 3, 11, 11, 11], 'http://localhost:3000/webtrain10': [99, 99, 33, 33]}\n"
     ]
    }
   ],
   "source": [
    "#instantiate dqn execution and outputs for each state of training set\n",
    "\n",
    "#for env \n",
    "execute = DQNExecution(num_states, num_vertical_grid, num_horizontal_grid, env)\n",
    "dqn_actions = {}\n",
    "for webpages in all_states:\n",
    "    actions = []\n",
    "    for state in all_states[webpages]:\n",
    "        action = execute.dqn_execute(state/(num_vertical_grid*num_horizontal_grid)) #normalize\n",
    "        actions.append(action)\n",
    "    dqn_actions[webpages] = actions\n",
    "\n",
    "print(dqn_actions)\n"
   ]
  },
  {
   "cell_type": "code",
   "execution_count": 13,
   "metadata": {},
   "outputs": [
    {
     "name": "stdout",
     "output_type": "stream",
     "text": [
      "{'http://localhost:3000/webtrain1': {64, 73, 43, 48, 93}, 'http://localhost:3000/webtrain2': {64, 44, 83, 54, 88, 91, 94}, 'http://localhost:3000/webtrain3': {66, 98, 43, 82, 86, 55, 93, 62}, 'http://localhost:3000/webtrain4': {64, 72, 43, 75, 93}, 'http://localhost:3000/webtrain5': {99, 72, 73, 43, 61, 94, 63}, 'http://localhost:3000/webtrain6': {68, 73, 43, 78, 48, 93, 63}, 'http://localhost:3000/webtrain7': {98, 68, 73, 42, 76, 45, 93, 63}, 'http://localhost:3000/webtrain8': {65, 98, 43, 48, 84, 53, 93}, 'http://localhost:3000/webtrain9': {65, 98, 69, 44, 83, 53, 88, 93}, 'http://localhost:3000/webtrain10': {73, 42, 92, 62}}\n"
     ]
    }
   ],
   "source": [
    "#Evaluation of training set\n",
    "\n",
    "\n",
    "#for env\n",
    "diff_inputs = {} # stores mismatched elements\n",
    "for webpage in expected_actions:\n",
    "    \n",
    "    set_expected = set(expected_actions[webpage])\n",
    "    bot_expected = set(dqn_actions[webpage])\n",
    "    diff_set = set_expected - bot_expected\n",
    "    if len(diff_set)!=0:\n",
    "        diff_inputs[webpage] = set_expected - bot_expected\n",
    "\n",
    "\n",
    "print(diff_inputs)\n"
   ]
  },
  {
   "cell_type": "code",
   "execution_count": 14,
   "metadata": {},
   "outputs": [
    {
     "name": "stderr",
     "output_type": "stream",
     "text": [
      "/Library/Frameworks/Python.framework/Versions/3.8/lib/python3.8/site-packages/selenium/webdriver/remote/webelement.py:352: UserWarning: name used for saved screenshot does not match file type. It should end with a `.png` extension\n",
      "  warnings.warn(\n"
     ]
    }
   ],
   "source": [
    "#navigation of training set. screen shots of entires made are taken for reference\n",
    "nav_web = NavigateWeb(window_size, grid)\n",
    "\n",
    "for webpage in dqn_actions:\n",
    "    nav_web.main(webpage, dict_web_elements[webpage],dqn_actions[webpage], screenshots_dir)\n",
    "nav_web.close_webpage()"
   ]
  },
  {
   "cell_type": "code",
   "execution_count": 16,
   "metadata": {},
   "outputs": [
    {
     "name": "stderr",
     "output_type": "stream",
     "text": [
      "/Library/Frameworks/Python.framework/Versions/3.8/lib/python3.8/site-packages/selenium/webdriver/remote/webelement.py:352: UserWarning: name used for saved screenshot does not match file type. It should end with a `.png` extension\n",
      "  warnings.warn(\n"
     ]
    },
    {
     "name": "stdout",
     "output_type": "stream",
     "text": [
      "all_states: \n",
      " {'http://localhost:3000/webtest1': [array([31, 43, 48, 52, 64, 83, 88, 92, 96,  0,  0,  0,  0,  0,  0,  0,  0,\n",
      "        0,  0,  0]), array([36, 43, 48, 52, 64, 83, 88, 92, 96,  0,  0,  0,  0,  0,  0,  0,  0,\n",
      "        0,  0,  0]), array([51, 43, 48, 52, 64, 83, 88, 92, 96,  0,  0,  0,  0,  0,  0,  0,  0,\n",
      "        0,  0,  0]), array([54, 43, 48, 52, 64, 83, 88, 92, 96,  0,  0,  0,  0,  0,  0,  0,  0,\n",
      "        0,  0,  0]), array([72, 43, 48, 52, 64, 83, 88, 92, 96,  0,  0,  0,  0,  0,  0,  0,  0,\n",
      "        0,  0,  0]), array([76, 43, 48, 52, 64, 83, 88, 92, 96,  0,  0,  0,  0,  0,  0,  0,  0,\n",
      "        0,  0,  0]), array([82, 43, 48, 52, 64, 83, 88, 92, 96,  0,  0,  0,  0,  0,  0,  0,  0,\n",
      "        0,  0,  0]), array([83, 43, 48, 52, 64, 83, 88, 92, 96,  0,  0,  0,  0,  0,  0,  0,  0,\n",
      "        0,  0,  0])], 'http://localhost:3000/webtest2': [array([31, 44, 52, 62, 66, 83, 88, 95,  0,  0,  0,  0,  0,  0,  0,  0,  0,\n",
      "        0,  0,  0]), array([41, 44, 52, 62, 66, 83, 88, 95,  0,  0,  0,  0,  0,  0,  0,  0,  0,\n",
      "        0,  0,  0]), array([61, 44, 52, 62, 66, 83, 88, 95,  0,  0,  0,  0,  0,  0,  0,  0,  0,\n",
      "        0,  0,  0]), array([64, 44, 52, 62, 66, 83, 88, 95,  0,  0,  0,  0,  0,  0,  0,  0,  0,\n",
      "        0,  0,  0]), array([71, 44, 52, 62, 66, 83, 88, 95,  0,  0,  0,  0,  0,  0,  0,  0,  0,\n",
      "        0,  0,  0]), array([76, 44, 52, 62, 66, 83, 88, 95,  0,  0,  0,  0,  0,  0,  0,  0,  0,\n",
      "        0,  0,  0]), array([81, 44, 52, 62, 66, 83, 88, 95,  0,  0,  0,  0,  0,  0,  0,  0,  0,\n",
      "        0,  0,  0])], 'http://localhost:3000/webtest3': [array([31, 42, 53, 58, 81, 92,  0,  0,  0,  0,  0,  0,  0,  0,  0,  0,  0,\n",
      "        0,  0,  0]), array([51, 42, 53, 58, 81, 92,  0,  0,  0,  0,  0,  0,  0,  0,  0,  0,  0,\n",
      "        0,  0,  0]), array([56, 42, 53, 58, 81, 92,  0,  0,  0,  0,  0,  0,  0,  0,  0,  0,  0,\n",
      "        0,  0,  0]), array([61, 42, 53, 58, 81, 92,  0,  0,  0,  0,  0,  0,  0,  0,  0,  0,  0,\n",
      "        0,  0,  0]), array([81, 42, 53, 58, 81, 92,  0,  0,  0,  0,  0,  0,  0,  0,  0,  0,  0,\n",
      "        0,  0,  0])], 'http://localhost:3000/webtest4': [array([31, 42, 62, 64, 73, 78, 95,  0,  0,  0,  0,  0,  0,  0,  0,  0,  0,\n",
      "        0,  0,  0]), array([51, 42, 62, 64, 73, 78, 95,  0,  0,  0,  0,  0,  0,  0,  0,  0,  0,\n",
      "        0,  0,  0]), array([54, 42, 62, 64, 73, 78, 95,  0,  0,  0,  0,  0,  0,  0,  0,  0,  0,\n",
      "        0,  0,  0]), array([71, 42, 62, 64, 73, 78, 95,  0,  0,  0,  0,  0,  0,  0,  0,  0,  0,\n",
      "        0,  0,  0]), array([76, 42, 62, 64, 73, 78, 95,  0,  0,  0,  0,  0,  0,  0,  0,  0,  0,\n",
      "        0,  0,  0]), array([81, 42, 62, 64, 73, 78, 95,  0,  0,  0,  0,  0,  0,  0,  0,  0,  0,\n",
      "        0,  0,  0])], 'http://localhost:3000/webtest5': [array([32, 42, 44, 61, 73, 78, 94, 98,  0,  0,  0,  0,  0,  0,  0,  0,  0,\n",
      "        0,  0,  0]), array([33, 42, 44, 61, 73, 78, 94, 98,  0,  0,  0,  0,  0,  0,  0,  0,  0,\n",
      "        0,  0,  0]), array([51, 42, 44, 61, 73, 78, 94, 98,  0,  0,  0,  0,  0,  0,  0,  0,  0,\n",
      "        0,  0,  0]), array([71, 42, 44, 61, 73, 78, 94, 98,  0,  0,  0,  0,  0,  0,  0,  0,  0,\n",
      "        0,  0,  0]), array([76, 42, 44, 61, 73, 78, 94, 98,  0,  0,  0,  0,  0,  0,  0,  0,  0,\n",
      "        0,  0,  0]), array([81, 42, 44, 61, 73, 78, 94, 98,  0,  0,  0,  0,  0,  0,  0,  0,  0,\n",
      "        0,  0,  0]), array([87, 42, 44, 61, 73, 78, 94, 98,  0,  0,  0,  0,  0,  0,  0,  0,  0,\n",
      "        0,  0,  0])], 'http://localhost:3000/webtest6': [array([32, 43, 47, 63, 65, 72, 95,  0,  0,  0,  0,  0,  0,  0,  0,  0,  0,\n",
      "        0,  0,  0]), array([35, 43, 47, 63, 65, 72, 95,  0,  0,  0,  0,  0,  0,  0,  0,  0,  0,\n",
      "        0,  0,  0]), array([52, 43, 47, 63, 65, 72, 95,  0,  0,  0,  0,  0,  0,  0,  0,  0,  0,\n",
      "        0,  0,  0]), array([55, 43, 47, 63, 65, 72, 95,  0,  0,  0,  0,  0,  0,  0,  0,  0,  0,\n",
      "        0,  0,  0]), array([71, 43, 47, 63, 65, 72, 95,  0,  0,  0,  0,  0,  0,  0,  0,  0,  0,\n",
      "        0,  0,  0]), array([81, 43, 47, 63, 65, 72, 95,  0,  0,  0,  0,  0,  0,  0,  0,  0,  0,\n",
      "        0,  0,  0])], 'http://localhost:3000/webtest7': [array([31, 44, 62, 73, 78, 93,  0,  0,  0,  0,  0,  0,  0,  0,  0,  0,  0,\n",
      "        0,  0,  0]), array([51, 44, 62, 73, 78, 93,  0,  0,  0,  0,  0,  0,  0,  0,  0,  0,  0,\n",
      "        0,  0,  0]), array([71, 44, 62, 73, 78, 93,  0,  0,  0,  0,  0,  0,  0,  0,  0,  0,  0,\n",
      "        0,  0,  0]), array([76, 44, 62, 73, 78, 93,  0,  0,  0,  0,  0,  0,  0,  0,  0,  0,  0,\n",
      "        0,  0,  0]), array([81, 44, 62, 73, 78, 93,  0,  0,  0,  0,  0,  0,  0,  0,  0,  0,  0,\n",
      "        0,  0,  0])], 'http://localhost:3000/webtest8': [array([32, 42, 47, 54, 64, 83, 94,  0,  0,  0,  0,  0,  0,  0,  0,  0,  0,\n",
      "        0,  0,  0]), array([34, 42, 47, 54, 64, 83, 94,  0,  0,  0,  0,  0,  0,  0,  0,  0,  0,\n",
      "        0,  0,  0]), array([41, 42, 47, 54, 64, 83, 94,  0,  0,  0,  0,  0,  0,  0,  0,  0,  0,\n",
      "        0,  0,  0]), array([61, 42, 47, 54, 64, 83, 94,  0,  0,  0,  0,  0,  0,  0,  0,  0,  0,\n",
      "        0,  0,  0]), array([71, 42, 47, 54, 64, 83, 94,  0,  0,  0,  0,  0,  0,  0,  0,  0,  0,\n",
      "        0,  0,  0]), array([81, 42, 47, 54, 64, 83, 94,  0,  0,  0,  0,  0,  0,  0,  0,  0,  0,\n",
      "        0,  0,  0])], 'http://localhost:3000/webtest9': [array([32, 44, 48, 63, 66, 73, 77, 93, 98,  0,  0,  0,  0,  0,  0,  0,  0,\n",
      "        0,  0,  0]), array([38, 44, 48, 63, 66, 73, 77, 93, 98,  0,  0,  0,  0,  0,  0,  0,  0,\n",
      "        0,  0,  0]), array([51, 44, 48, 63, 66, 73, 77, 93, 98,  0,  0,  0,  0,  0,  0,  0,  0,\n",
      "        0,  0,  0]), array([56, 44, 48, 63, 66, 73, 77, 93, 98,  0,  0,  0,  0,  0,  0,  0,  0,\n",
      "        0,  0,  0]), array([72, 44, 48, 63, 66, 73, 77, 93, 98,  0,  0,  0,  0,  0,  0,  0,  0,\n",
      "        0,  0,  0]), array([76, 44, 48, 63, 66, 73, 77, 93, 98,  0,  0,  0,  0,  0,  0,  0,  0,\n",
      "        0,  0,  0]), array([81, 44, 48, 63, 66, 73, 77, 93, 98,  0,  0,  0,  0,  0,  0,  0,  0,\n",
      "        0,  0,  0]), array([86, 44, 48, 63, 66, 73, 77, 93, 98,  0,  0,  0,  0,  0,  0,  0,  0,\n",
      "        0,  0,  0])], 'http://localhost:3000/webtest10': [array([31, 43, 64, 69, 73, 78, 93,  0,  0,  0,  0,  0,  0,  0,  0,  0,  0,\n",
      "        0,  0,  0]), array([51, 43, 64, 69, 73, 78, 93,  0,  0,  0,  0,  0,  0,  0,  0,  0,  0,\n",
      "        0,  0,  0]), array([58, 43, 64, 69, 73, 78, 93,  0,  0,  0,  0,  0,  0,  0,  0,  0,  0,\n",
      "        0,  0,  0]), array([71, 43, 64, 69, 73, 78, 93,  0,  0,  0,  0,  0,  0,  0,  0,  0,  0,\n",
      "        0,  0,  0]), array([76, 43, 64, 69, 73, 78, 93,  0,  0,  0,  0,  0,  0,  0,  0,  0,  0,\n",
      "        0,  0,  0]), array([82, 43, 64, 69, 73, 78, 93,  0,  0,  0,  0,  0,  0,  0,  0,  0,  0,\n",
      "        0,  0,  0])]}\n",
      "Expected actions:\n",
      " {'http://localhost:3000/webtest1': [43, 48, 52, 64, 83, 88, 92, 96], 'http://localhost:3000/webtest2': [44, 52, 62, 66, 83, 88, 95], 'http://localhost:3000/webtest3': [42, 53, 58, 81, 92], 'http://localhost:3000/webtest4': [42, 62, 64, 73, 78, 95], 'http://localhost:3000/webtest5': [42, 44, 61, 73, 78, 94, 98], 'http://localhost:3000/webtest6': [43, 47, 63, 65, 72, 95], 'http://localhost:3000/webtest7': [44, 62, 73, 78, 93], 'http://localhost:3000/webtest8': [42, 47, 54, 64, 83, 94], 'http://localhost:3000/webtest9': [44, 48, 63, 66, 73, 77, 93, 98], 'http://localhost:3000/webtest10': [43, 64, 69, 73, 78, 93]}\n"
     ]
    }
   ],
   "source": [
    "#navigating test sets\n",
    "#webpages_test = [\"http://localhost:3000/webtest1\"]\n",
    "webpages_test = [\"http://localhost:3000/webtest1\",\"http://localhost:3000/webtest2\", \"http://localhost:3000/webtest3\",\"http://localhost:3000/webtest4\",\"http://localhost:3000/webtest5\",\"http://localhost:3000/webtest6\",\"http://localhost:3000/webtest7\",\"http://localhost:3000/webtest8\",\"http://localhost:3000/webtest9\",\"http://localhost:3000/webtest10\"]\n",
    "\n",
    "dict_web_dir_test = '../data/element_dictionary_test.pkl' #location of input and label fields and grid numbers stored as dictionary after processing\n",
    "screenshots_dir = '../screenshots/' #directory to help visulaization\n",
    "\n",
    "#instantiate training setup\n",
    "\"\"\" \n",
    "webpage ids are extracted and prepped for training\n",
    "outputs dictionary of input and label locations and grid nums\n",
    "\"\"\"\n",
    "if training_required == True:\n",
    "    open_web = TrainingSetup(webpages_test,window_size,grid)\n",
    "    open_web.main(dict_web_dir_test, screenshots_dir)\n",
    "\n",
    "\n",
    "#view the output of test_setup\n",
    "\n",
    "with open(dict_web_dir_test, 'rb') as f:\n",
    "    dict_web_elements_test = pickle.load(f)\n",
    "\n",
    "\n",
    "#instantiate test environment\n",
    "\"\"\"\n",
    "Environment behaviour is defined\n",
    "\"\"\"\n",
    "env_test = EnvWeb(dict_web_dir_test, num_states,grid)\n",
    "\n",
    "\n",
    "#get all tthe states and corresponding actions for the test set\n",
    "all_states, actions_expected_test = env_test.reset_test()\n",
    "print(\"all_states: \\n\", all_states)\n",
    "print(\"Expected actions:\\n\", actions_expected_test)"
   ]
  },
  {
   "cell_type": "code",
   "execution_count": 17,
   "metadata": {},
   "outputs": [
    {
     "name": "stdout",
     "output_type": "stream",
     "text": [
      "dqn action output:\n",
      " {'http://localhost:3000/webtest1': [50, 50, 50, 50, 50, 50, 50, 50], 'http://localhost:3000/webtest2': [50, 50, 50, 50, 50, 50, 50], 'http://localhost:3000/webtest3': [50, 50, 50, 50, 50], 'http://localhost:3000/webtest4': [50, 50, 50, 50, 50, 50], 'http://localhost:3000/webtest5': [50, 50, 50, 50, 50, 50, 50], 'http://localhost:3000/webtest6': [50, 50, 50, 50, 50, 50], 'http://localhost:3000/webtest7': [50, 50, 50, 50, 50], 'http://localhost:3000/webtest8': [50, 50, 50, 50, 50, 50], 'http://localhost:3000/webtest9': [50, 50, 50, 50, 50, 50, 50, 50], 'http://localhost:3000/webtest10': [50, 50, 50, 50, 50, 50]}\n",
      "mismatch between expected and dqn calculated:\n",
      " {'http://localhost:3000/webtest1': {64, 96, 43, 48, 83, 52, 88, 92}, 'http://localhost:3000/webtest2': {66, 44, 83, 52, 88, 62, 95}, 'http://localhost:3000/webtest3': {42, 81, 53, 58, 92}, 'http://localhost:3000/webtest4': {64, 73, 42, 78, 62, 95}, 'http://localhost:3000/webtest5': {98, 73, 42, 44, 78, 61, 94}, 'http://localhost:3000/webtest6': {65, 72, 43, 47, 63, 95}, 'http://localhost:3000/webtest7': {73, 44, 78, 93, 62}, 'http://localhost:3000/webtest8': {64, 42, 47, 83, 54, 94}, 'http://localhost:3000/webtest9': {66, 98, 73, 44, 77, 48, 93, 63}, 'http://localhost:3000/webtest10': {64, 69, 73, 43, 78, 93}}\n"
     ]
    }
   ],
   "source": [
    "#instantiate dqn execution and outputs for each state of test set\n",
    "execute_test = DQNExecution(num_states, num_vertical_grid, num_horizontal_grid, env_test)\n",
    "dqn_actions_test = {}\n",
    "for webpages in all_states:\n",
    "    actions = []\n",
    "    for state in all_states[webpages]:\n",
    "        action = execute_test.dqn_execute(state)\n",
    "        actions.append(action)\n",
    "    dqn_actions_test[webpages] = actions\n",
    "\n",
    "print(\"dqn action output:\\n\",dqn_actions_test)\n",
    "\n",
    "\n",
    "#Evaluation of test set\n",
    "diff_inputs_test = {} # stores mismatched elements\n",
    "for webpage in actions_expected_test:\n",
    "    \n",
    "    set_expected = set(actions_expected_test[webpage])\n",
    "    bot_expected = set(dqn_actions_test[webpage])\n",
    "    diff_set = set_expected - bot_expected\n",
    "    if len(diff_set)!=0:\n",
    "        diff_inputs_test[webpage] = set_expected - bot_expected\n",
    "\n",
    "\n",
    "print(\"mismatch between expected and dqn calculated:\\n\",diff_inputs_test)"
   ]
  },
  {
   "cell_type": "code",
   "execution_count": 18,
   "metadata": {},
   "outputs": [
    {
     "name": "stderr",
     "output_type": "stream",
     "text": [
      "/Library/Frameworks/Python.framework/Versions/3.8/lib/python3.8/site-packages/selenium/webdriver/remote/webelement.py:352: UserWarning: name used for saved screenshot does not match file type. It should end with a `.png` extension\n",
      "  warnings.warn(\n"
     ]
    }
   ],
   "source": [
    "#navigation of training set. screen shots of entires made are taken for reference\n",
    "nav_web_test = NavigateWeb(window_size, grid)\n",
    "for webpage in dqn_actions_test:\n",
    "    nav_web_test.main(webpage, dict_web_elements_test[webpage],dqn_actions_test[webpage], screenshots_dir)\n",
    "nav_web_test.close_webpage()"
   ]
  }
 ],
 "metadata": {
  "kernelspec": {
   "display_name": "Python 3",
   "language": "python",
   "name": "python3"
  },
  "language_info": {
   "codemirror_mode": {
    "name": "ipython",
    "version": 3
   },
   "file_extension": ".py",
   "mimetype": "text/x-python",
   "name": "python",
   "nbconvert_exporter": "python",
   "pygments_lexer": "ipython3",
   "version": "3.8.0"
  },
  "orig_nbformat": 4
 },
 "nbformat": 4,
 "nbformat_minor": 2
}
